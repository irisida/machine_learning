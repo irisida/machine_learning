{
 "cells": [
  {
   "cell_type": "markdown",
   "metadata": {},
   "source": [
    "# Text Classification\n",
    "\n",
    "![nlp](https://wrm5sysfkg-flywheel.netdna-ssl.com/wp-content/uploads/2019/01/NLP-Technology-in-Healthcare.jpg)"
   ]
  },
  {
   "cell_type": "markdown",
   "metadata": {},
   "source": [
    "The section goals are to understand the machine learning basics, to understand what classification metrics are. We will then look at text feature extraction and use python with Scikit-learn to perform classification on some real data sets. \n",
    "\n",
    "#### Q: What are we doing here?\n",
    "A: To conceptualise what we're doing here we need to understand that it is what is known as _\"supervised learning\"_. An interesting additional text in this area of study is [an Introduction to statistical learning](http://faculty.marshall.usc.edu/gareth-james/ISL/) in which the student can get a better grasp of the mathematics involved in machine learning, largely linear algebra, calculus. \n",
    "\n",
    "#### Q: So, what is machine learning?\n",
    "A: Essentially it's a method of data analysis that automates analytical model building by using algorithms that iteratively learn from the data being processed or worked upon. Machine learning facilitates computers identifying hidden insights in data without being explicitly programmed to do so.  \n",
    "\n",
    "#### Q: OK, What is it used for? \n",
    "A: OK, here goes... Fraud detection, web search results, real time ads on web pages, credit scoring and next best offer, prediction of failure and equipment failure, pricing models, network intrusion detection, recommender engines, customer segmentation, sentiment analysis, churn prediction, pattern and image recognition, spam filtering... Once upon a time they used to say javascript was eating the world, now in late 2020 it's ML that's eating the world. \n",
    "\n",
    "#### Q: So what is supervised learning?\n",
    "A: supervised learning algorithms are rained on what call 'labeled data', that means data where the desired output is known. typically our data in such circumstances is retrospective and has been classified and we're working to get the machine to successfully arrive at conclusion we can cross reference with the real output or result. In automated terms the machine can adjust its weights in an algorithm to tweak it's processing where it can see the prediction is not the same as the known output. The common usage, or scenario where supervised learning is undertaken is for applications where historical data predicts likely suture events. \n",
    "\n",
    "#### Q: So what does the supervised learning process look like?\n",
    "A: It is a multi step process. \n",
    "1. Data Acquisition\n",
    "2. Data cleaning (formatting, vectorization, feature extraction, null cleaning)\n",
    "3. Split between test data and training data becaise you don't want to test your model on data it has already seen and processed. Here is can be anything between 65/35 to 85/15 split ratio. Ultimately the more training data you have the _better_ the result you're likely to get. (loosely speaking) \n",
    "4. Fit and evaluate your model on testing data.\n",
    "5. we repeat steps 3 & 4 until we have a workable result we want to deploy or we abandon as not a good model and look to iterate on corrective steps, starting at point 1 again and improving all steps in pursuit of a better result.\n",
    "\n",
    "Some common terms that may be encountered in the data collection, cleansing and processing steps are: \n",
    "- `Ham Vs Spam` - good Vs bad, etc... \n",
    "- `x_train & x_test, y_train & y_test` - Where data is split between `x,y` as the axes of a graph, the data and the label. \n"
   ]
  },
  {
   "cell_type": "markdown",
   "metadata": {},
   "source": [
    "# 5.1.0 - Classification Metrics"
   ]
  },
  {
   "cell_type": "code",
   "execution_count": null,
   "metadata": {},
   "outputs": [],
   "source": []
  },
  {
   "cell_type": "markdown",
   "metadata": {},
   "source": [
    "# 5.2.0 The Confusion Matrix"
   ]
  },
  {
   "cell_type": "code",
   "execution_count": null,
   "metadata": {},
   "outputs": [],
   "source": []
  },
  {
   "cell_type": "markdown",
   "metadata": {},
   "source": [
    "# 5.3.0 - Scikit-learn INtroduction and overview"
   ]
  },
  {
   "cell_type": "code",
   "execution_count": null,
   "metadata": {},
   "outputs": [],
   "source": []
  },
  {
   "cell_type": "markdown",
   "metadata": {},
   "source": [
    "# 5.4.0 - Text Feature Extraction"
   ]
  },
  {
   "cell_type": "code",
   "execution_count": null,
   "metadata": {},
   "outputs": [],
   "source": []
  }
 ],
 "metadata": {
  "kernelspec": {
   "display_name": "pykit",
   "language": "python",
   "name": "pykit"
  },
  "language_info": {
   "codemirror_mode": {
    "name": "ipython",
    "version": 3
   },
   "file_extension": ".py",
   "mimetype": "text/x-python",
   "name": "python",
   "nbconvert_exporter": "python",
   "pygments_lexer": "ipython3",
   "version": "3.7.9"
  }
 },
 "nbformat": 4,
 "nbformat_minor": 4
}
