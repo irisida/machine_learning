{
 "cells": [
  {
   "cell_type": "markdown",
   "metadata": {},
   "source": [
    "# Parts of Speech & Named Entity Recognition\n",
    "\n",
    "![nlp](https://wrm5sysfkg-flywheel.netdna-ssl.com/wp-content/uploads/2019/01/NLP-Technology-in-Healthcare.jpg)"
   ]
  },
  {
   "cell_type": "markdown",
   "metadata": {},
   "source": [
    "# 4.1.0 - Parts of Speech tagging"
   ]
  },
  {
   "cell_type": "markdown",
   "metadata": {},
   "source": [
    "**What is it?** the tokenisation process can itself be difficult or can pose problems in many languages. That means overall we can consider that while it is possible to solve some problems starting only from the raw characters it is generally 'better' to use linguistic knowledge to add useful meaning and information.\n",
    "\n",
    "**Why?** well, most words are rare and it's common for words that look completely different to mean almost the same thing. The same words rearranged in a different order can mean something wildly different. There is a lot of nuance to the way words are used and the order they are used in. This is why it's important to look at the `parts of speech` that a word appears in rather than the word or `token` itself. \n",
    "\n",
    "This process is exactly what Spacy was designed to do. You submit the raw text and a doc object that is annotated is what is returned. In the proces Spacy gives two tiers of annotations. We get coarse POS tags such as `nouns`, `verb` & `adjective` but also fine-grained tags such as `plural noun`, `past tense verb`, `superlative adjective`.  \n"
   ]
  },
  {
   "cell_type": "code",
   "execution_count": 1,
   "metadata": {},
   "outputs": [],
   "source": [
    "import spacy "
   ]
  },
  {
   "cell_type": "code",
   "execution_count": 2,
   "metadata": {},
   "outputs": [],
   "source": [
    "nlp = spacy.load('en_core_web_sm')"
   ]
  },
  {
   "cell_type": "code",
   "execution_count": 37,
   "metadata": {},
   "outputs": [],
   "source": [
    "def doc_table(doc):\n",
    "    # create the header \n",
    "    print(f\"{'Token':{12}} {'POS_ID':>7} {'POS':{10}} {'TAG':{10}} {'Explanation':{25}}\")\n",
    "    print(\"-\" * 100)\n",
    "\n",
    "    # create the table for the document\n",
    "    for token in doc:\n",
    "        print(f\"{token.text:{12}} {token.pos:>7} {token.pos_:{10}} {token.tag_:{10}} {spacy.explain(token.tag_):{45}}\")"
   ]
  },
  {
   "cell_type": "code",
   "execution_count": 38,
   "metadata": {},
   "outputs": [],
   "source": [
    "def word_table(token):\n",
    "    # create the header \n",
    "    print(f\"{'Token':{12}} {'POS_ID':{7}} {'POS':{10}} {'TAG':{10}} {'Explanation':{25}}\")\n",
    "    print(\"-\" * 100)\n",
    "\n",
    "    print(f\"{token.text:{12}} {token.pos:>7} {token.pos_:{10}} {token.tag_:{10}} {spacy.explain(token.tag_):{45}}\")"
   ]
  },
  {
   "cell_type": "code",
   "execution_count": 39,
   "metadata": {},
   "outputs": [],
   "source": [
    "doc = nlp(u\"The quick brown fox jumped over the lazy dog's back.\")"
   ]
  },
  {
   "cell_type": "code",
   "execution_count": 40,
   "metadata": {},
   "outputs": [
    {
     "name": "stdout",
     "output_type": "stream",
     "text": [
      "Token         POS_ID POS        TAG        Explanation              \n",
      "----------------------------------------------------------------------------------------------------\n",
      "The               90 DET        DT         determiner                                   \n",
      "quick             84 ADJ        JJ         adjective                                    \n",
      "brown             84 ADJ        JJ         adjective                                    \n",
      "fox               96 PROPN      NNP        noun, proper singular                        \n",
      "jumped           100 VERB       VBD        verb, past tense                             \n",
      "over              85 ADP        IN         conjunction, subordinating or preposition    \n",
      "the               90 DET        DT         determiner                                   \n",
      "lazy              84 ADJ        JJ         adjective                                    \n",
      "dog               92 NOUN       NN         noun, singular or mass                       \n",
      "'s                94 PART       POS        possessive ending                            \n",
      "back              92 NOUN       NN         noun, singular or mass                       \n",
      ".                 97 PUNCT      .          punctuation mark, sentence closer            \n"
     ]
    }
   ],
   "source": [
    "doc_table(doc)"
   ]
  },
  {
   "cell_type": "markdown",
   "metadata": {},
   "source": [
    "#### Working with tense in Spacy"
   ]
  },
  {
   "cell_type": "code",
   "execution_count": 15,
   "metadata": {},
   "outputs": [],
   "source": [
    "# highlight a present tense example that is interpreted as \n",
    "# a past tense example by the lib.\n",
    "\n",
    "doc = nlp(u\"I read books on NLP.\")"
   ]
  },
  {
   "cell_type": "code",
   "execution_count": 16,
   "metadata": {},
   "outputs": [],
   "source": [
    "word = doc[1]"
   ]
  },
  {
   "cell_type": "code",
   "execution_count": 17,
   "metadata": {},
   "outputs": [
    {
     "name": "stdout",
     "output_type": "stream",
     "text": [
      "Token        POS        TAG        Explanation              \n",
      "----------------------------------------------------------------------------------------------------\n",
      "read         VERB       VBD        verb, past tense                             \n"
     ]
    }
   ],
   "source": [
    "# show the analysis \n",
    "word_table(word)"
   ]
  },
  {
   "cell_type": "code",
   "execution_count": 18,
   "metadata": {},
   "outputs": [
    {
     "name": "stdout",
     "output_type": "stream",
     "text": [
      "Token        POS        TAG        Explanation              \n",
      "----------------------------------------------------------------------------------------------------\n",
      "I            PRON       PRP        pronoun, personal                            \n",
      "read         VERB       VBD        verb, past tense                             \n",
      "books        NOUN       NNS        noun, plural                                 \n",
      "on           ADP        IN         conjunction, subordinating or preposition    \n",
      "NLP          PROPN      NNP        noun, proper singular                        \n",
      ".            PUNCT      .          punctuation mark, sentence closer            \n"
     ]
    }
   ],
   "source": [
    "# print the table to show that \n",
    "doc_table(doc)"
   ]
  },
  {
   "cell_type": "code",
   "execution_count": 19,
   "metadata": {},
   "outputs": [],
   "source": [
    "# create a past tense example \n",
    "doc = nlp(u\"I read a book on NLP\")"
   ]
  },
  {
   "cell_type": "code",
   "execution_count": 20,
   "metadata": {},
   "outputs": [
    {
     "name": "stdout",
     "output_type": "stream",
     "text": [
      "Token        POS        TAG        Explanation              \n",
      "----------------------------------------------------------------------------------------------------\n",
      "read         VERB       VBD        verb, past tense                             \n"
     ]
    }
   ],
   "source": [
    "word = doc[1]\n",
    "word_table(word)"
   ]
  },
  {
   "cell_type": "code",
   "execution_count": 21,
   "metadata": {},
   "outputs": [
    {
     "name": "stdout",
     "output_type": "stream",
     "text": [
      "Token        POS        TAG        Explanation              \n",
      "----------------------------------------------------------------------------------------------------\n",
      "read         VERB       VB         verb, base form                              \n",
      "books        NOUN       NNS        noun, plural                                 \n",
      "to           PART       TO         infinitival \"to\"                             \n",
      "be           AUX        VB         verb, base form                              \n",
      "well         ADV        RB         adverb                                       \n",
      "read         VERB       VBN        verb, past participle                        \n"
     ]
    }
   ],
   "source": [
    "doc = nlp(u\"read books to be well read\")\n",
    "doc_table(doc)"
   ]
  },
  {
   "cell_type": "markdown",
   "metadata": {},
   "source": [
    "We can see in analysis that the tokens have an identifier and hash, Spacy optimises the positioning of frequency of hashes for maximizing performance internally. The user need not concern themselves with that hashing order. Instead you can see the POS identifier for each of the 50k + language references."
   ]
  },
  {
   "cell_type": "code",
   "execution_count": 41,
   "metadata": {},
   "outputs": [],
   "source": [
    "doc = nlp(u\"The quick brown fox jumped over the lazy dog's back.\")"
   ]
  },
  {
   "cell_type": "code",
   "execution_count": 42,
   "metadata": {},
   "outputs": [
    {
     "data": {
      "text/plain": [
       "{90: 2, 84: 3, 96: 1, 100: 1, 85: 1, 92: 2, 94: 1, 97: 1}"
      ]
     },
     "execution_count": 42,
     "metadata": {},
     "output_type": "execute_result"
    }
   ],
   "source": [
    "pos_count = doc.count_by(spacy.attrs.POS)\n",
    "pos_count"
   ]
  },
  {
   "cell_type": "code",
   "execution_count": 43,
   "metadata": {},
   "outputs": [
    {
     "name": "stdout",
     "output_type": "stream",
     "text": [
      " 84 ADJ      3\n",
      " 85 ADP      1\n",
      " 90 DET      2\n",
      " 92 NOUN     2\n",
      " 94 PART     1\n",
      " 96 PROPN    1\n",
      " 97 PUNCT    1\n",
      "100 VERB     1\n"
     ]
    }
   ],
   "source": [
    "for k,v in sorted(pos_count.items()):\n",
    "    print(f\"{k:>3} {doc.vocab[k].text:{8}} {v}\")"
   ]
  },
  {
   "cell_type": "code",
   "execution_count": null,
   "metadata": {},
   "outputs": [],
   "source": [
    "# 4.2.0"
   ]
  }
 ],
 "metadata": {
  "kernelspec": {
   "display_name": "pykit",
   "language": "python",
   "name": "pykit"
  },
  "language_info": {
   "codemirror_mode": {
    "name": "ipython",
    "version": 3
   },
   "file_extension": ".py",
   "mimetype": "text/x-python",
   "name": "python",
   "nbconvert_exporter": "python",
   "pygments_lexer": "ipython3",
   "version": "3.7.9"
  }
 },
 "nbformat": 4,
 "nbformat_minor": 4
}
