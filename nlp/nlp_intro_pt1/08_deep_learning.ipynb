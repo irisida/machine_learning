{
 "cells": [
  {
   "cell_type": "markdown",
   "metadata": {},
   "source": [
    "# Deep Learning\n",
    "\n",
    "![nlp](https://wrm5sysfkg-flywheel.netdna-ssl.com/wp-content/uploads/2019/01/NLP-Technology-in-Healthcare.jpg)"
   ]
  },
  {
   "cell_type": "markdown",
   "metadata": {},
   "source": [
    "# Introduction\n",
    "\n",
    "Section goals:\n",
    "- Understand basic overview of Deep Learning\n",
    "- Understand basics of LSTM and RNN\n",
    "- Use LSTM to generate text from source corpus \n",
    "- Create QA Chatbots with Python"
   ]
  },
  {
   "cell_type": "markdown",
   "metadata": {},
   "source": [
    "# 8.1.0 The basic Perceptron Model"
   ]
  },
  {
   "cell_type": "markdown",
   "metadata": {},
   "source": [
    "Artificial neural networks or ANN's have a basis in biology. A Perceptron is the common term for an artificial neuron that mimics a biological neuron.\n",
    "\n",
    "The biological neuron is made up of component parts: \n",
    "- Dendrites\n",
    "- Body\n",
    "- Axon\n",
    "\n",
    "The artificial neuron is also multipart: \n",
    "- Inputs\n",
    "- Body\n",
    "- Output"
   ]
  },
  {
   "cell_type": "code",
   "execution_count": null,
   "metadata": {},
   "outputs": [],
   "source": []
  }
 ],
 "metadata": {
  "kernelspec": {
   "display_name": "pykit",
   "language": "python",
   "name": "pykit"
  },
  "language_info": {
   "codemirror_mode": {
    "name": "ipython",
    "version": 3
   },
   "file_extension": ".py",
   "mimetype": "text/x-python",
   "name": "python",
   "nbconvert_exporter": "python",
   "pygments_lexer": "ipython3",
   "version": "3.7.9"
  }
 },
 "nbformat": 4,
 "nbformat_minor": 4
}
