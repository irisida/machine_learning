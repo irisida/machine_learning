{
 "cells": [
  {
   "cell_type": "markdown",
   "metadata": {},
   "source": [
    "# Deep Learning\n",
    "\n",
    "![nlp](https://wrm5sysfkg-flywheel.netdna-ssl.com/wp-content/uploads/2019/01/NLP-Technology-in-Healthcare.jpg)"
   ]
  },
  {
   "cell_type": "markdown",
   "metadata": {},
   "source": [
    "# Introduction\n",
    "\n",
    "Section goals:\n",
    "- Understand basic overview of Deep Learning\n",
    "- Understand basics of LSTM and RNN\n",
    "- Use LSTM to generate text from source corpus \n",
    "- Create QA Chatbots with Python"
   ]
  },
  {
   "cell_type": "markdown",
   "metadata": {},
   "source": [
    "# 8.1.0 The basic Perceptron Model"
   ]
  },
  {
   "cell_type": "markdown",
   "metadata": {},
   "source": [
    "Artificial neural networks or ANN's have a basis in biology. A Perceptron is the common term for an artificial neuron that mimics a biological neuron.\n",
    "\n",
    "The biological neuron is made up of component parts: \n",
    "- Dendrites\n",
    "- Body\n",
    "- Axon\n",
    "\n",
    "The artificial neuron is also multipart: \n",
    "- Inputs\n",
    "- Body\n",
    "- Output"
   ]
  },
  {
   "cell_type": "markdown",
   "metadata": {},
   "source": [
    "# 8.2.0 Keras"
   ]
  },
  {
   "cell_type": "code",
   "execution_count": 29,
   "metadata": {},
   "outputs": [],
   "source": [
    "import numpy as np"
   ]
  },
  {
   "cell_type": "code",
   "execution_count": 30,
   "metadata": {},
   "outputs": [],
   "source": [
    "from sklearn.datasets import load_iris"
   ]
  },
  {
   "cell_type": "code",
   "execution_count": 31,
   "metadata": {},
   "outputs": [],
   "source": [
    "iris = load_iris()"
   ]
  },
  {
   "cell_type": "code",
   "execution_count": 32,
   "metadata": {},
   "outputs": [],
   "source": [
    "x = iris.data"
   ]
  },
  {
   "cell_type": "code",
   "execution_count": 33,
   "metadata": {},
   "outputs": [],
   "source": [
    "y = iris.target"
   ]
  },
  {
   "cell_type": "code",
   "execution_count": 34,
   "metadata": {},
   "outputs": [],
   "source": [
    "from keras.utils import to_categorical"
   ]
  },
  {
   "cell_type": "code",
   "execution_count": 35,
   "metadata": {},
   "outputs": [],
   "source": [
    "y = to_categorical(y)"
   ]
  },
  {
   "cell_type": "code",
   "execution_count": 36,
   "metadata": {},
   "outputs": [],
   "source": [
    "from sklearn.model_selection import train_test_split"
   ]
  },
  {
   "cell_type": "code",
   "execution_count": 37,
   "metadata": {},
   "outputs": [],
   "source": [
    "x_train, x_test, y_train, y_test = train_test_split(x,y, test_size=0.33, random_state=42)"
   ]
  },
  {
   "cell_type": "code",
   "execution_count": 38,
   "metadata": {},
   "outputs": [],
   "source": [
    "from sklearn.preprocessing import MinMaxScaler"
   ]
  },
  {
   "cell_type": "code",
   "execution_count": 39,
   "metadata": {},
   "outputs": [],
   "source": [
    "scaler = MinMaxScaler()"
   ]
  },
  {
   "cell_type": "code",
   "execution_count": 40,
   "metadata": {},
   "outputs": [
    {
     "data": {
      "text/plain": [
       "MinMaxScaler()"
      ]
     },
     "execution_count": 40,
     "metadata": {},
     "output_type": "execute_result"
    }
   ],
   "source": [
    "scaler.fit(x_train)"
   ]
  },
  {
   "cell_type": "code",
   "execution_count": 41,
   "metadata": {},
   "outputs": [],
   "source": [
    "scaled_x_train = scaler.transform(x_train)"
   ]
  },
  {
   "cell_type": "code",
   "execution_count": 42,
   "metadata": {},
   "outputs": [],
   "source": [
    "scaled_x_test = scaler.transform(x_test)"
   ]
  },
  {
   "cell_type": "code",
   "execution_count": 43,
   "metadata": {},
   "outputs": [],
   "source": [
    "from keras.models import Sequential\n",
    "from keras.layers import Dense"
   ]
  },
  {
   "cell_type": "code",
   "execution_count": 44,
   "metadata": {},
   "outputs": [],
   "source": [
    "model = Sequential()\n",
    "model.add(Dense(8, input_dim=4, activation='relu'))\n",
    "model.add(Dense(8, input_dim=4, activation='relu'))\n",
    "model.add(Dense(3, activation='softmax'))\n",
    "model.compile(loss='categorical_crossentropy', optimizer='adam', metrics=['accuracy'])"
   ]
  },
  {
   "cell_type": "code",
   "execution_count": 45,
   "metadata": {},
   "outputs": [
    {
     "name": "stdout",
     "output_type": "stream",
     "text": [
      "Model: \"sequential_2\"\n",
      "_________________________________________________________________\n",
      "Layer (type)                 Output Shape              Param #   \n",
      "=================================================================\n",
      "dense_4 (Dense)              (None, 8)                 40        \n",
      "_________________________________________________________________\n",
      "dense_5 (Dense)              (None, 8)                 72        \n",
      "_________________________________________________________________\n",
      "dense_6 (Dense)              (None, 3)                 27        \n",
      "=================================================================\n",
      "Total params: 139\n",
      "Trainable params: 139\n",
      "Non-trainable params: 0\n",
      "_________________________________________________________________\n"
     ]
    }
   ],
   "source": [
    "model.summary()"
   ]
  },
  {
   "cell_type": "code",
   "execution_count": 46,
   "metadata": {},
   "outputs": [
    {
     "name": "stdout",
     "output_type": "stream",
     "text": [
      "Epoch 1/200\n",
      " - 1s - loss: 1.1543 - accuracy: 0.3000\n",
      "Epoch 2/200\n",
      " - 0s - loss: 1.1474 - accuracy: 0.3000\n",
      "Epoch 3/200\n",
      " - 0s - loss: 1.1415 - accuracy: 0.3100\n",
      "Epoch 4/200\n",
      " - 0s - loss: 1.1355 - accuracy: 0.3200\n",
      "Epoch 5/200\n",
      " - 0s - loss: 1.1290 - accuracy: 0.3200\n",
      "Epoch 6/200\n",
      " - 0s - loss: 1.1228 - accuracy: 0.3200\n",
      "Epoch 7/200\n",
      " - 0s - loss: 1.1177 - accuracy: 0.3200\n",
      "Epoch 8/200\n",
      " - 0s - loss: 1.1128 - accuracy: 0.3200\n",
      "Epoch 9/200\n",
      " - 0s - loss: 1.1083 - accuracy: 0.3400\n",
      "Epoch 10/200\n",
      " - 0s - loss: 1.1039 - accuracy: 0.3600\n",
      "Epoch 11/200\n",
      " - 0s - loss: 1.0993 - accuracy: 0.3500\n",
      "Epoch 12/200\n",
      " - 0s - loss: 1.0954 - accuracy: 0.3600\n",
      "Epoch 13/200\n",
      " - 0s - loss: 1.0913 - accuracy: 0.3800\n",
      "Epoch 14/200\n",
      " - 0s - loss: 1.0871 - accuracy: 0.3800\n",
      "Epoch 15/200\n",
      " - 0s - loss: 1.0841 - accuracy: 0.4000\n",
      "Epoch 16/200\n",
      " - 0s - loss: 1.0802 - accuracy: 0.3900\n",
      "Epoch 17/200\n",
      " - 0s - loss: 1.0770 - accuracy: 0.3900\n",
      "Epoch 18/200\n",
      " - 0s - loss: 1.0736 - accuracy: 0.4000\n",
      "Epoch 19/200\n",
      " - 0s - loss: 1.0702 - accuracy: 0.4100\n",
      "Epoch 20/200\n",
      " - 0s - loss: 1.0670 - accuracy: 0.4400\n",
      "Epoch 21/200\n",
      " - 0s - loss: 1.0637 - accuracy: 0.4400\n",
      "Epoch 22/200\n",
      " - 0s - loss: 1.0599 - accuracy: 0.4300\n",
      "Epoch 23/200\n",
      " - 0s - loss: 1.0563 - accuracy: 0.4600\n",
      "Epoch 24/200\n",
      " - 0s - loss: 1.0525 - accuracy: 0.4800\n",
      "Epoch 25/200\n",
      " - 0s - loss: 1.0485 - accuracy: 0.4700\n",
      "Epoch 26/200\n",
      " - 0s - loss: 1.0444 - accuracy: 0.4200\n",
      "Epoch 27/200\n",
      " - 0s - loss: 1.0398 - accuracy: 0.4800\n",
      "Epoch 28/200\n",
      " - 0s - loss: 1.0349 - accuracy: 0.5700\n",
      "Epoch 29/200\n",
      " - 0s - loss: 1.0295 - accuracy: 0.6100\n",
      "Epoch 30/200\n",
      " - 0s - loss: 1.0237 - accuracy: 0.6300\n",
      "Epoch 31/200\n",
      " - 0s - loss: 1.0165 - accuracy: 0.6400\n",
      "Epoch 32/200\n",
      " - 0s - loss: 1.0100 - accuracy: 0.6300\n",
      "Epoch 33/200\n",
      " - 0s - loss: 1.0036 - accuracy: 0.6400\n",
      "Epoch 34/200\n",
      " - 0s - loss: 0.9975 - accuracy: 0.6400\n",
      "Epoch 35/200\n",
      " - 0s - loss: 0.9915 - accuracy: 0.6500\n",
      "Epoch 36/200\n",
      " - 0s - loss: 0.9859 - accuracy: 0.6600\n",
      "Epoch 37/200\n",
      " - 0s - loss: 0.9803 - accuracy: 0.7000\n",
      "Epoch 38/200\n",
      " - 0s - loss: 0.9741 - accuracy: 0.7300\n",
      "Epoch 39/200\n",
      " - 0s - loss: 0.9681 - accuracy: 0.7000\n",
      "Epoch 40/200\n",
      " - 0s - loss: 0.9617 - accuracy: 0.7000\n",
      "Epoch 41/200\n",
      " - 0s - loss: 0.9554 - accuracy: 0.7100\n",
      "Epoch 42/200\n",
      " - 0s - loss: 0.9486 - accuracy: 0.7200\n",
      "Epoch 43/200\n",
      " - 0s - loss: 0.9417 - accuracy: 0.7100\n",
      "Epoch 44/200\n",
      " - 0s - loss: 0.9345 - accuracy: 0.7100\n",
      "Epoch 45/200\n",
      " - 0s - loss: 0.9273 - accuracy: 0.6900\n",
      "Epoch 46/200\n",
      " - 0s - loss: 0.9196 - accuracy: 0.6900\n",
      "Epoch 47/200\n",
      " - 0s - loss: 0.9127 - accuracy: 0.6900\n",
      "Epoch 48/200\n",
      " - 0s - loss: 0.9054 - accuracy: 0.6900\n",
      "Epoch 49/200\n",
      " - 0s - loss: 0.8986 - accuracy: 0.6800\n",
      "Epoch 50/200\n",
      " - 0s - loss: 0.8909 - accuracy: 0.6800\n",
      "Epoch 51/200\n",
      " - 0s - loss: 0.8838 - accuracy: 0.6800\n",
      "Epoch 52/200\n",
      " - 0s - loss: 0.8767 - accuracy: 0.6700\n",
      "Epoch 53/200\n",
      " - 0s - loss: 0.8693 - accuracy: 0.6600\n",
      "Epoch 54/200\n",
      " - 0s - loss: 0.8625 - accuracy: 0.6500\n",
      "Epoch 55/200\n",
      " - 0s - loss: 0.8556 - accuracy: 0.6600\n",
      "Epoch 56/200\n",
      " - 0s - loss: 0.8485 - accuracy: 0.6700\n",
      "Epoch 57/200\n",
      " - 0s - loss: 0.8414 - accuracy: 0.6700\n",
      "Epoch 58/200\n",
      " - 0s - loss: 0.8343 - accuracy: 0.6700\n",
      "Epoch 59/200\n",
      " - 0s - loss: 0.8272 - accuracy: 0.6700\n",
      "Epoch 60/200\n",
      " - 0s - loss: 0.8199 - accuracy: 0.6700\n",
      "Epoch 61/200\n",
      " - 0s - loss: 0.8129 - accuracy: 0.6700\n",
      "Epoch 62/200\n",
      " - 0s - loss: 0.8057 - accuracy: 0.6700\n",
      "Epoch 63/200\n",
      " - 0s - loss: 0.7981 - accuracy: 0.6900\n",
      "Epoch 64/200\n",
      " - 0s - loss: 0.7918 - accuracy: 0.6900\n",
      "Epoch 65/200\n",
      " - 0s - loss: 0.7853 - accuracy: 0.6900\n",
      "Epoch 66/200\n",
      " - 0s - loss: 0.7798 - accuracy: 0.7100\n",
      "Epoch 67/200\n",
      " - 0s - loss: 0.7736 - accuracy: 0.7300\n",
      "Epoch 68/200\n",
      " - 0s - loss: 0.7672 - accuracy: 0.7300\n",
      "Epoch 69/200\n",
      " - 0s - loss: 0.7600 - accuracy: 0.7200\n",
      "Epoch 70/200\n",
      " - 0s - loss: 0.7535 - accuracy: 0.7100\n",
      "Epoch 71/200\n",
      " - 0s - loss: 0.7466 - accuracy: 0.7200\n",
      "Epoch 72/200\n",
      " - 0s - loss: 0.7387 - accuracy: 0.7200\n",
      "Epoch 73/200\n",
      " - 0s - loss: 0.7312 - accuracy: 0.7200\n",
      "Epoch 74/200\n",
      " - 0s - loss: 0.7243 - accuracy: 0.7300\n",
      "Epoch 75/200\n",
      " - 0s - loss: 0.7160 - accuracy: 0.7400\n",
      "Epoch 76/200\n",
      " - 0s - loss: 0.7082 - accuracy: 0.7200\n",
      "Epoch 77/200\n",
      " - 0s - loss: 0.7005 - accuracy: 0.7200\n",
      "Epoch 78/200\n",
      " - 0s - loss: 0.6935 - accuracy: 0.7100\n",
      "Epoch 79/200\n",
      " - 0s - loss: 0.6862 - accuracy: 0.6900\n",
      "Epoch 80/200\n",
      " - 0s - loss: 0.6791 - accuracy: 0.7100\n",
      "Epoch 81/200\n",
      " - 0s - loss: 0.6719 - accuracy: 0.7200\n",
      "Epoch 82/200\n",
      " - 0s - loss: 0.6652 - accuracy: 0.7200\n",
      "Epoch 83/200\n",
      " - 0s - loss: 0.6588 - accuracy: 0.7200\n",
      "Epoch 84/200\n",
      " - 0s - loss: 0.6524 - accuracy: 0.7200\n",
      "Epoch 85/200\n",
      " - 0s - loss: 0.6455 - accuracy: 0.7200\n",
      "Epoch 86/200\n",
      " - 0s - loss: 0.6394 - accuracy: 0.7200\n",
      "Epoch 87/200\n",
      " - 0s - loss: 0.6329 - accuracy: 0.7200\n",
      "Epoch 88/200\n",
      " - 0s - loss: 0.6265 - accuracy: 0.7300\n",
      "Epoch 89/200\n",
      " - 0s - loss: 0.6211 - accuracy: 0.7800\n",
      "Epoch 90/200\n",
      " - 0s - loss: 0.6148 - accuracy: 0.8100\n",
      "Epoch 91/200\n",
      " - 0s - loss: 0.6086 - accuracy: 0.7700\n",
      "Epoch 92/200\n",
      " - 0s - loss: 0.6034 - accuracy: 0.7400\n",
      "Epoch 93/200\n",
      " - 0s - loss: 0.5969 - accuracy: 0.7200\n",
      "Epoch 94/200\n",
      " - 0s - loss: 0.5912 - accuracy: 0.7200\n",
      "Epoch 95/200\n",
      " - 0s - loss: 0.5856 - accuracy: 0.7200\n",
      "Epoch 96/200\n",
      " - 0s - loss: 0.5800 - accuracy: 0.7400\n",
      "Epoch 97/200\n",
      " - 0s - loss: 0.5746 - accuracy: 0.7400\n",
      "Epoch 98/200\n",
      " - 0s - loss: 0.5696 - accuracy: 0.7400\n",
      "Epoch 99/200\n",
      " - 0s - loss: 0.5642 - accuracy: 0.7200\n",
      "Epoch 100/200\n",
      " - 0s - loss: 0.5597 - accuracy: 0.7200\n",
      "Epoch 101/200\n",
      " - 0s - loss: 0.5561 - accuracy: 0.7000\n",
      "Epoch 102/200\n",
      " - 0s - loss: 0.5532 - accuracy: 0.6900\n",
      "Epoch 103/200\n",
      " - 0s - loss: 0.5481 - accuracy: 0.6900\n",
      "Epoch 104/200\n",
      " - 0s - loss: 0.5429 - accuracy: 0.7000\n",
      "Epoch 105/200\n",
      " - 0s - loss: 0.5379 - accuracy: 0.7100\n",
      "Epoch 106/200\n",
      " - 0s - loss: 0.5335 - accuracy: 0.7200\n",
      "Epoch 107/200\n",
      " - 0s - loss: 0.5295 - accuracy: 0.7300\n",
      "Epoch 108/200\n",
      " - 0s - loss: 0.5248 - accuracy: 0.7600\n",
      "Epoch 109/200\n",
      " - 0s - loss: 0.5206 - accuracy: 0.7700\n",
      "Epoch 110/200\n",
      " - 0s - loss: 0.5174 - accuracy: 0.7600\n",
      "Epoch 111/200\n",
      " - 0s - loss: 0.5146 - accuracy: 0.7900\n",
      "Epoch 112/200\n",
      " - 0s - loss: 0.5096 - accuracy: 0.8100\n",
      "Epoch 113/200\n",
      " - 0s - loss: 0.5063 - accuracy: 0.8000\n",
      "Epoch 114/200\n",
      " - 0s - loss: 0.5022 - accuracy: 0.8100\n",
      "Epoch 115/200\n",
      " - 0s - loss: 0.4978 - accuracy: 0.8300\n",
      "Epoch 116/200\n",
      " - 0s - loss: 0.4935 - accuracy: 0.8500\n",
      "Epoch 117/200\n",
      " - 0s - loss: 0.4894 - accuracy: 0.8600\n",
      "Epoch 118/200\n",
      " - 0s - loss: 0.4847 - accuracy: 0.8900\n",
      "Epoch 119/200\n",
      " - 0s - loss: 0.4809 - accuracy: 0.8900\n",
      "Epoch 120/200\n",
      " - 0s - loss: 0.4768 - accuracy: 0.8800\n",
      "Epoch 121/200\n",
      " - 0s - loss: 0.4716 - accuracy: 0.8800\n",
      "Epoch 122/200\n",
      " - 0s - loss: 0.4658 - accuracy: 0.8800\n",
      "Epoch 123/200\n",
      " - 0s - loss: 0.4605 - accuracy: 0.8800\n",
      "Epoch 124/200\n",
      " - 0s - loss: 0.4560 - accuracy: 0.8800\n",
      "Epoch 125/200\n",
      " - 0s - loss: 0.4507 - accuracy: 0.8800\n",
      "Epoch 126/200\n",
      " - 0s - loss: 0.4454 - accuracy: 0.8900\n",
      "Epoch 127/200\n",
      " - 0s - loss: 0.4396 - accuracy: 0.9000\n",
      "Epoch 128/200\n",
      " - 0s - loss: 0.4371 - accuracy: 0.8700\n",
      "Epoch 129/200\n",
      " - 0s - loss: 0.4337 - accuracy: 0.8600\n",
      "Epoch 130/200\n",
      " - 0s - loss: 0.4290 - accuracy: 0.8700\n",
      "Epoch 131/200\n",
      " - 0s - loss: 0.4248 - accuracy: 0.8900\n",
      "Epoch 132/200\n",
      " - 0s - loss: 0.4208 - accuracy: 0.9000\n",
      "Epoch 133/200\n",
      " - 0s - loss: 0.4169 - accuracy: 0.9000\n",
      "Epoch 134/200\n",
      " - 0s - loss: 0.4139 - accuracy: 0.8800\n",
      "Epoch 135/200\n",
      " - 0s - loss: 0.4119 - accuracy: 0.8700\n",
      "Epoch 136/200\n",
      " - 0s - loss: 0.4083 - accuracy: 0.8700\n",
      "Epoch 137/200\n",
      " - 0s - loss: 0.4045 - accuracy: 0.8700\n",
      "Epoch 138/200\n",
      " - 0s - loss: 0.4003 - accuracy: 0.9000\n",
      "Epoch 139/200\n",
      " - 0s - loss: 0.3968 - accuracy: 0.9100\n",
      "Epoch 140/200\n",
      " - 0s - loss: 0.3938 - accuracy: 0.9000\n",
      "Epoch 141/200\n",
      " - 0s - loss: 0.3904 - accuracy: 0.9000\n",
      "Epoch 142/200\n",
      " - 0s - loss: 0.3869 - accuracy: 0.9000\n",
      "Epoch 143/200\n",
      " - 0s - loss: 0.3837 - accuracy: 0.9000\n",
      "Epoch 144/200\n",
      " - 0s - loss: 0.3802 - accuracy: 0.9000\n",
      "Epoch 145/200\n",
      " - 0s - loss: 0.3769 - accuracy: 0.9100\n",
      "Epoch 146/200\n",
      " - 0s - loss: 0.3736 - accuracy: 0.9100\n",
      "Epoch 147/200\n",
      " - 0s - loss: 0.3734 - accuracy: 0.9100\n",
      "Epoch 148/200\n",
      " - 0s - loss: 0.3692 - accuracy: 0.9100\n",
      "Epoch 149/200\n",
      " - 0s - loss: 0.3645 - accuracy: 0.9100\n",
      "Epoch 150/200\n",
      " - 0s - loss: 0.3625 - accuracy: 0.9000\n",
      "Epoch 151/200\n",
      " - 0s - loss: 0.3593 - accuracy: 0.9000\n",
      "Epoch 152/200\n",
      " - 0s - loss: 0.3591 - accuracy: 0.9100\n",
      "Epoch 153/200\n",
      " - 0s - loss: 0.3559 - accuracy: 0.9000\n",
      "Epoch 154/200\n",
      " - 0s - loss: 0.3519 - accuracy: 0.9100\n",
      "Epoch 155/200\n",
      " - 0s - loss: 0.3491 - accuracy: 0.9100\n",
      "Epoch 156/200\n",
      " - 0s - loss: 0.3463 - accuracy: 0.9100\n",
      "Epoch 157/200\n",
      " - 0s - loss: 0.3432 - accuracy: 0.9100\n",
      "Epoch 158/200\n",
      " - 0s - loss: 0.3405 - accuracy: 0.9100\n",
      "Epoch 159/200\n",
      " - 0s - loss: 0.3374 - accuracy: 0.9200\n",
      "Epoch 160/200\n",
      " - 0s - loss: 0.3352 - accuracy: 0.9200\n",
      "Epoch 161/200\n",
      " - 0s - loss: 0.3333 - accuracy: 0.9100\n",
      "Epoch 162/200\n",
      " - 0s - loss: 0.3308 - accuracy: 0.9200\n",
      "Epoch 163/200\n",
      " - 0s - loss: 0.3283 - accuracy: 0.9200\n",
      "Epoch 164/200\n",
      " - 0s - loss: 0.3264 - accuracy: 0.9100\n",
      "Epoch 165/200\n",
      " - 0s - loss: 0.3239 - accuracy: 0.9100\n",
      "Epoch 166/200\n",
      " - 0s - loss: 0.3206 - accuracy: 0.9200\n",
      "Epoch 167/200\n",
      " - 0s - loss: 0.3181 - accuracy: 0.9200\n",
      "Epoch 168/200\n",
      " - 0s - loss: 0.3174 - accuracy: 0.9100\n",
      "Epoch 169/200\n",
      " - 0s - loss: 0.3148 - accuracy: 0.9200\n",
      "Epoch 170/200\n",
      " - 0s - loss: 0.3125 - accuracy: 0.9200\n",
      "Epoch 171/200\n",
      " - 0s - loss: 0.3105 - accuracy: 0.9200\n",
      "Epoch 172/200\n",
      " - 0s - loss: 0.3078 - accuracy: 0.9100\n",
      "Epoch 173/200\n",
      " - 0s - loss: 0.3049 - accuracy: 0.9100\n",
      "Epoch 174/200\n",
      " - 0s - loss: 0.3021 - accuracy: 0.9100\n",
      "Epoch 175/200\n",
      " - 0s - loss: 0.2999 - accuracy: 0.9200\n",
      "Epoch 176/200\n",
      " - 0s - loss: 0.2989 - accuracy: 0.9300\n",
      "Epoch 177/200\n",
      " - 0s - loss: 0.2972 - accuracy: 0.9300\n",
      "Epoch 178/200\n",
      " - 0s - loss: 0.2942 - accuracy: 0.9300\n",
      "Epoch 179/200\n",
      " - 0s - loss: 0.2922 - accuracy: 0.9200\n",
      "Epoch 180/200\n",
      " - 0s - loss: 0.2907 - accuracy: 0.9300\n",
      "Epoch 181/200\n",
      " - 0s - loss: 0.2886 - accuracy: 0.9300\n",
      "Epoch 182/200\n",
      " - 0s - loss: 0.2858 - accuracy: 0.9100\n",
      "Epoch 183/200\n",
      " - 0s - loss: 0.2833 - accuracy: 0.9300\n",
      "Epoch 184/200\n",
      " - 0s - loss: 0.2844 - accuracy: 0.9200\n",
      "Epoch 185/200\n",
      " - 0s - loss: 0.2836 - accuracy: 0.9200\n",
      "Epoch 186/200\n",
      " - 0s - loss: 0.2805 - accuracy: 0.9300\n",
      "Epoch 187/200\n",
      " - 0s - loss: 0.2781 - accuracy: 0.9200\n",
      "Epoch 188/200\n",
      " - 0s - loss: 0.2750 - accuracy: 0.9200\n",
      "Epoch 189/200\n",
      " - 0s - loss: 0.2745 - accuracy: 0.9300\n",
      "Epoch 190/200\n",
      " - 0s - loss: 0.2732 - accuracy: 0.9300\n",
      "Epoch 191/200\n",
      " - 0s - loss: 0.2717 - accuracy: 0.9300\n",
      "Epoch 192/200\n",
      " - 0s - loss: 0.2702 - accuracy: 0.9300\n",
      "Epoch 193/200\n",
      " - 0s - loss: 0.2678 - accuracy: 0.9300\n",
      "Epoch 194/200\n",
      " - 0s - loss: 0.2647 - accuracy: 0.9300\n",
      "Epoch 195/200\n",
      " - 0s - loss: 0.2623 - accuracy: 0.9200\n",
      "Epoch 196/200\n",
      " - 0s - loss: 0.2617 - accuracy: 0.9300\n",
      "Epoch 197/200\n",
      " - 0s - loss: 0.2618 - accuracy: 0.9300\n",
      "Epoch 198/200\n",
      " - 0s - loss: 0.2619 - accuracy: 0.9300\n",
      "Epoch 199/200\n",
      " - 0s - loss: 0.2594 - accuracy: 0.9300\n",
      "Epoch 200/200\n",
      " - 0s - loss: 0.2557 - accuracy: 0.9300\n"
     ]
    },
    {
     "data": {
      "text/plain": [
       "<keras.callbacks.callbacks.History at 0x7f8426ff3e90>"
      ]
     },
     "execution_count": 46,
     "metadata": {},
     "output_type": "execute_result"
    }
   ],
   "source": [
    "model.fit(scaled_x_train, y_train, epochs=200, verbose=2)"
   ]
  },
  {
   "cell_type": "code",
   "execution_count": 47,
   "metadata": {},
   "outputs": [
    {
     "data": {
      "text/plain": [
       "array([[6.46506203e-03, 6.57006800e-01, 3.36528093e-01],\n",
       "       [9.71322954e-01, 2.84389425e-02, 2.38171298e-04],\n",
       "       [2.81957318e-06, 5.48888147e-02, 9.45108354e-01],\n",
       "       [4.88138339e-03, 6.34165525e-01, 3.60953093e-01],\n",
       "       [1.08065910e-03, 4.24147785e-01, 5.74771523e-01],\n",
       "       [9.55046833e-01, 4.44088355e-02, 5.44341747e-04],\n",
       "       [4.82193977e-02, 8.23449790e-01, 1.28330842e-01],\n",
       "       [5.31006153e-05, 1.68322966e-01, 8.31623852e-01],\n",
       "       [9.44099447e-04, 3.18148047e-01, 6.80907905e-01],\n",
       "       [2.09649596e-02, 7.73502707e-01, 2.05532342e-01],\n",
       "       [3.93887254e-04, 3.52640182e-01, 6.46965921e-01],\n",
       "       [9.63348567e-01, 3.60602252e-02, 5.91216958e-04],\n",
       "       [9.74746764e-01, 2.50020996e-02, 2.51196208e-04],\n",
       "       [9.66157794e-01, 3.33341695e-02, 5.07981807e-04],\n",
       "       [9.87617075e-01, 1.22843934e-02, 9.85338265e-05],\n",
       "       [3.89748579e-03, 6.60716176e-01, 3.35386276e-01],\n",
       "       [3.94649978e-05, 1.44074813e-01, 8.55885684e-01],\n",
       "       [2.58401204e-02, 7.68771946e-01, 2.05388010e-01],\n",
       "       [1.08118318e-02, 7.17714131e-01, 2.71474034e-01],\n",
       "       [4.67599857e-05, 1.40095577e-01, 8.59857678e-01],\n",
       "       [9.72084641e-01, 2.75204107e-02, 3.94957751e-04],\n",
       "       [1.22523634e-03, 4.64656562e-01, 5.34118176e-01],\n",
       "       [9.70420659e-01, 2.92196646e-02, 3.59670463e-04],\n",
       "       [5.89976335e-05, 1.51802063e-01, 8.48138869e-01],\n",
       "       [2.07461417e-05, 1.56888440e-01, 8.43090892e-01],\n",
       "       [4.98558256e-05, 1.57735810e-01, 8.42214286e-01],\n",
       "       [5.22744085e-05, 1.28298119e-01, 8.71649563e-01],\n",
       "       [2.28807985e-05, 1.26816332e-01, 8.73160779e-01],\n",
       "       [9.58042741e-01, 4.12452109e-02, 7.11955829e-04],\n",
       "       [9.64021027e-01, 3.54171544e-02, 5.61889436e-04],\n",
       "       [9.88629222e-01, 1.12846224e-02, 8.61179869e-05],\n",
       "       [9.91966486e-01, 7.99886510e-03, 3.46576271e-05],\n",
       "       [3.94367939e-03, 6.36070788e-01, 3.59985471e-01],\n",
       "       [9.79480028e-01, 2.02802382e-02, 2.39714020e-04],\n",
       "       [9.79118645e-01, 2.06094719e-02, 2.71818135e-04],\n",
       "       [1.80627874e-04, 2.02401295e-01, 7.97418177e-01],\n",
       "       [4.79980465e-03, 6.73968256e-01, 3.21231902e-01],\n",
       "       [9.77890849e-01, 2.18799338e-02, 2.29159719e-04],\n",
       "       [9.85660076e-01, 1.42061040e-02, 1.33839596e-04],\n",
       "       [9.92699444e-01, 7.26202317e-03, 3.85917119e-05],\n",
       "       [6.08720293e-04, 3.30877572e-01, 6.68513775e-01],\n",
       "       [1.22999875e-02, 7.61036098e-01, 2.26663962e-01],\n",
       "       [1.99466408e-03, 5.45110941e-01, 4.52894330e-01],\n",
       "       [9.87212002e-01, 1.26976594e-02, 9.04247281e-05],\n",
       "       [9.82121050e-01, 1.77269150e-02, 1.52030610e-04],\n",
       "       [4.11694273e-02, 7.90449381e-01, 1.68381184e-01],\n",
       "       [1.13956747e-03, 4.29407179e-01, 5.69453239e-01],\n",
       "       [4.00535209e-04, 3.42726052e-01, 6.56873405e-01],\n",
       "       [3.77465435e-03, 6.16135240e-01, 3.80090028e-01],\n",
       "       [1.10836136e-05, 1.12812735e-01, 8.87176156e-01]], dtype=float32)"
      ]
     },
     "execution_count": 47,
     "metadata": {},
     "output_type": "execute_result"
    }
   ],
   "source": [
    "model.predict(scaled_x_test)"
   ]
  },
  {
   "cell_type": "code",
   "execution_count": 48,
   "metadata": {},
   "outputs": [
    {
     "data": {
      "text/plain": [
       "array([1, 0, 2, 1, 2, 0, 1, 2, 2, 1, 2, 0, 0, 0, 0, 1, 2, 1, 1, 2, 0, 2,\n",
       "       0, 2, 2, 2, 2, 2, 0, 0, 0, 0, 1, 0, 0, 2, 1, 0, 0, 0, 2, 1, 1, 0,\n",
       "       0, 1, 2, 2, 1, 2])"
      ]
     },
     "execution_count": 48,
     "metadata": {},
     "output_type": "execute_result"
    }
   ],
   "source": [
    "model.predict_classes(scaled_x_test)"
   ]
  },
  {
   "cell_type": "code",
   "execution_count": 49,
   "metadata": {},
   "outputs": [],
   "source": [
    "preds = model.predict_classes(scaled_x_test)"
   ]
  },
  {
   "cell_type": "code",
   "execution_count": 50,
   "metadata": {},
   "outputs": [
    {
     "data": {
      "text/plain": [
       "array([1, 0, 2, 1, 1, 0, 1, 2, 1, 1, 2, 0, 0, 0, 0, 1, 2, 1, 1, 2, 0, 2,\n",
       "       0, 2, 2, 2, 2, 2, 0, 0, 0, 0, 1, 0, 0, 2, 1, 0, 0, 0, 2, 1, 1, 0,\n",
       "       0, 1, 2, 2, 1, 2])"
      ]
     },
     "execution_count": 50,
     "metadata": {},
     "output_type": "execute_result"
    }
   ],
   "source": [
    "y_test.argmax(axis=1)"
   ]
  },
  {
   "cell_type": "code",
   "execution_count": 51,
   "metadata": {},
   "outputs": [],
   "source": [
    "from sklearn.metrics import accuracy_score, confusion_matrix, classification_report"
   ]
  },
  {
   "cell_type": "code",
   "execution_count": 52,
   "metadata": {},
   "outputs": [
    {
     "data": {
      "text/plain": [
       "array([[19,  0,  0],\n",
       "       [ 0, 13,  2],\n",
       "       [ 0,  0, 16]])"
      ]
     },
     "execution_count": 52,
     "metadata": {},
     "output_type": "execute_result"
    }
   ],
   "source": [
    "confusion_matrix(y_test.argmax(axis=1), preds)"
   ]
  },
  {
   "cell_type": "code",
   "execution_count": 54,
   "metadata": {},
   "outputs": [
    {
     "name": "stdout",
     "output_type": "stream",
     "text": [
      "              precision    recall  f1-score   support\n",
      "\n",
      "           0       1.00      1.00      1.00        19\n",
      "           1       1.00      0.87      0.93        15\n",
      "           2       0.89      1.00      0.94        16\n",
      "\n",
      "    accuracy                           0.96        50\n",
      "   macro avg       0.96      0.96      0.96        50\n",
      "weighted avg       0.96      0.96      0.96        50\n",
      "\n"
     ]
    }
   ],
   "source": [
    "print(classification_report(y_test.argmax(axis=1), preds))"
   ]
  },
  {
   "cell_type": "code",
   "execution_count": 55,
   "metadata": {},
   "outputs": [
    {
     "data": {
      "text/plain": [
       "0.96"
      ]
     },
     "execution_count": 55,
     "metadata": {},
     "output_type": "execute_result"
    }
   ],
   "source": [
    "accuracy_score(y_test.argmax(axis=1), preds)"
   ]
  },
  {
   "cell_type": "code",
   "execution_count": 56,
   "metadata": {},
   "outputs": [],
   "source": [
    "model.save('iris_Classifier.h5')"
   ]
  },
  {
   "cell_type": "code",
   "execution_count": null,
   "metadata": {},
   "outputs": [],
   "source": []
  }
 ],
 "metadata": {
  "kernelspec": {
   "display_name": "pykit",
   "language": "python",
   "name": "pykit"
  },
  "language_info": {
   "codemirror_mode": {
    "name": "ipython",
    "version": 3
   },
   "file_extension": ".py",
   "mimetype": "text/x-python",
   "name": "python",
   "nbconvert_exporter": "python",
   "pygments_lexer": "ipython3",
   "version": "3.7.9"
  }
 },
 "nbformat": 4,
 "nbformat_minor": 4
}
