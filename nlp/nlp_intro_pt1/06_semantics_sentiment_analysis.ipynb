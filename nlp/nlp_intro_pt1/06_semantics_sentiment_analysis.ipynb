{
 "cells": [
  {
   "cell_type": "markdown",
   "metadata": {},
   "source": [
    "# Semantics & Sentiment Analysis\n",
    "\n",
    "![nlp](https://wrm5sysfkg-flywheel.netdna-ssl.com/wp-content/uploads/2019/01/NLP-Technology-in-Healthcare.jpg)"
   ]
  },
  {
   "cell_type": "markdown",
   "metadata": {},
   "source": [
    "# 6.1.0 - Introduction to Semantics & Sentiment Analysis   "
   ]
  },
  {
   "cell_type": "markdown",
   "metadata": {},
   "source": [
    "Goals and coverage:\n",
    "- Understanding semantic word vectors\n",
    "- Understanding sentiment analysis\n",
    "- Leverage sentiment analysis for the purpose of text classification"
   ]
  },
  {
   "cell_type": "markdown",
   "metadata": {},
   "source": [
    "# 6.2.0 - Semantics & word vectors"
   ]
  },
  {
   "cell_type": "markdown",
   "metadata": {},
   "source": [
    "## Required library downloads\n",
    "Ensure the following lib additions have been installed into your virtual/conda env:\n",
    "- python -m spacy download en_core_web_md\n",
    "- python -m spacy download en_core_web_lg \n",
    "\n",
    "**note:** both are large files and may take some time to complete the download.\n",
    "    \n",
    "## Word2vec\n",
    "\n",
    "#### Q: What is Word2vec?\n",
    "A: [Word2vec](https://en.wikipedia.org/wiki/Word2vec) is a two-layer neural net processes text. The input is a text corpus and the output is a set of vectors: feature vectors for words in that corpus. \n",
    "\n",
    "#### Q: What does it do?\n",
    "A: The usefulness, or purpose of vectors is the vectors of similar words together in vectorspace. This is a process of mathematically detected similarities. The vectors created by `Word2vec` are distributed numerical representations of word features, features such as the context of individual words. This is done without human intervention. Therefore, given enough data, usage and contexts `Word2vec` can make highly accurate guesses about the meaning of a word based on past appearances. The guesses can be used to establish a word association with other words.\n",
    "\n",
    "#### Q: How does it work?\n",
    "A: Word2vec trains words against other words that neighbour them in the input corpus. This is done in two possible ways: \n",
    "1. Using context to predict a target word (continuous bag of words)\n",
    "2. Skip-gram, which uses words to predict a context. \n",
    "\n",
    "Basically, inverses of each other. At the end of the process each word is represented by a vector and that in the spacy library each of these vectors has 300 dimensions. "
   ]
  },
  {
   "cell_type": "markdown",
   "metadata": {},
   "source": [
    "## Cosine similarity\n",
    "\n",
    "The vectorisation process means we can use cosine similarity to measure how similar words are to one another. To get a result this means taken a number of 300-dimensional vectors and making comparisons to derive a similarity. This enables us to perform vector arithmetic with these word vectors. \n",
    "eg: \n",
    "- new_vec = (king - man) + woman\n",
    "- new_vec = giraffe - (tiger + zebra)\n",
    "\n",
    "This creates new vectors not directly associated with a word that allows us to attempt to find the most similar vectors. In the example of `king` this may be queen because of the gender contexts. In the case of `giraffes` this may be something related to skin markings and patterns given all animals have distinguishing markings.    "
   ]
  },
  {
   "cell_type": "code",
   "execution_count": null,
   "metadata": {},
   "outputs": [],
   "source": []
  },
  {
   "cell_type": "markdown",
   "metadata": {},
   "source": [
    "# 6.3.0 - Semantics & word vectors with Spacy"
   ]
  },
  {
   "cell_type": "code",
   "execution_count": null,
   "metadata": {},
   "outputs": [],
   "source": []
  },
  {
   "cell_type": "markdown",
   "metadata": {},
   "source": [
    "# 6.4.0 - Sentiment Analysis overview"
   ]
  },
  {
   "cell_type": "code",
   "execution_count": null,
   "metadata": {},
   "outputs": [],
   "source": []
  },
  {
   "cell_type": "markdown",
   "metadata": {},
   "source": [
    "# 6.5.0 - Sentiment Analysis with NLTK"
   ]
  },
  {
   "cell_type": "code",
   "execution_count": null,
   "metadata": {},
   "outputs": [],
   "source": []
  },
  {
   "cell_type": "code",
   "execution_count": null,
   "metadata": {},
   "outputs": [],
   "source": []
  }
 ],
 "metadata": {
  "kernelspec": {
   "display_name": "pykit",
   "language": "python",
   "name": "pykit"
  },
  "language_info": {
   "codemirror_mode": {
    "name": "ipython",
    "version": 3
   },
   "file_extension": ".py",
   "mimetype": "text/x-python",
   "name": "python",
   "nbconvert_exporter": "python",
   "pygments_lexer": "ipython3",
   "version": "3.7.9"
  }
 },
 "nbformat": 4,
 "nbformat_minor": 4
}
