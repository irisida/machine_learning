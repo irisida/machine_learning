{
 "cells": [
  {
   "cell_type": "markdown",
   "metadata": {},
   "source": [
    "# NLP Introduction\n",
    "\n",
    "![nlp](https://wrm5sysfkg-flywheel.netdna-ssl.com/wp-content/uploads/2019/01/NLP-Technology-in-Healthcare.jpg)"
   ]
  },
  {
   "cell_type": "markdown",
   "metadata": {},
   "source": [
    "# 1.0.0 - Setup and course info\n",
    "\n",
    "This is the notes and exercises from the following udemy course: https://www.udemy.com/course/nlp-natural-language-processing-with-python"
   ]
  },
  {
   "cell_type": "markdown",
   "metadata": {},
   "source": [
    "# 2.0.0 - Text formatting basics"
   ]
  },
  {
   "cell_type": "markdown",
   "metadata": {},
   "source": [
    "## 2.0.1 - Formatted strings with f-strings and format method.\n",
    "Before python 3.6 it was common to use the `.format` method of formatting strings. This repository is based on python 3.7 and above and this means we can take advantage of what are commonly referred to in the python world as `f-strings` or, formatted string literals."
   ]
  },
  {
   "cell_type": "code",
   "execution_count": 29,
   "metadata": {},
   "outputs": [
    {
     "name": "stdout",
     "output_type": "stream",
     "text": [
      "One, Two, Three\n"
     ]
    }
   ],
   "source": [
    "# an example of the .format method\n",
    "v1 = 'One'\n",
    "v2 = 'Two'\n",
    "v3 = 'Three'\n",
    "print(\"{}, {}, {}\".format(v1,v2,v3))"
   ]
  },
  {
   "cell_type": "code",
   "execution_count": 30,
   "metadata": {},
   "outputs": [
    {
     "name": "stdout",
     "output_type": "stream",
     "text": [
      "One, Two, Three\n"
     ]
    }
   ],
   "source": [
    "# an f-string example \n",
    "v1 = 'One'\n",
    "v2 = 'Two'\n",
    "v3 = 'Three'\n",
    "print(f\"{v1}, {v2}, {v3}\")"
   ]
  },
  {
   "cell_type": "markdown",
   "metadata": {},
   "source": [
    "These newer string formatting options allow for us to perform operations on the subjects too. "
   ]
  },
  {
   "cell_type": "code",
   "execution_count": 6,
   "metadata": {},
   "outputs": [],
   "source": [
    "# create a example dictionary\n",
    "d = { \"id\": 12345, \"ref\": 3335577, \"name\": \"Ed\" }"
   ]
  },
  {
   "cell_type": "code",
   "execution_count": 7,
   "metadata": {},
   "outputs": [
    {
     "name": "stdout",
     "output_type": "stream",
     "text": [
      "Employee: Ed has id: 12345 and reference: 3335577\n"
     ]
    }
   ],
   "source": [
    "print(f\"Employee: {d['name']} has id: {d['id']} and reference: {d['ref']}\")"
   ]
  },
  {
   "cell_type": "markdown",
   "metadata": {},
   "source": [
    "## 2.0.2 Formatting structures with f-strings\n",
    "Let's have a look at formating some structured data in a way that's a little bit more accessible. "
   ]
  },
  {
   "cell_type": "code",
   "execution_count": 8,
   "metadata": {},
   "outputs": [],
   "source": [
    "data = [('Author', 'Topic', 'Pages'), \n",
    "        ('A. Thakur', 'Approaching ML', 300), \n",
    "        ('J. Howard', 'fastai/Pytorch', 550 ), \n",
    "        ('D. Spiegelhalter', 'Art of Stats', 330)]"
   ]
  },
  {
   "cell_type": "code",
   "execution_count": 9,
   "metadata": {},
   "outputs": [
    {
     "name": "stdout",
     "output_type": "stream",
     "text": [
      "Author Topic Pages\n",
      "A. Thakur Approaching ML 300\n",
      "J. Howard fastai/Pytorch 550\n",
      "D. Spiegelhalter Art of Stats 330\n"
     ]
    }
   ],
   "source": [
    "# show a poor formatted, or unformatted output of the table\n",
    "for author, topic, pages in data:\n",
    "    print(f\"{author} {topic} {pages}\")"
   ]
  },
  {
   "cell_type": "code",
   "execution_count": 10,
   "metadata": {},
   "outputs": [
    {
     "name": "stdout",
     "output_type": "stream",
     "text": [
      "Author           Topic                           Pages\n",
      "A. Thakur        Approaching ML                    300\n",
      "J. Howard        fastai/Pytorch                    550\n",
      "D. Spiegelhalter Art of Stats                      330\n"
     ]
    }
   ],
   "source": [
    "# show a position formatted example\n",
    "for author, topic, pages in data:\n",
    "    print(f\"{author:{16}} {topic:{30}} {pages:>{6}}\")"
   ]
  },
  {
   "cell_type": "markdown",
   "metadata": {},
   "source": [
    "## 2.0.3 Formatting date and time data\n",
    "\n",
    "We may want, or need, to format time and date based data. We can use http://strftime.org to reference the correct codes to match our formatting intentions. "
   ]
  },
  {
   "cell_type": "code",
   "execution_count": 11,
   "metadata": {},
   "outputs": [
    {
     "name": "stdout",
     "output_type": "stream",
     "text": [
      "2020-09-19 00:00:00\n"
     ]
    }
   ],
   "source": [
    "from datetime import datetime\n",
    "\n",
    "# declare a date\n",
    "today = datetime(year=2020, month=9, day=19)\n",
    "\n",
    "print(f\"{today}\")"
   ]
  },
  {
   "cell_type": "code",
   "execution_count": 16,
   "metadata": {},
   "outputs": [
    {
     "name": "stdout",
     "output_type": "stream",
     "text": [
      "Sat\n",
      "Saturday\n",
      "6\n",
      "Sep\n",
      "September\n",
      "09\n"
     ]
    }
   ],
   "source": [
    "# some selected field formats applicable to the day\n",
    "print(f\"{today:%a}\")\n",
    "print(f\"{today:%A}\")\n",
    "print(f\"{today:%w}\")\n",
    "\n",
    "# some selected field formats applicable to the month\n",
    "print(f\"{today:%b}\")\n",
    "print(f\"{today:%B}\")\n",
    "print(f\"{today:%m}\")"
   ]
  },
  {
   "cell_type": "markdown",
   "metadata": {},
   "source": [
    "# 2.1.0 - Working with Text files in Python"
   ]
  },
  {
   "cell_type": "code",
   "execution_count": 19,
   "metadata": {},
   "outputs": [],
   "source": [
    "# jupyter method quickly writing a testfile"
   ]
  },
  {
   "cell_type": "code",
   "execution_count": 31,
   "metadata": {},
   "outputs": [
    {
     "name": "stdout",
     "output_type": "stream",
     "text": [
      "Overwriting sampletext.txt\n"
     ]
    }
   ],
   "source": [
    "%%writefile sampletext.txt\n",
    "This is a sample text file for testing.\n",
    "This is the second line of the file\n",
    "...and this is the third."
   ]
  },
  {
   "cell_type": "markdown",
   "metadata": {},
   "source": [
    "## 2.1.1 - opening and reading files"
   ]
  },
  {
   "cell_type": "code",
   "execution_count": 32,
   "metadata": {},
   "outputs": [],
   "source": [
    "# standard python inbuilt method to open a file. \n",
    "myfile = open('sampletext.txt')"
   ]
  },
  {
   "cell_type": "code",
   "execution_count": 33,
   "metadata": {},
   "outputs": [
    {
     "data": {
      "text/plain": [
       "'This is a sample text file for testing.\\nThis is the second line of the file\\n...and this is the third.\\n'"
      ]
     },
     "execution_count": 33,
     "metadata": {},
     "output_type": "execute_result"
    }
   ],
   "source": [
    "# reads a file in entirety \n",
    "myfile.read()"
   ]
  },
  {
   "cell_type": "markdown",
   "metadata": {},
   "source": [
    "Multiple calls to `read()` will not have the desired effect because of the cursor for a file. After a call to `read()` the cursor will be at the end pf the file and subsequent call will return an empty string, or unexpected result. To reset the cursor position back to the beginning of a file we can use the `seek(0)` method to facilitate further calls to `read()` with a more expected action/outcome."
   ]
  },
  {
   "cell_type": "code",
   "execution_count": 34,
   "metadata": {},
   "outputs": [
    {
     "name": "stdout",
     "output_type": "stream",
     "text": [
      "This is a sample text file for testing.\n",
      "This is the second line of the file\n",
      "...and this is the third.\n",
      "\n"
     ]
    }
   ],
   "source": [
    "# reset the file cursor \n",
    "myfile.seek(0)\n",
    "\n",
    "# assign the contents of a file to a variable \n",
    "content = myfile.read()\n",
    "\n",
    "# close the file. We should ensure to always close a file we are working with \n",
    "# after we have finished with it, or no longer need it to be open. Forgetting\n",
    "# to clean up here can cause errors in other programs if your file is reqiured \n",
    "# or affected by other scripts or programs. \n",
    "myfile.close()\n",
    "\n",
    "# note that we have opened, grabbed and closed the file but our variable lives \n",
    "# on and we can work with the content of a file without it needing to be open. \n",
    "print(content)"
   ]
  },
  {
   "cell_type": "markdown",
   "metadata": {},
   "source": [
    "## 2.1.2 - Reading files line by line "
   ]
  },
  {
   "cell_type": "markdown",
   "metadata": {},
   "source": [
    "It's more likely that when working with files you may want to read, process them line by line. We can do this by using the `readlines()` method to read a file line by line and create list structure of the lines within a file. "
   ]
  },
  {
   "cell_type": "code",
   "execution_count": 50,
   "metadata": {},
   "outputs": [],
   "source": [
    "myfile = open('sampletext.txt')"
   ]
  },
  {
   "cell_type": "code",
   "execution_count": 51,
   "metadata": {},
   "outputs": [],
   "source": [
    "mylines = myfile.readlines()"
   ]
  },
  {
   "cell_type": "code",
   "execution_count": 52,
   "metadata": {},
   "outputs": [
    {
     "data": {
      "text/plain": [
       "['This is a sample text file for testing.\\n',\n",
       " 'This is the second line of the file\\n',\n",
       " '...and this is the third.\\n']"
      ]
     },
     "execution_count": 52,
     "metadata": {},
     "output_type": "execute_result"
    }
   ],
   "source": [
    "mylines"
   ]
  },
  {
   "cell_type": "markdown",
   "metadata": {},
   "source": [
    "Now that we have a variable that is housing the lines of a file we can demonstrate somw simple operations we can perform with it."
   ]
  },
  {
   "cell_type": "code",
   "execution_count": 53,
   "metadata": {},
   "outputs": [
    {
     "name": "stdout",
     "output_type": "stream",
     "text": [
      "This is a sample text file for testing.\n",
      "This is the second line of the file\n",
      "...and this is the third.\n"
     ]
    }
   ],
   "source": [
    "# We have a newline character at the end of each line. If we simply\n",
    "# list by each line they will be separated by a empty line because\n",
    "# the default end of a print statement is the newline character. If\n",
    "# we simply want to show the lines as they appear in the file we can\n",
    "# iterate across the line values and remove only the very last char \n",
    "# of each line, because we know that for each line of our file that \n",
    "# character will be a newline char. \n",
    "\n",
    "for line in mylines:\n",
    "    print(line[:-1])"
   ]
  },
  {
   "cell_type": "code",
   "execution_count": 64,
   "metadata": {},
   "outputs": [
    {
     "name": "stdout",
     "output_type": "stream",
     "text": [
      "File content     : This is a sample text file for testing.\n",
      "Processed content: ['This', 'a', 'text', 'for']\n",
      "File content     : This is the second line of the file\n",
      "Processed content: ['This', 'the', 'line', 'the']\n",
      "File content     : ...and this is the third.\n",
      "Processed content: ['...and', 'is', 'third.']\n"
     ]
    }
   ],
   "source": [
    "# we can do other ridiculous operations too such as showing\n",
    "# only every other word\n",
    "\n",
    "for line in mylines:\n",
    "    line = line[:-1]\n",
    "    words = line.split()\n",
    "    subset = [x for idx, x in enumerate(words) if idx % 2 == 0]\n",
    "    print(f\"File content     : {line}\")\n",
    "    print(f\"Processed content: {subset}\")\n",
    "    "
   ]
  },
  {
   "cell_type": "code",
   "execution_count": 37,
   "metadata": {},
   "outputs": [],
   "source": [
    "#myfile.close()"
   ]
  },
  {
   "cell_type": "code",
   "execution_count": null,
   "metadata": {},
   "outputs": [],
   "source": []
  }
 ],
 "metadata": {
  "kernelspec": {
   "display_name": "pykit",
   "language": "python",
   "name": "pykit"
  },
  "language_info": {
   "codemirror_mode": {
    "name": "ipython",
    "version": 3
   },
   "file_extension": ".py",
   "mimetype": "text/x-python",
   "name": "python",
   "nbconvert_exporter": "python",
   "pygments_lexer": "ipython3",
   "version": "3.7.9"
  }
 },
 "nbformat": 4,
 "nbformat_minor": 4
}
