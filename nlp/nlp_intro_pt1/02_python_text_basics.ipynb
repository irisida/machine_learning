{
 "cells": [
  {
   "cell_type": "markdown",
   "metadata": {},
   "source": [
    "# NLP Introduction\n",
    "\n",
    "![nlp](https://wrm5sysfkg-flywheel.netdna-ssl.com/wp-content/uploads/2019/01/NLP-Technology-in-Healthcare.jpg)"
   ]
  },
  {
   "cell_type": "markdown",
   "metadata": {},
   "source": [
    "# 1.0.0 - Setup and course info\n",
    "\n",
    "This is the notes and exercises from the following udemy course: https://www.udemy.com/course/nlp-natural-language-processing-with-python"
   ]
  },
  {
   "cell_type": "markdown",
   "metadata": {},
   "source": [
    "# 2.0.0 - Text formatting basics"
   ]
  },
  {
   "cell_type": "markdown",
   "metadata": {},
   "source": [
    "## 2.0.1 - Formatted strings with f-strings and format method.\n",
    "Before python 3.6 it was common to use the `.format` method of formatting strings. This repository is based on python 3.7 and above and this means we can take advantage of what are commonly referred to in the python world as `f-strings` or, formatted string literals."
   ]
  },
  {
   "cell_type": "code",
   "execution_count": 3,
   "metadata": {},
   "outputs": [
    {
     "name": "stdout",
     "output_type": "stream",
     "text": [
      "One, Two, Three\n"
     ]
    }
   ],
   "source": [
    "# an example of the .format method\n",
    "v1 = 'One'\n",
    "v2 = 'Two'\n",
    "v3 = 'Three'\n",
    "print(\"{}, {}, {}\".format(v1,v2,v3))"
   ]
  },
  {
   "cell_type": "code",
   "execution_count": 4,
   "metadata": {},
   "outputs": [
    {
     "name": "stdout",
     "output_type": "stream",
     "text": [
      "One, Two, Three\n"
     ]
    }
   ],
   "source": [
    "# an f-string example \n",
    "v1 = 'One'\n",
    "v2 = 'Two'\n",
    "v3 = 'Three'\n",
    "print(f\"{v1}, {v2}, {v3}\")"
   ]
  },
  {
   "cell_type": "markdown",
   "metadata": {},
   "source": [
    "These newer string formatting options allow for us to perform operations on the subjects too. "
   ]
  },
  {
   "cell_type": "code",
   "execution_count": 6,
   "metadata": {},
   "outputs": [],
   "source": [
    "# create a example dictionary\n",
    "d = { \"id\": 12345, \"ref\": 3335577, \"name\": \"Ed\" }"
   ]
  },
  {
   "cell_type": "code",
   "execution_count": 7,
   "metadata": {},
   "outputs": [
    {
     "name": "stdout",
     "output_type": "stream",
     "text": [
      "Employee: Ed has id: 12345 and reference: 3335577\n"
     ]
    }
   ],
   "source": [
    "print(f\"Employee: {d['name']} has id: {d['id']} and reference: {d['ref']}\")"
   ]
  },
  {
   "cell_type": "markdown",
   "metadata": {},
   "source": [
    "## 2.0.2 Formatting structures with f-strings\n",
    "Let's have a look at formating some structured data in a way that's a little bit more accessible. "
   ]
  },
  {
   "cell_type": "code",
   "execution_count": 8,
   "metadata": {},
   "outputs": [],
   "source": [
    "data = [('Author', 'Topic', 'Pages'), \n",
    "        ('A. Thakur', 'Approaching ML', 300), \n",
    "        ('J. Howard', 'fastai/Pytorch', 550 ), \n",
    "        ('D. Spiegelhalter', 'Art of Stats', 330)]"
   ]
  },
  {
   "cell_type": "code",
   "execution_count": 9,
   "metadata": {},
   "outputs": [
    {
     "name": "stdout",
     "output_type": "stream",
     "text": [
      "Author Topic Pages\n",
      "A. Thakur Approaching ML 300\n",
      "J. Howard fastai/Pytorch 550\n",
      "D. Spiegelhalter Art of Stats 330\n"
     ]
    }
   ],
   "source": [
    "# show a poor formatted, or unformatted output of the table\n",
    "for author, topic, pages in data:\n",
    "    print(f\"{author} {topic} {pages}\")"
   ]
  },
  {
   "cell_type": "code",
   "execution_count": 10,
   "metadata": {},
   "outputs": [
    {
     "name": "stdout",
     "output_type": "stream",
     "text": [
      "Author           Topic                           Pages\n",
      "A. Thakur        Approaching ML                    300\n",
      "J. Howard        fastai/Pytorch                    550\n",
      "D. Spiegelhalter Art of Stats                      330\n"
     ]
    }
   ],
   "source": [
    "# show a position formatted example\n",
    "for author, topic, pages in data:\n",
    "    print(f\"{author:{16}} {topic:{30}} {pages:>{6}}\")"
   ]
  },
  {
   "cell_type": "markdown",
   "metadata": {},
   "source": [
    "## 2.0.3 Formatting date and time data\n",
    "\n",
    "We may want, or need, to format time and date based data. We can use http://strftime.org to reference the correct codes to match our formatting intentions. "
   ]
  },
  {
   "cell_type": "code",
   "execution_count": 11,
   "metadata": {},
   "outputs": [
    {
     "name": "stdout",
     "output_type": "stream",
     "text": [
      "2020-09-19 00:00:00\n"
     ]
    }
   ],
   "source": [
    "from datetime import datetime\n",
    "\n",
    "# declare a date\n",
    "today = datetime(year=2020, month=9, day=19)\n",
    "\n",
    "print(f\"{today}\")"
   ]
  },
  {
   "cell_type": "code",
   "execution_count": 16,
   "metadata": {},
   "outputs": [
    {
     "name": "stdout",
     "output_type": "stream",
     "text": [
      "Sat\n",
      "Saturday\n",
      "6\n",
      "Sep\n",
      "September\n",
      "09\n"
     ]
    }
   ],
   "source": [
    "# some selected field formats applicable to the day\n",
    "print(f\"{today:%a}\")\n",
    "print(f\"{today:%A}\")\n",
    "print(f\"{today:%w}\")\n",
    "\n",
    "# some selected field formats applicable to the month\n",
    "print(f\"{today:%b}\")\n",
    "print(f\"{today:%B}\")\n",
    "print(f\"{today:%m}\")"
   ]
  },
  {
   "cell_type": "markdown",
   "metadata": {},
   "source": [
    "# 2.1.0 - Working with Text files in Python"
   ]
  },
  {
   "cell_type": "code",
   "execution_count": null,
   "metadata": {},
   "outputs": [],
   "source": []
  }
 ],
 "metadata": {
  "kernelspec": {
   "display_name": "pykit",
   "language": "python",
   "name": "pykit"
  },
  "language_info": {
   "codemirror_mode": {
    "name": "ipython",
    "version": 3
   },
   "file_extension": ".py",
   "mimetype": "text/x-python",
   "name": "python",
   "nbconvert_exporter": "python",
   "pygments_lexer": "ipython3",
   "version": "3.7.9"
  }
 },
 "nbformat": 4,
 "nbformat_minor": 4
}
