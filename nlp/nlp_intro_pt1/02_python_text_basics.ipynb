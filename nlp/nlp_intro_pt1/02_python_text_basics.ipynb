{
 "cells": [
  {
   "cell_type": "markdown",
   "metadata": {},
   "source": [
    "# NLP Introduction\n",
    "\n",
    "![nlp](https://wrm5sysfkg-flywheel.netdna-ssl.com/wp-content/uploads/2019/01/NLP-Technology-in-Healthcare.jpg)"
   ]
  },
  {
   "cell_type": "markdown",
   "metadata": {},
   "source": [
    "# 1.0.0 - Setup and course info\n",
    "\n",
    "This is the notes and exercises from the following udemy course: https://www.udemy.com/course/nlp-natural-language-processing-with-python"
   ]
  },
  {
   "cell_type": "markdown",
   "metadata": {},
   "source": [
    "# 2.0.0 - Text formatting basics"
   ]
  },
  {
   "cell_type": "markdown",
   "metadata": {},
   "source": [
    "## 2.0.1 - Formatted strings with f-strings and format method.\n",
    "Before python 3.6 it was common to use the `.format` method of formatting strings. This repository is based on python 3.7 and above and this means we can take advantage of what are commonly referred to in the python world as `f-strings` or, formatted string literals."
   ]
  },
  {
   "cell_type": "code",
   "execution_count": 29,
   "metadata": {},
   "outputs": [
    {
     "name": "stdout",
     "output_type": "stream",
     "text": [
      "One, Two, Three\n"
     ]
    }
   ],
   "source": [
    "# an example of the .format method\n",
    "v1 = 'One'\n",
    "v2 = 'Two'\n",
    "v3 = 'Three'\n",
    "print(\"{}, {}, {}\".format(v1,v2,v3))"
   ]
  },
  {
   "cell_type": "code",
   "execution_count": 30,
   "metadata": {},
   "outputs": [
    {
     "name": "stdout",
     "output_type": "stream",
     "text": [
      "One, Two, Three\n"
     ]
    }
   ],
   "source": [
    "# an f-string example \n",
    "v1 = 'One'\n",
    "v2 = 'Two'\n",
    "v3 = 'Three'\n",
    "print(f\"{v1}, {v2}, {v3}\")"
   ]
  },
  {
   "cell_type": "markdown",
   "metadata": {},
   "source": [
    "These newer string formatting options allow for us to perform operations on the subjects too. "
   ]
  },
  {
   "cell_type": "code",
   "execution_count": 6,
   "metadata": {},
   "outputs": [],
   "source": [
    "# create a example dictionary\n",
    "d = { \"id\": 12345, \"ref\": 3335577, \"name\": \"Ed\" }"
   ]
  },
  {
   "cell_type": "code",
   "execution_count": 7,
   "metadata": {},
   "outputs": [
    {
     "name": "stdout",
     "output_type": "stream",
     "text": [
      "Employee: Ed has id: 12345 and reference: 3335577\n"
     ]
    }
   ],
   "source": [
    "print(f\"Employee: {d['name']} has id: {d['id']} and reference: {d['ref']}\")"
   ]
  },
  {
   "cell_type": "markdown",
   "metadata": {},
   "source": [
    "## 2.0.2 Formatting structures with f-strings\n",
    "Let's have a look at formating some structured data in a way that's a little bit more accessible. "
   ]
  },
  {
   "cell_type": "code",
   "execution_count": 8,
   "metadata": {},
   "outputs": [],
   "source": [
    "data = [('Author', 'Topic', 'Pages'), \n",
    "        ('A. Thakur', 'Approaching ML', 300), \n",
    "        ('J. Howard', 'fastai/Pytorch', 550 ), \n",
    "        ('D. Spiegelhalter', 'Art of Stats', 330)]"
   ]
  },
  {
   "cell_type": "code",
   "execution_count": 9,
   "metadata": {},
   "outputs": [
    {
     "name": "stdout",
     "output_type": "stream",
     "text": [
      "Author Topic Pages\n",
      "A. Thakur Approaching ML 300\n",
      "J. Howard fastai/Pytorch 550\n",
      "D. Spiegelhalter Art of Stats 330\n"
     ]
    }
   ],
   "source": [
    "# show a poor formatted, or unformatted output of the table\n",
    "for author, topic, pages in data:\n",
    "    print(f\"{author} {topic} {pages}\")"
   ]
  },
  {
   "cell_type": "code",
   "execution_count": 10,
   "metadata": {},
   "outputs": [
    {
     "name": "stdout",
     "output_type": "stream",
     "text": [
      "Author           Topic                           Pages\n",
      "A. Thakur        Approaching ML                    300\n",
      "J. Howard        fastai/Pytorch                    550\n",
      "D. Spiegelhalter Art of Stats                      330\n"
     ]
    }
   ],
   "source": [
    "# show a position formatted example\n",
    "for author, topic, pages in data:\n",
    "    print(f\"{author:{16}} {topic:{30}} {pages:>{6}}\")"
   ]
  },
  {
   "cell_type": "markdown",
   "metadata": {},
   "source": [
    "## 2.0.3 Formatting date and time data\n",
    "\n",
    "We may want, or need, to format time and date based data. We can use http://strftime.org to reference the correct codes to match our formatting intentions. "
   ]
  },
  {
   "cell_type": "code",
   "execution_count": 11,
   "metadata": {},
   "outputs": [
    {
     "name": "stdout",
     "output_type": "stream",
     "text": [
      "2020-09-19 00:00:00\n"
     ]
    }
   ],
   "source": [
    "from datetime import datetime\n",
    "\n",
    "# declare a date\n",
    "today = datetime(year=2020, month=9, day=19)\n",
    "\n",
    "print(f\"{today}\")"
   ]
  },
  {
   "cell_type": "code",
   "execution_count": 16,
   "metadata": {},
   "outputs": [
    {
     "name": "stdout",
     "output_type": "stream",
     "text": [
      "Sat\n",
      "Saturday\n",
      "6\n",
      "Sep\n",
      "September\n",
      "09\n"
     ]
    }
   ],
   "source": [
    "# some selected field formats applicable to the day\n",
    "print(f\"{today:%a}\")\n",
    "print(f\"{today:%A}\")\n",
    "print(f\"{today:%w}\")\n",
    "\n",
    "# some selected field formats applicable to the month\n",
    "print(f\"{today:%b}\")\n",
    "print(f\"{today:%B}\")\n",
    "print(f\"{today:%m}\")"
   ]
  },
  {
   "cell_type": "markdown",
   "metadata": {},
   "source": [
    "# 2.1.0 - Working with Text files in Python"
   ]
  },
  {
   "cell_type": "code",
   "execution_count": 19,
   "metadata": {},
   "outputs": [],
   "source": [
    "# jupyter method quickly writing a testfile"
   ]
  },
  {
   "cell_type": "code",
   "execution_count": 31,
   "metadata": {},
   "outputs": [
    {
     "name": "stdout",
     "output_type": "stream",
     "text": [
      "Overwriting sampletext.txt\n"
     ]
    }
   ],
   "source": [
    "%%writefile sampletext.txt\n",
    "This is a sample text file for testing.\n",
    "This is the second line of the file\n",
    "...and this is the third."
   ]
  },
  {
   "cell_type": "markdown",
   "metadata": {},
   "source": [
    "## 2.1.1 - opening and reading files"
   ]
  },
  {
   "cell_type": "code",
   "execution_count": 32,
   "metadata": {},
   "outputs": [],
   "source": [
    "# standard python inbuilt method to open a file. \n",
    "myfile = open('sampletext.txt')"
   ]
  },
  {
   "cell_type": "code",
   "execution_count": 33,
   "metadata": {},
   "outputs": [
    {
     "data": {
      "text/plain": [
       "'This is a sample text file for testing.\\nThis is the second line of the file\\n...and this is the third.\\n'"
      ]
     },
     "execution_count": 33,
     "metadata": {},
     "output_type": "execute_result"
    }
   ],
   "source": [
    "# reads a file in entirety \n",
    "myfile.read()"
   ]
  },
  {
   "cell_type": "markdown",
   "metadata": {},
   "source": [
    "Multiple calls to `read()` will not have the desired effect because of the cursor for a file. After a call to `read()` the cursor will be at the end pf the file and subsequent call will return an empty string, or unexpected result. To reset the cursor position back to the beginning of a file we can use the `seek(0)` method to facilitate further calls to `read()` with a more expected action/outcome."
   ]
  },
  {
   "cell_type": "code",
   "execution_count": 34,
   "metadata": {},
   "outputs": [
    {
     "name": "stdout",
     "output_type": "stream",
     "text": [
      "This is a sample text file for testing.\n",
      "This is the second line of the file\n",
      "...and this is the third.\n",
      "\n"
     ]
    }
   ],
   "source": [
    "# reset the file cursor \n",
    "myfile.seek(0)\n",
    "\n",
    "# assign the contents of a file to a variable \n",
    "content = myfile.read()\n",
    "\n",
    "# close the file. We should ensure to always close a file we are working with \n",
    "# after we have finished with it, or no longer need it to be open. Forgetting\n",
    "# to clean up here can cause errors in other programs if your file is reqiured \n",
    "# or affected by other scripts or programs. \n",
    "myfile.close()\n",
    "\n",
    "# note that we have opened, grabbed and closed the file but our variable lives \n",
    "# on and we can work with the content of a file without it needing to be open. \n",
    "print(content)"
   ]
  },
  {
   "cell_type": "markdown",
   "metadata": {},
   "source": [
    "## 2.1.2 - Reading files line by line "
   ]
  },
  {
   "cell_type": "markdown",
   "metadata": {},
   "source": [
    "It's more likely that when working with files you may want to read, process them line by line. We can do this by using the `readlines()` method to read a file line by line and create list structure of the lines within a file. "
   ]
  },
  {
   "cell_type": "code",
   "execution_count": 50,
   "metadata": {},
   "outputs": [],
   "source": [
    "myfile = open('resources/sampletext.txt')"
   ]
  },
  {
   "cell_type": "code",
   "execution_count": 51,
   "metadata": {},
   "outputs": [],
   "source": [
    "mylines = myfile.readlines()"
   ]
  },
  {
   "cell_type": "code",
   "execution_count": 52,
   "metadata": {},
   "outputs": [
    {
     "data": {
      "text/plain": [
       "['This is a sample text file for testing.\\n',\n",
       " 'This is the second line of the file\\n',\n",
       " '...and this is the third.\\n']"
      ]
     },
     "execution_count": 52,
     "metadata": {},
     "output_type": "execute_result"
    }
   ],
   "source": [
    "mylines"
   ]
  },
  {
   "cell_type": "markdown",
   "metadata": {},
   "source": [
    "Now that we have a variable that is housing the lines of a file we can demonstrate somw simple operations we can perform with it."
   ]
  },
  {
   "cell_type": "code",
   "execution_count": 53,
   "metadata": {},
   "outputs": [
    {
     "name": "stdout",
     "output_type": "stream",
     "text": [
      "This is a sample text file for testing.\n",
      "This is the second line of the file\n",
      "...and this is the third.\n"
     ]
    }
   ],
   "source": [
    "# We have a newline character at the end of each line. If we simply\n",
    "# list by each line they will be separated by a empty line because\n",
    "# the default end of a print statement is the newline character. If\n",
    "# we simply want to show the lines as they appear in the file we can\n",
    "# iterate across the line values and remove only the very last char \n",
    "# of each line, because we know that for each line of our file that \n",
    "# character will be a newline char. \n",
    "\n",
    "for line in mylines:\n",
    "    print(line[:-1])"
   ]
  },
  {
   "cell_type": "code",
   "execution_count": 64,
   "metadata": {},
   "outputs": [
    {
     "name": "stdout",
     "output_type": "stream",
     "text": [
      "File content     : This is a sample text file for testing.\n",
      "Processed content: ['This', 'a', 'text', 'for']\n",
      "File content     : This is the second line of the file\n",
      "Processed content: ['This', 'the', 'line', 'the']\n",
      "File content     : ...and this is the third.\n",
      "Processed content: ['...and', 'is', 'third.']\n"
     ]
    }
   ],
   "source": [
    "# we can do other ridiculous operations too such as showing\n",
    "# only every other word\n",
    "\n",
    "for line in mylines:\n",
    "    line = line[:-1]\n",
    "    words = line.split()\n",
    "    subset = [x for idx, x in enumerate(words) if idx % 2 == 0]\n",
    "    print(f\"File content     : {line}\")\n",
    "    print(f\"Processed content: {subset}\")\n",
    "    "
   ]
  },
  {
   "cell_type": "code",
   "execution_count": 65,
   "metadata": {},
   "outputs": [],
   "source": [
    "myfile.close()"
   ]
  },
  {
   "cell_type": "markdown",
   "metadata": {},
   "source": [
    "## 2.1.3 - Writing to a file \n",
    "\n",
    "Now we'll have a look at writing to a file. Important note is that writing to and appending to a file are two different things. Write will overwrite a files content and append will append more content to the existing content."
   ]
  },
  {
   "cell_type": "code",
   "execution_count": 66,
   "metadata": {},
   "outputs": [],
   "source": [
    "# open a file in both read and write mode\n",
    "# caution is that changes will overwrite the files current content\n",
    "myfile = open('resources/sampletext.txt', 'w+')"
   ]
  },
  {
   "cell_type": "code",
   "execution_count": 68,
   "metadata": {},
   "outputs": [
    {
     "data": {
      "text/plain": [
       "''"
      ]
     },
     "execution_count": 68,
     "metadata": {},
     "output_type": "execute_result"
    }
   ],
   "source": [
    "# note that the read method returns an empty result here because our\n",
    "# file has effectively been truncated and is ready to be written to\n",
    "# and that content will be the entire content of the file\n",
    "myfile.read()"
   ]
  },
  {
   "cell_type": "code",
   "execution_count": 69,
   "metadata": {},
   "outputs": [
    {
     "data": {
      "text/plain": [
       "36"
      ]
     },
     "execution_count": 69,
     "metadata": {},
     "output_type": "execute_result"
    }
   ],
   "source": [
    "myfile.write(\"This is the new content of the file.\")"
   ]
  },
  {
   "cell_type": "code",
   "execution_count": 70,
   "metadata": {},
   "outputs": [
    {
     "data": {
      "text/plain": [
       "'This is the new content of the file.'"
      ]
     },
     "execution_count": 70,
     "metadata": {},
     "output_type": "execute_result"
    }
   ],
   "source": [
    "# reset the cursor and read the file to confirm our new content. \n",
    "myfile.seek(0)\n",
    "myfile.read()"
   ]
  },
  {
   "cell_type": "code",
   "execution_count": 71,
   "metadata": {},
   "outputs": [],
   "source": [
    "myfile.close()"
   ]
  },
  {
   "cell_type": "markdown",
   "metadata": {},
   "source": [
    "## 2.1.4 - Appending to a file"
   ]
  },
  {
   "cell_type": "code",
   "execution_count": 72,
   "metadata": {},
   "outputs": [],
   "source": [
    "# open file in append mode. Allows reading and appending to file. \n",
    "myfile = open('resources/sampletext.txt', 'a+')"
   ]
  },
  {
   "cell_type": "code",
   "execution_count": 73,
   "metadata": {},
   "outputs": [
    {
     "data": {
      "text/plain": [
       "28"
      ]
     },
     "execution_count": 73,
     "metadata": {},
     "output_type": "execute_result"
    }
   ],
   "source": [
    "myfile.write(\"This is the appended content\")"
   ]
  },
  {
   "cell_type": "code",
   "execution_count": 75,
   "metadata": {},
   "outputs": [],
   "source": [
    "# close the file \n",
    "myfile.close()"
   ]
  },
  {
   "cell_type": "code",
   "execution_count": 76,
   "metadata": {},
   "outputs": [
    {
     "data": {
      "text/plain": [
       "'This is the new content of the file.This is the appended content'"
      ]
     },
     "execution_count": 76,
     "metadata": {},
     "output_type": "execute_result"
    }
   ],
   "source": [
    "# reopen the file \n",
    "myfile = open('resources/sampletext.txt')\n",
    "myfile.read()"
   ]
  },
  {
   "cell_type": "code",
   "execution_count": 77,
   "metadata": {},
   "outputs": [],
   "source": [
    "myfile.close()"
   ]
  },
  {
   "cell_type": "markdown",
   "metadata": {},
   "source": [
    "An interesting alternative to the `open()` and `close()` calls given that can be a fragile mechanism is to use the `with open` that allows us to open up a file in a given mode and operate contextually in a code block with an implicit file closure occurring at the end of the block "
   ]
  },
  {
   "cell_type": "code",
   "execution_count": 78,
   "metadata": {},
   "outputs": [
    {
     "name": "stdout",
     "output_type": "stream",
     "text": [
      "This is the new content of the file.This is the appended content\n"
     ]
    }
   ],
   "source": [
    "with open('resources/sampletext.txt') as myfile:\n",
    "    lines = myfile.read()\n",
    "    print(lines)"
   ]
  },
  {
   "cell_type": "markdown",
   "metadata": {},
   "source": [
    "## 2.1.5 - Working with pdf files"
   ]
  },
  {
   "cell_type": "markdown",
   "metadata": {},
   "source": [
    "It is a common occurrence to be required to read in data from pdf files. We can use the `PyPDF2` library to help here, but it is worth noting that not all PDFs have text that can be extracted. This can happen where PDFs are created from scanning rather than saving text documents in a .pdf format. These can be difficult to extract as it is often treated like an image and requires more specialised software. "
   ]
  },
  {
   "cell_type": "code",
   "execution_count": 80,
   "metadata": {},
   "outputs": [],
   "source": [
    "import PyPDF2"
   ]
  },
  {
   "cell_type": "code",
   "execution_count": 82,
   "metadata": {},
   "outputs": [],
   "source": [
    "myfile = open('resources/US_Declaration.pdf', mode='rb')"
   ]
  },
  {
   "cell_type": "code",
   "execution_count": 83,
   "metadata": {},
   "outputs": [],
   "source": [
    "pdf_reader = PyPDF2.PdfFileReader(myfile)"
   ]
  },
  {
   "cell_type": "code",
   "execution_count": 84,
   "metadata": {},
   "outputs": [
    {
     "data": {
      "text/plain": [
       "5"
      ]
     },
     "execution_count": 84,
     "metadata": {},
     "output_type": "execute_result"
    }
   ],
   "source": [
    "pdf_reader.numPages"
   ]
  },
  {
   "cell_type": "code",
   "execution_count": 85,
   "metadata": {},
   "outputs": [],
   "source": [
    "p1 = pdf_reader.getPage(0)"
   ]
  },
  {
   "cell_type": "code",
   "execution_count": 88,
   "metadata": {},
   "outputs": [],
   "source": [
    "page_text = p1.extractText()"
   ]
  },
  {
   "cell_type": "code",
   "execution_count": 90,
   "metadata": {},
   "outputs": [
    {
     "data": {
      "text/plain": [
       "\"Declaration of IndependenceIN CONGRESS, July 4, 1776. The unanimous Declaration of the thirteen united States of America, When in the Course of human events, it becomes necessary for one people to dissolve the\\npolitical bands which have connected them with another, and to assume among the powers of the\\nearth, the separate and equal station to which the Laws of Nature and of Nature's God entitle\\n\\nthem, a decent respect to the opinions of mankind requires that they should declare the causes\\n\\nwhich impel them to the separation. \\nWe hold these truths to be self-evident, that all men are created equal, that they are endowed by\\n\\ntheir Creator with certain unalienable Rights, that among these are Life, Liberty and the pursuit\\nof Happiness.ŠThat to secure these rights, Governments are instituted among Men, deriving\\n\\ntheir just powers from the consent of the governed,ŠThat whenever any Form of Government\\nbecomes destructive of these ends, it is the Right of the People to alter or to abolish it, and to\\ninstitute new Government, laying its foundation on such principles and organizing its powers in\\nsuch form, as to them shall seem most likely to effect their Safety and Happiness. Prudence,\\n\\nindeed, will dictate that Governments long established should not be changed for light and\\ntransient causes; and accordingly all experience hath shewn, that mankind are more disposed to\\nsuffer, while evils are sufferable, than to right themselves by abolishing the forms to which they\\n\\nare accustomed. But when a long train of abuses and usurpations, pursuing invariably the same\\nObject evinces a design to reduce them under absolute Despotism, it is their right, it is their duty,\\nto throw off such Government, and to provide new Guards for their future security.ŠSuch has\\nbeen the patient sufferance of these Colonies; and such is now the necessity which constrains\\n\\nthem to alter their former Systems of Government. The history of the present King of Great\\n\\nBritain is a history of repeated injuries and usurpations, all having in direct object the\\nestablishment of an absolute Tyranny over these States. To prove this, let Facts be submitted to a\\ncandid world. He has refused his Assent to Laws, the most wholesome and necessary for the\\npublic good.\\nHe has forbidden his Governors to pass Laws of immediate and pressing\\nimportance, unless suspended in their operation till his Assent should be obtained;\\nand when so suspended, he has utterly neglected to attend to them.\\n\\nHe has refused to pass other Laws for the accommodation of large districts of\\npeople, unless those people would relinquish the right of Representation in the\\nLegislature, a right inestimable to them and formidable to tyrants only. \\n\\nHe has called together legislative bodies at places unusual, uncomfortable, and distant\\nfrom the depository of their public Records, for the sole purpose of fatiguing them into\\ncompliance with his measures.\\n\""
      ]
     },
     "execution_count": 90,
     "metadata": {},
     "output_type": "execute_result"
    }
   ],
   "source": [
    "page_text"
   ]
  },
  {
   "cell_type": "code",
   "execution_count": 91,
   "metadata": {},
   "outputs": [],
   "source": [
    "myfile.close()"
   ]
  },
  {
   "cell_type": "code",
   "execution_count": 92,
   "metadata": {},
   "outputs": [],
   "source": [
    "f = open('resources/US_Declaration.pdf', mode='rb')\n",
    "pdf_reader = PyPDF2.PdfFileReader(f)\n",
    "p1 = pdf_reader.getPage(0)\n",
    "pdf_writer = PyPDF2.PdfFileWriter()\n",
    "pdf_writer.addPage(p1)"
   ]
  },
  {
   "cell_type": "code",
   "execution_count": 93,
   "metadata": {},
   "outputs": [],
   "source": [
    "pdf_out = open('resources/newpdf.pdf', mode='wb')\n",
    "pdf_writer.write(pdf_out)"
   ]
  },
  {
   "cell_type": "code",
   "execution_count": 94,
   "metadata": {},
   "outputs": [],
   "source": [
    "pdf_out.close()\n",
    "f.close()"
   ]
  },
  {
   "cell_type": "markdown",
   "metadata": {},
   "source": [
    "## 2.1.6 - Regex"
   ]
  },
  {
   "cell_type": "markdown",
   "metadata": {},
   "source": [
    "We're going to cover regex (regular expressions) as a way to harvest pattern matched datums from some information, some text. We may know th general format but not the specifics of what we're looking for, eg. find all phone numbers in a document. This is where regex comes into play. Syntactically, regex can be quite daunting at first, but there are countless websites that can help and by grasping the basics of regex you can go a log way to understanding fairly complex patterns. Let's look at some rules. \n",
    "- every character type has a corresponding pattern code.\n",
    "- using a `\\` is a way to have python take note that we have a special character and not just a typially character/letter.\n",
    "- eg. digits have the `\\d` pattern.\n",
    "- We can take a pattern of `f'\\d{3}-\\d{3}-\\d{4}'` to match a pattern of 999-999-9999"
   ]
  },
  {
   "cell_type": "code",
   "execution_count": 95,
   "metadata": {},
   "outputs": [],
   "source": [
    "# we need some sample text to demonstrate regex in python\n",
    "sample_text = \"The Tel number of Norman, candidate #1 is 012-443-6955. Candidate #2, Morgan can be reached on 332-445-7712 after 17:00\""
   ]
  },
  {
   "cell_type": "code",
   "execution_count": 96,
   "metadata": {},
   "outputs": [],
   "source": [
    "import re"
   ]
  },
  {
   "cell_type": "code",
   "execution_count": 98,
   "metadata": {},
   "outputs": [],
   "source": [
    "pattern = \"Morgan\"\n",
    "\n",
    "match = re.search(pattern, sample_text)"
   ]
  },
  {
   "cell_type": "code",
   "execution_count": 100,
   "metadata": {},
   "outputs": [
    {
     "data": {
      "text/plain": [
       "(70, 76)"
      ]
     },
     "execution_count": 100,
     "metadata": {},
     "output_type": "execute_result"
    }
   ],
   "source": [
    "match.span()"
   ]
  },
  {
   "cell_type": "markdown",
   "metadata": {},
   "source": [
    "Matching where multiple instances maybe found requires usage of a different method. "
   ]
  },
  {
   "cell_type": "code",
   "execution_count": 101,
   "metadata": {},
   "outputs": [],
   "source": [
    "sample_text = \"Morgan called and said yes. Morgan can start on Monday after next\""
   ]
  },
  {
   "cell_type": "code",
   "execution_count": 106,
   "metadata": {},
   "outputs": [
    {
     "data": {
      "text/plain": [
       "['Morgan', 'Morgan']"
      ]
     },
     "execution_count": 106,
     "metadata": {},
     "output_type": "execute_result"
    }
   ],
   "source": [
    "# demonstrate the findall. Assignation to the result\n",
    "# of a findall creates a list. \n",
    "res = re.findall(pattern, sample_text)\n",
    "res"
   ]
  },
  {
   "cell_type": "code",
   "execution_count": 103,
   "metadata": {},
   "outputs": [
    {
     "name": "stdout",
     "output_type": "stream",
     "text": [
      "(0, 6)\n",
      "(28, 34)\n"
     ]
    }
   ],
   "source": [
    "# demonstrate the finditer method.\n",
    "for match in re.finditer(pattern, sample_text):\n",
    "    print(match.span())"
   ]
  },
  {
   "cell_type": "markdown",
   "metadata": {},
   "source": [
    "#### Methods Summary\n",
    "- The `search` method will return the value and span of the first match.\n",
    "- The `findall` method is helpful to get the number of matches in a particular text. \n",
    "- The `finditer` is a good approach if you want to iterate over the matches. It offers a better route to controlling _per-match_ operations.\n",
    "\n"
   ]
  },
  {
   "cell_type": "code",
   "execution_count": 112,
   "metadata": {},
   "outputs": [
    {
     "data": {
      "text/plain": [
       "'Margot called while you were out. Her number is 755-634-9545 or 433-229-4429 if after 17:00'"
      ]
     },
     "execution_count": 112,
     "metadata": {},
     "output_type": "execute_result"
    }
   ],
   "source": [
    "sample_text = \"Margot called while you were out. Her number is 755-634-9545 or 433-229-4429 if after 17:00\"\n",
    "sample_text"
   ]
  },
  {
   "cell_type": "code",
   "execution_count": 109,
   "metadata": {},
   "outputs": [],
   "source": [
    "pattern = r'\\d{3}-\\d{3}-\\d{4}'"
   ]
  },
  {
   "cell_type": "code",
   "execution_count": 113,
   "metadata": {},
   "outputs": [
    {
     "data": {
      "text/plain": [
       "'755-634-9545'"
      ]
     },
     "execution_count": 113,
     "metadata": {},
     "output_type": "execute_result"
    }
   ],
   "source": [
    "num = re.search(pattern, sample_text)\n",
    "num.group()"
   ]
  },
  {
   "cell_type": "code",
   "execution_count": 115,
   "metadata": {},
   "outputs": [
    {
     "name": "stdout",
     "output_type": "stream",
     "text": [
      "755-634-9545 (48, 60)\n",
      "433-229-4429 (64, 76)\n"
     ]
    }
   ],
   "source": [
    "for match in re.finditer(pattern, sample_text):\n",
    "    print(match.group(), match.span())"
   ]
  },
  {
   "cell_type": "markdown",
   "metadata": {},
   "source": [
    "With a regular expression pattern we can also split a pattern to groups and pull off individual groups from the match."
   ]
  },
  {
   "cell_type": "code",
   "execution_count": 116,
   "metadata": {},
   "outputs": [],
   "source": [
    "pattern = r'(\\d{3})-(\\d{3})-(\\d{4})'"
   ]
  },
  {
   "cell_type": "code",
   "execution_count": 117,
   "metadata": {},
   "outputs": [
    {
     "name": "stdout",
     "output_type": "stream",
     "text": [
      "755-634-9545 (48, 60)\n",
      "433-229-4429 (64, 76)\n"
     ]
    }
   ],
   "source": [
    "for match in re.finditer(pattern, sample_text):\n",
    "    print(match.group(), match.span())"
   ]
  },
  {
   "cell_type": "markdown",
   "metadata": {},
   "source": [
    "now lets say we want just the national and area codes here, or the 999-999 part."
   ]
  },
  {
   "cell_type": "code",
   "execution_count": 119,
   "metadata": {},
   "outputs": [
    {
     "name": "stdout",
     "output_type": "stream",
     "text": [
      "755 634\n",
      "433 229\n"
     ]
    }
   ],
   "source": [
    "for match in re.finditer(pattern, sample_text):\n",
    "    print(match.group(1), match.group(2))"
   ]
  },
  {
   "cell_type": "code",
   "execution_count": 132,
   "metadata": {},
   "outputs": [
    {
     "name": "stdout",
     "output_type": "stream",
     "text": [
      "('755', '634', '9545')\n",
      "('433', '229', '4429')\n"
     ]
    }
   ],
   "source": [
    "# output the groups in each match instance as a tuple\n",
    "for match in re.finditer(pattern, sample_text):\n",
    "    print(match.groups())\n",
    "    "
   ]
  },
  {
   "cell_type": "markdown",
   "metadata": {},
   "source": [
    "We can see the usage of fixed pattern sets, as above. We can also have flexibility in there to match to zero, one or more than one match conditions. We can even have conditional matches operating as a `logical or` case."
   ]
  },
  {
   "cell_type": "code",
   "execution_count": 133,
   "metadata": {},
   "outputs": [],
   "source": [
    "pattern = r'man|woman'"
   ]
  },
  {
   "cell_type": "code",
   "execution_count": 136,
   "metadata": {},
   "outputs": [],
   "source": [
    "sample_text = \"Batman called Batwoman for help against the badman\""
   ]
  },
  {
   "cell_type": "code",
   "execution_count": 137,
   "metadata": {},
   "outputs": [
    {
     "data": {
      "text/plain": [
       "['man', 'woman', 'man']"
      ]
     },
     "execution_count": 137,
     "metadata": {},
     "output_type": "execute_result"
    }
   ],
   "source": [
    "matches = re.findall(pattern, sample_text)\n",
    "matches"
   ]
  },
  {
   "cell_type": "markdown",
   "metadata": {},
   "source": [
    "We've identified the matched cases above, but it maybe doesn't make that much sense as we've selected partials from the sample_text. To remedy that we can use wildcards."
   ]
  },
  {
   "cell_type": "code",
   "execution_count": 155,
   "metadata": {},
   "outputs": [],
   "source": [
    "# Take the while word of anything that matches man\n",
    "pattern = r'\\w*man'"
   ]
  },
  {
   "cell_type": "code",
   "execution_count": 156,
   "metadata": {},
   "outputs": [
    {
     "data": {
      "text/plain": [
       "['Batman', 'Batwoman', 'badman']"
      ]
     },
     "execution_count": 156,
     "metadata": {},
     "output_type": "execute_result"
    }
   ],
   "source": [
    "matches = re.findall(pattern, sample_text)\n",
    "matches"
   ]
  },
  {
   "cell_type": "code",
   "execution_count": null,
   "metadata": {},
   "outputs": [],
   "source": []
  }
 ],
 "metadata": {
  "kernelspec": {
   "display_name": "pykit",
   "language": "python",
   "name": "pykit"
  },
  "language_info": {
   "codemirror_mode": {
    "name": "ipython",
    "version": 3
   },
   "file_extension": ".py",
   "mimetype": "text/x-python",
   "name": "python",
   "nbconvert_exporter": "python",
   "pygments_lexer": "ipython3",
   "version": "3.7.9"
  }
 },
 "nbformat": 4,
 "nbformat_minor": 4
}
