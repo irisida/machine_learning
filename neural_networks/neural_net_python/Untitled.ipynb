{
 "cells": [
  {
   "cell_type": "markdown",
   "metadata": {},
   "source": [
    "# Using Pytorch\n",
    "\n",
    "Also supports CNNs and RNNs and is useful in deep learning situations. Supports large and complex applications and also supports GPU processing. It is a direct competitor to tensorflow. "
   ]
  },
  {
   "cell_type": "markdown",
   "metadata": {},
   "source": [
    "### Setup and load the data"
   ]
  },
  {
   "cell_type": "code",
   "execution_count": 42,
   "metadata": {},
   "outputs": [
    {
     "data": {
      "text/plain": [
       "'1.6.0'"
      ]
     },
     "execution_count": 42,
     "metadata": {},
     "output_type": "execute_result"
    }
   ],
   "source": [
    "import torch\n",
    "torch.__version__"
   ]
  },
  {
   "cell_type": "code",
   "execution_count": 43,
   "metadata": {},
   "outputs": [],
   "source": [
    "from sklearn.model_selection import train_test_split\n",
    "from sklearn import datasets\n",
    "import numpy as np\n",
    "from sklearn.metrics import accuracy_score, confusion_matrix\n",
    "import torch.nn as nn"
   ]
  },
  {
   "cell_type": "code",
   "execution_count": 44,
   "metadata": {},
   "outputs": [],
   "source": [
    "breast = datasets.load_breast_cancer()"
   ]
  },
  {
   "cell_type": "code",
   "execution_count": 46,
   "metadata": {},
   "outputs": [
    {
     "data": {
      "text/plain": [
       "array([1.799e+01, 1.038e+01, 1.228e+02, 1.001e+03, 1.184e-01, 2.776e-01,\n",
       "       3.001e-01, 1.471e-01, 2.419e-01, 7.871e-02, 1.095e+00, 9.053e-01,\n",
       "       8.589e+00, 1.534e+02, 6.399e-03, 4.904e-02, 5.373e-02, 1.587e-02,\n",
       "       3.003e-02, 6.193e-03, 2.538e+01, 1.733e+01, 1.846e+02, 2.019e+03,\n",
       "       1.622e-01, 6.656e-01, 7.119e-01, 2.654e-01, 4.601e-01, 1.189e-01])"
      ]
     },
     "execution_count": 46,
     "metadata": {},
     "output_type": "execute_result"
    }
   ],
   "source": [
    "breast.data[0]"
   ]
  },
  {
   "cell_type": "code",
   "execution_count": 47,
   "metadata": {},
   "outputs": [
    {
     "data": {
      "text/plain": [
       "array(['mean radius', 'mean texture', 'mean perimeter', 'mean area',\n",
       "       'mean smoothness', 'mean compactness', 'mean concavity',\n",
       "       'mean concave points', 'mean symmetry', 'mean fractal dimension',\n",
       "       'radius error', 'texture error', 'perimeter error', 'area error',\n",
       "       'smoothness error', 'compactness error', 'concavity error',\n",
       "       'concave points error', 'symmetry error',\n",
       "       'fractal dimension error', 'worst radius', 'worst texture',\n",
       "       'worst perimeter', 'worst area', 'worst smoothness',\n",
       "       'worst compactness', 'worst concavity', 'worst concave points',\n",
       "       'worst symmetry', 'worst fractal dimension'], dtype='<U23')"
      ]
     },
     "execution_count": 47,
     "metadata": {},
     "output_type": "execute_result"
    }
   ],
   "source": [
    "breast.feature_names"
   ]
  },
  {
   "cell_type": "code",
   "execution_count": 48,
   "metadata": {},
   "outputs": [
    {
     "data": {
      "text/plain": [
       "array([0, 0, 0, 0, 0, 0, 0, 0, 0, 0, 0, 0, 0, 0, 0, 0, 0, 0, 0, 1, 1, 1,\n",
       "       0, 0, 0, 0, 0, 0, 0, 0, 0, 0, 0, 0, 0, 0, 0, 1, 0, 0, 0, 0, 0, 0,\n",
       "       0, 0, 1, 0, 1, 1, 1, 1, 1, 0, 0, 1, 0, 0, 1, 1, 1, 1, 0, 1, 0, 0,\n",
       "       1, 1, 1, 1, 0, 1, 0, 0, 1, 0, 1, 0, 0, 1, 1, 1, 0, 0, 1, 0, 0, 0,\n",
       "       1, 1, 1, 0, 1, 1, 0, 0, 1, 1, 1, 0, 0, 1, 1, 1, 1, 0, 1, 1, 0, 1,\n",
       "       1, 1, 1, 1, 1, 1, 1, 0, 0, 0, 1, 0, 0, 1, 1, 1, 0, 0, 1, 0, 1, 0,\n",
       "       0, 1, 0, 0, 1, 1, 0, 1, 1, 0, 1, 1, 1, 1, 0, 1, 1, 1, 1, 1, 1, 1,\n",
       "       1, 1, 0, 1, 1, 1, 1, 0, 0, 1, 0, 1, 1, 0, 0, 1, 1, 0, 0, 1, 1, 1,\n",
       "       1, 0, 1, 1, 0, 0, 0, 1, 0, 1, 0, 1, 1, 1, 0, 1, 1, 0, 0, 1, 0, 0,\n",
       "       0, 0, 1, 0, 0, 0, 1, 0, 1, 0, 1, 1, 0, 1, 0, 0, 0, 0, 1, 1, 0, 0,\n",
       "       1, 1, 1, 0, 1, 1, 1, 1, 1, 0, 0, 1, 1, 0, 1, 1, 0, 0, 1, 0, 1, 1,\n",
       "       1, 1, 0, 1, 1, 1, 1, 1, 0, 1, 0, 0, 0, 0, 0, 0, 0, 0, 0, 0, 0, 0,\n",
       "       0, 0, 1, 1, 1, 1, 1, 1, 0, 1, 0, 1, 1, 0, 1, 1, 0, 1, 0, 0, 1, 1,\n",
       "       1, 1, 1, 1, 1, 1, 1, 1, 1, 1, 1, 0, 1, 1, 0, 1, 0, 1, 1, 1, 1, 1,\n",
       "       1, 1, 1, 1, 1, 1, 1, 1, 1, 0, 1, 1, 1, 0, 1, 0, 1, 1, 1, 1, 0, 0,\n",
       "       0, 1, 1, 1, 1, 0, 1, 0, 1, 0, 1, 1, 1, 0, 1, 1, 1, 1, 1, 1, 1, 0,\n",
       "       0, 0, 1, 1, 1, 1, 1, 1, 1, 1, 1, 1, 1, 0, 0, 1, 0, 0, 0, 1, 0, 0,\n",
       "       1, 1, 1, 1, 1, 0, 1, 1, 1, 1, 1, 0, 1, 1, 1, 0, 1, 1, 0, 0, 1, 1,\n",
       "       1, 1, 1, 1, 0, 1, 1, 1, 1, 1, 1, 1, 0, 1, 1, 1, 1, 1, 0, 1, 1, 0,\n",
       "       1, 1, 1, 1, 1, 1, 1, 1, 1, 1, 1, 1, 0, 1, 0, 0, 1, 0, 1, 1, 1, 1,\n",
       "       1, 0, 1, 1, 0, 1, 0, 1, 1, 0, 1, 0, 1, 1, 1, 1, 1, 1, 1, 1, 0, 0,\n",
       "       1, 1, 1, 1, 1, 1, 0, 1, 1, 1, 1, 1, 1, 1, 1, 1, 1, 0, 1, 1, 1, 1,\n",
       "       1, 1, 1, 0, 1, 0, 1, 1, 0, 1, 1, 1, 1, 1, 0, 0, 1, 0, 1, 0, 1, 1,\n",
       "       1, 1, 1, 0, 1, 1, 0, 1, 0, 1, 0, 0, 1, 1, 1, 0, 1, 1, 1, 1, 1, 1,\n",
       "       1, 1, 1, 1, 1, 0, 1, 0, 0, 1, 1, 1, 1, 1, 1, 1, 1, 1, 1, 1, 1, 1,\n",
       "       1, 1, 1, 1, 1, 1, 1, 1, 1, 1, 1, 1, 0, 0, 0, 0, 0, 0, 1])"
      ]
     },
     "execution_count": 48,
     "metadata": {},
     "output_type": "execute_result"
    }
   ],
   "source": [
    "breast.target"
   ]
  },
  {
   "cell_type": "code",
   "execution_count": 49,
   "metadata": {},
   "outputs": [
    {
     "data": {
      "text/plain": [
       "(569, 30)"
      ]
     },
     "execution_count": 49,
     "metadata": {},
     "output_type": "execute_result"
    }
   ],
   "source": [
    "inputs = breast.data\n",
    "inputs.shape"
   ]
  },
  {
   "cell_type": "code",
   "execution_count": 50,
   "metadata": {},
   "outputs": [
    {
     "data": {
      "text/plain": [
       "(569,)"
      ]
     },
     "execution_count": 50,
     "metadata": {},
     "output_type": "execute_result"
    }
   ],
   "source": [
    "outputs = breast.target\n",
    "outputs.shape"
   ]
  },
  {
   "cell_type": "markdown",
   "metadata": {},
   "source": [
    "### Data Transformation"
   ]
  },
  {
   "cell_type": "code",
   "execution_count": 51,
   "metadata": {},
   "outputs": [],
   "source": [
    "x_train, x_test, y_train, y_test = train_test_split(inputs, outputs, test_size=0.25)"
   ]
  },
  {
   "cell_type": "markdown",
   "metadata": {},
   "source": [
    "In pytorch, we need a specific type of variable for processing. Currently our values are numpy arrays"
   ]
  },
  {
   "cell_type": "code",
   "execution_count": 52,
   "metadata": {},
   "outputs": [],
   "source": [
    "x_train = torch.tensor(x_train, dtype=torch.float)\n",
    "y_train = torch.tensor(y_train, dtype=torch.float)"
   ]
  },
  {
   "cell_type": "code",
   "execution_count": 53,
   "metadata": {},
   "outputs": [
    {
     "data": {
      "text/plain": [
       "torch.Tensor"
      ]
     },
     "execution_count": 53,
     "metadata": {},
     "output_type": "execute_result"
    }
   ],
   "source": [
    "type(x_train)"
   ]
  },
  {
   "cell_type": "code",
   "execution_count": 54,
   "metadata": {},
   "outputs": [],
   "source": [
    "dataset = torch.utils.data.TensorDataset(x_train, y_train)"
   ]
  },
  {
   "cell_type": "code",
   "execution_count": 55,
   "metadata": {},
   "outputs": [
    {
     "data": {
      "text/plain": [
       "torch.utils.data.dataset.TensorDataset"
      ]
     },
     "execution_count": 55,
     "metadata": {},
     "output_type": "execute_result"
    }
   ],
   "source": [
    "type(dataset)"
   ]
  },
  {
   "cell_type": "code",
   "execution_count": 56,
   "metadata": {},
   "outputs": [],
   "source": [
    "train_loader = torch.utils.data.DataLoader(dataset, batch_size=10)"
   ]
  },
  {
   "cell_type": "markdown",
   "metadata": {},
   "source": [
    "### Neural network structure"
   ]
  },
  {
   "cell_type": "code",
   "execution_count": 57,
   "metadata": {},
   "outputs": [],
   "source": [
    "# 30 inputs -> 16 -> 16 -> 1\n",
    "network = nn.Sequential(nn.Linear(in_features=30, out_features=16), \n",
    "                        nn.Sigmoid(),\n",
    "                        nn.Linear(16, 16), \n",
    "                        nn.Sigmoid(), \n",
    "                        nn.Linear(16, 1),\n",
    "                        nn.Sigmoid())"
   ]
  },
  {
   "cell_type": "code",
   "execution_count": 58,
   "metadata": {},
   "outputs": [
    {
     "data": {
      "text/plain": [
       "<bound method Module.parameters of Sequential(\n",
       "  (0): Linear(in_features=30, out_features=16, bias=True)\n",
       "  (1): Sigmoid()\n",
       "  (2): Linear(in_features=16, out_features=16, bias=True)\n",
       "  (3): Sigmoid()\n",
       "  (4): Linear(in_features=16, out_features=1, bias=True)\n",
       "  (5): Sigmoid()\n",
       ")>"
      ]
     },
     "execution_count": 58,
     "metadata": {},
     "output_type": "execute_result"
    }
   ],
   "source": [
    "network.parameters"
   ]
  },
  {
   "cell_type": "code",
   "execution_count": 59,
   "metadata": {},
   "outputs": [],
   "source": [
    "# BCELoss males a good choice because we are working on a \n",
    "# binary problem. \n",
    "loss_function = nn.BCELoss()"
   ]
  },
  {
   "cell_type": "code",
   "execution_count": 60,
   "metadata": {},
   "outputs": [],
   "source": [
    "optimizer = torch.optim.Adam(network.parameters(), lr=0.001)"
   ]
  },
  {
   "cell_type": "code",
   "execution_count": 61,
   "metadata": {},
   "outputs": [
    {
     "name": "stdout",
     "output_type": "stream",
     "text": [
      "epoch: 1 loss: 0.6576544379079065\n",
      "epoch: 2 loss: 0.6462319992309393\n",
      "epoch: 3 loss: 0.6336661265339962\n",
      "epoch: 4 loss: 0.618097303911697\n",
      "epoch: 5 loss: 0.5980088419692461\n",
      "epoch: 6 loss: 0.5755854796531589\n",
      "epoch: 7 loss: 0.5476496150327284\n",
      "epoch: 8 loss: 0.5177340257999509\n",
      "epoch: 9 loss: 0.4864297121070152\n",
      "epoch: 10 loss: 0.4536935624688171\n",
      "epoch: 11 loss: 0.42474859745003457\n",
      "epoch: 12 loss: 0.3993731057921121\n",
      "epoch: 13 loss: 0.3732673196598541\n",
      "epoch: 14 loss: 0.35714259258536407\n",
      "epoch: 15 loss: 0.33724694889645246\n",
      "epoch: 16 loss: 0.3230219521494799\n",
      "epoch: 17 loss: 0.31148067116737366\n",
      "epoch: 18 loss: 0.30080027774322865\n",
      "epoch: 19 loss: 0.28258282569951787\n",
      "epoch: 20 loss: 0.2753249645926232\n",
      "epoch: 21 loss: 0.2657312473585439\n",
      "epoch: 22 loss: 0.26586922015561615\n",
      "epoch: 23 loss: 0.26272123774816825\n",
      "epoch: 24 loss: 0.2684975524627885\n",
      "epoch: 25 loss: 0.24393565866143205\n",
      "epoch: 26 loss: 0.24983444827240567\n",
      "epoch: 27 loss: 0.25211735762829\n",
      "epoch: 28 loss: 0.25699085880850636\n",
      "epoch: 29 loss: 0.23896765050499938\n",
      "epoch: 30 loss: 0.24190598778253378\n",
      "epoch: 31 loss: 0.23664993376925933\n",
      "epoch: 32 loss: 0.24659878474681876\n",
      "epoch: 33 loss: 0.254570274852043\n",
      "epoch: 34 loss: 0.2449449021802392\n",
      "epoch: 35 loss: 0.22424061466441597\n",
      "epoch: 36 loss: 0.2427793663255004\n",
      "epoch: 37 loss: 0.24006953488948735\n",
      "epoch: 38 loss: 0.23269977966366812\n",
      "epoch: 39 loss: 0.24820312363810318\n",
      "epoch: 40 loss: 0.23070870149274206\n",
      "epoch: 41 loss: 0.21990529066601464\n",
      "epoch: 42 loss: 0.21084572807994\n",
      "epoch: 43 loss: 0.22055227032234503\n",
      "epoch: 44 loss: 0.22111879245832908\n",
      "epoch: 45 loss: 0.22786549539413564\n",
      "epoch: 46 loss: 0.22797281823532525\n",
      "epoch: 47 loss: 0.21546919375311496\n",
      "epoch: 48 loss: 0.23573435037288554\n",
      "epoch: 49 loss: 0.2247774886010691\n",
      "epoch: 50 loss: 0.22498772137386855\n",
      "epoch: 51 loss: 0.22853035410476286\n",
      "epoch: 52 loss: 0.21589541296626247\n",
      "epoch: 53 loss: 0.20931544743998107\n",
      "epoch: 54 loss: 0.20159935119540193\n",
      "epoch: 55 loss: 0.23642942430668099\n",
      "epoch: 56 loss: 0.21432820031809252\n",
      "epoch: 57 loss: 0.21659986778747203\n",
      "epoch: 58 loss: 0.22672396880942722\n",
      "epoch: 59 loss: 0.22044179268008054\n",
      "epoch: 60 loss: 0.2147746219537979\n",
      "epoch: 61 loss: 0.2069058115918969\n",
      "epoch: 62 loss: 0.2146767916720967\n",
      "epoch: 63 loss: 0.22131593733332877\n",
      "epoch: 64 loss: 0.2200608120927977\n",
      "epoch: 65 loss: 0.22059463432361914\n",
      "epoch: 66 loss: 0.2204721124712811\n",
      "epoch: 67 loss: 0.19888405675111814\n",
      "epoch: 68 loss: 0.21199363054231155\n",
      "epoch: 69 loss: 0.2084328751404618\n",
      "epoch: 70 loss: 0.21159644511549972\n",
      "epoch: 71 loss: 0.20445669191174728\n",
      "epoch: 72 loss: 0.20713079339543053\n",
      "epoch: 73 loss: 0.20893472424426743\n",
      "epoch: 74 loss: 0.20895230501543643\n",
      "epoch: 75 loss: 0.20496453578735507\n",
      "epoch: 76 loss: 0.20103639364242554\n",
      "epoch: 77 loss: 0.20116450031136357\n",
      "epoch: 78 loss: 0.2002882305965867\n",
      "epoch: 79 loss: 0.19933111315896346\n",
      "epoch: 80 loss: 0.19938032779582712\n",
      "epoch: 81 loss: 0.19842122824386108\n",
      "epoch: 82 loss: 0.20167647969237593\n",
      "epoch: 83 loss: 0.20776952855115713\n",
      "epoch: 84 loss: 0.1906317410080932\n",
      "epoch: 85 loss: 0.19576586523028308\n",
      "epoch: 86 loss: 0.19966050436676935\n",
      "epoch: 87 loss: 0.20311533087907835\n",
      "epoch: 88 loss: 0.20943871279095494\n",
      "epoch: 89 loss: 0.1974152995836596\n",
      "epoch: 90 loss: 0.19622168932543244\n",
      "epoch: 91 loss: 0.1899864299352779\n",
      "epoch: 92 loss: 0.20295321421567783\n",
      "epoch: 93 loss: 0.19363821219912794\n",
      "epoch: 94 loss: 0.20047174896611725\n",
      "epoch: 95 loss: 0.18564828164702238\n",
      "epoch: 96 loss: 0.1951438208478828\n",
      "epoch: 97 loss: 0.1852380329266537\n",
      "epoch: 98 loss: 0.18593936352882273\n",
      "epoch: 99 loss: 0.17949325513354566\n",
      "epoch: 100 loss: 0.18697250825028086\n"
     ]
    }
   ],
   "source": [
    "epochs = 100\n",
    "for epoch in range(epochs):\n",
    "    running_loss = 0.\n",
    "    \n",
    "    for data in train_loader:\n",
    "        inputs, outputs = data\n",
    "        #print(f\"input: {inputs}\")\n",
    "        #print(\"-\" * 30)\n",
    "        #print(f\"output: {outputs}\")\n",
    "        optimizer.zero_grad()\n",
    "        \n",
    "        # calculate the prediction\n",
    "        preds = network.forward(inputs)\n",
    "        \n",
    "        # calculate the loss from the prediction and oututs \n",
    "        loss = loss_function(preds, outputs)\n",
    "        \n",
    "        # apply the back propagation \n",
    "        loss.backward()\n",
    "        optimizer.step()\n",
    "        \n",
    "        running_loss += loss.item()\n",
    "    print(f\"epoch: {epoch + 1} loss: {running_loss / len(train_loader)}\")"
   ]
  },
  {
   "cell_type": "code",
   "execution_count": null,
   "metadata": {},
   "outputs": [],
   "source": []
  },
  {
   "cell_type": "markdown",
   "metadata": {},
   "source": [
    "### Evaluate"
   ]
  },
  {
   "cell_type": "code",
   "execution_count": 62,
   "metadata": {},
   "outputs": [
    {
     "data": {
      "text/plain": [
       "Sequential(\n",
       "  (0): Linear(in_features=30, out_features=16, bias=True)\n",
       "  (1): Sigmoid()\n",
       "  (2): Linear(in_features=16, out_features=16, bias=True)\n",
       "  (3): Sigmoid()\n",
       "  (4): Linear(in_features=16, out_features=1, bias=True)\n",
       "  (5): Sigmoid()\n",
       ")"
      ]
     },
     "execution_count": 62,
     "metadata": {},
     "output_type": "execute_result"
    }
   ],
   "source": [
    "network.eval()"
   ]
  },
  {
   "cell_type": "code",
   "execution_count": 63,
   "metadata": {},
   "outputs": [
    {
     "data": {
      "text/plain": [
       "((143, 30), numpy.ndarray)"
      ]
     },
     "execution_count": 63,
     "metadata": {},
     "output_type": "execute_result"
    }
   ],
   "source": [
    "x_test.shape, type(x_test)"
   ]
  },
  {
   "cell_type": "code",
   "execution_count": 64,
   "metadata": {},
   "outputs": [
    {
     "data": {
      "text/plain": [
       "torch.Tensor"
      ]
     },
     "execution_count": 64,
     "metadata": {},
     "output_type": "execute_result"
    }
   ],
   "source": [
    "# transofrm \n",
    "x_test = torch.tensor(x_test, dtype=torch.float)\n",
    "type(x_test)"
   ]
  },
  {
   "cell_type": "code",
   "execution_count": 65,
   "metadata": {},
   "outputs": [
    {
     "data": {
      "text/plain": [
       "tensor([[0.9829],\n",
       "        [0.0135],\n",
       "        [0.9003],\n",
       "        [0.0135],\n",
       "        [0.0135],\n",
       "        [0.9835],\n",
       "        [0.8897],\n",
       "        [0.0135],\n",
       "        [0.9836],\n",
       "        [0.0135],\n",
       "        [0.9835],\n",
       "        [0.9835],\n",
       "        [0.9707],\n",
       "        [0.9822],\n",
       "        [0.6481],\n",
       "        [0.9814],\n",
       "        [0.0135],\n",
       "        [0.9018],\n",
       "        [0.0135],\n",
       "        [0.9836],\n",
       "        [0.0135],\n",
       "        [0.0278],\n",
       "        [0.0144],\n",
       "        [0.8929],\n",
       "        [0.0135],\n",
       "        [0.9383],\n",
       "        [0.9792],\n",
       "        [0.9836],\n",
       "        [0.9068],\n",
       "        [0.9804],\n",
       "        [0.0135],\n",
       "        [0.9792],\n",
       "        [0.9402],\n",
       "        [0.9020],\n",
       "        [0.9835],\n",
       "        [0.8570],\n",
       "        [0.0135],\n",
       "        [0.0135],\n",
       "        [0.8987],\n",
       "        [0.9079],\n",
       "        [0.9826],\n",
       "        [0.9013],\n",
       "        [0.9830],\n",
       "        [0.8939],\n",
       "        [0.9831],\n",
       "        [0.9764],\n",
       "        [0.9836],\n",
       "        [0.9805],\n",
       "        [0.9836],\n",
       "        [0.9409],\n",
       "        [0.9833],\n",
       "        [0.9829],\n",
       "        [0.9017],\n",
       "        [0.0136],\n",
       "        [0.9836],\n",
       "        [0.0136],\n",
       "        [0.9213],\n",
       "        [0.0151],\n",
       "        [0.0135],\n",
       "        [0.0138],\n",
       "        [0.9085],\n",
       "        [0.9563],\n",
       "        [0.9012],\n",
       "        [0.0222],\n",
       "        [0.0779],\n",
       "        [0.8878],\n",
       "        [0.9834],\n",
       "        [0.9158],\n",
       "        [0.9020],\n",
       "        [0.0135],\n",
       "        [0.9015],\n",
       "        [0.9009],\n",
       "        [0.9009],\n",
       "        [0.9113],\n",
       "        [0.5286],\n",
       "        [0.9834],\n",
       "        [0.9836],\n",
       "        [0.0135],\n",
       "        [0.0135],\n",
       "        [0.9024],\n",
       "        [0.6426],\n",
       "        [0.0135],\n",
       "        [0.8846],\n",
       "        [0.0135],\n",
       "        [0.0204],\n",
       "        [0.9835],\n",
       "        [0.9826],\n",
       "        [0.9835],\n",
       "        [0.1643],\n",
       "        [0.9005],\n",
       "        [0.0135],\n",
       "        [0.8689],\n",
       "        [0.0754],\n",
       "        [0.9504],\n",
       "        [0.9016],\n",
       "        [0.9835],\n",
       "        [0.9836],\n",
       "        [0.0135],\n",
       "        [0.2996],\n",
       "        [0.0422],\n",
       "        [0.9836],\n",
       "        [0.9707],\n",
       "        [0.9250],\n",
       "        [0.9836],\n",
       "        [0.0135],\n",
       "        [0.0135],\n",
       "        [0.9836],\n",
       "        [0.9802],\n",
       "        [0.5905],\n",
       "        [0.9836],\n",
       "        [0.0430],\n",
       "        [0.0135],\n",
       "        [0.1229],\n",
       "        [0.0135],\n",
       "        [0.0432],\n",
       "        [0.9012],\n",
       "        [0.8898],\n",
       "        [0.9271],\n",
       "        [0.0223],\n",
       "        [0.9748],\n",
       "        [0.0135],\n",
       "        [0.9009],\n",
       "        [0.9649],\n",
       "        [0.9830],\n",
       "        [0.9749],\n",
       "        [0.9522],\n",
       "        [0.9063],\n",
       "        [0.9020],\n",
       "        [0.9535],\n",
       "        [0.9019],\n",
       "        [0.9032],\n",
       "        [0.9026],\n",
       "        [0.0135],\n",
       "        [0.9836],\n",
       "        [0.8601],\n",
       "        [0.9801],\n",
       "        [0.0252],\n",
       "        [0.4567],\n",
       "        [0.9830],\n",
       "        [0.9833],\n",
       "        [0.9836],\n",
       "        [0.9836],\n",
       "        [0.9836]], grad_fn=<SigmoidBackward>)"
      ]
     },
     "execution_count": 65,
     "metadata": {},
     "output_type": "execute_result"
    }
   ],
   "source": [
    "preds = network.forward(x_test)\n",
    "preds"
   ]
  },
  {
   "cell_type": "code",
   "execution_count": 66,
   "metadata": {},
   "outputs": [
    {
     "data": {
      "text/plain": [
       "array([[ True],\n",
       "       [False],\n",
       "       [ True],\n",
       "       [False],\n",
       "       [False],\n",
       "       [ True],\n",
       "       [ True],\n",
       "       [False],\n",
       "       [ True],\n",
       "       [False],\n",
       "       [ True],\n",
       "       [ True],\n",
       "       [ True],\n",
       "       [ True],\n",
       "       [ True],\n",
       "       [ True],\n",
       "       [False],\n",
       "       [ True],\n",
       "       [False],\n",
       "       [ True],\n",
       "       [False],\n",
       "       [False],\n",
       "       [False],\n",
       "       [ True],\n",
       "       [False],\n",
       "       [ True],\n",
       "       [ True],\n",
       "       [ True],\n",
       "       [ True],\n",
       "       [ True],\n",
       "       [False],\n",
       "       [ True],\n",
       "       [ True],\n",
       "       [ True],\n",
       "       [ True],\n",
       "       [ True],\n",
       "       [False],\n",
       "       [False],\n",
       "       [ True],\n",
       "       [ True],\n",
       "       [ True],\n",
       "       [ True],\n",
       "       [ True],\n",
       "       [ True],\n",
       "       [ True],\n",
       "       [ True],\n",
       "       [ True],\n",
       "       [ True],\n",
       "       [ True],\n",
       "       [ True],\n",
       "       [ True],\n",
       "       [ True],\n",
       "       [ True],\n",
       "       [False],\n",
       "       [ True],\n",
       "       [False],\n",
       "       [ True],\n",
       "       [False],\n",
       "       [False],\n",
       "       [False],\n",
       "       [ True],\n",
       "       [ True],\n",
       "       [ True],\n",
       "       [False],\n",
       "       [False],\n",
       "       [ True],\n",
       "       [ True],\n",
       "       [ True],\n",
       "       [ True],\n",
       "       [False],\n",
       "       [ True],\n",
       "       [ True],\n",
       "       [ True],\n",
       "       [ True],\n",
       "       [ True],\n",
       "       [ True],\n",
       "       [ True],\n",
       "       [False],\n",
       "       [False],\n",
       "       [ True],\n",
       "       [ True],\n",
       "       [False],\n",
       "       [ True],\n",
       "       [False],\n",
       "       [False],\n",
       "       [ True],\n",
       "       [ True],\n",
       "       [ True],\n",
       "       [False],\n",
       "       [ True],\n",
       "       [False],\n",
       "       [ True],\n",
       "       [False],\n",
       "       [ True],\n",
       "       [ True],\n",
       "       [ True],\n",
       "       [ True],\n",
       "       [False],\n",
       "       [False],\n",
       "       [False],\n",
       "       [ True],\n",
       "       [ True],\n",
       "       [ True],\n",
       "       [ True],\n",
       "       [False],\n",
       "       [False],\n",
       "       [ True],\n",
       "       [ True],\n",
       "       [ True],\n",
       "       [ True],\n",
       "       [False],\n",
       "       [False],\n",
       "       [False],\n",
       "       [False],\n",
       "       [False],\n",
       "       [ True],\n",
       "       [ True],\n",
       "       [ True],\n",
       "       [False],\n",
       "       [ True],\n",
       "       [False],\n",
       "       [ True],\n",
       "       [ True],\n",
       "       [ True],\n",
       "       [ True],\n",
       "       [ True],\n",
       "       [ True],\n",
       "       [ True],\n",
       "       [ True],\n",
       "       [ True],\n",
       "       [ True],\n",
       "       [ True],\n",
       "       [False],\n",
       "       [ True],\n",
       "       [ True],\n",
       "       [ True],\n",
       "       [False],\n",
       "       [False],\n",
       "       [ True],\n",
       "       [ True],\n",
       "       [ True],\n",
       "       [ True],\n",
       "       [ True]])"
      ]
     },
     "execution_count": 66,
     "metadata": {},
     "output_type": "execute_result"
    }
   ],
   "source": [
    "preds = np.array(preds > 0.5)\n",
    "preds "
   ]
  },
  {
   "cell_type": "code",
   "execution_count": 67,
   "metadata": {},
   "outputs": [
    {
     "data": {
      "text/plain": [
       "0.9230769230769231"
      ]
     },
     "execution_count": 67,
     "metadata": {},
     "output_type": "execute_result"
    }
   ],
   "source": [
    "accuracy_score(y_test, preds)"
   ]
  },
  {
   "cell_type": "code",
   "execution_count": 68,
   "metadata": {},
   "outputs": [],
   "source": [
    "cm = confusion_matrix(y_test, preds)"
   ]
  },
  {
   "cell_type": "code",
   "execution_count": 70,
   "metadata": {},
   "outputs": [
    {
     "name": "stderr",
     "output_type": "stream",
     "text": [
      "/usr/local/Caskroom/miniconda/base/envs/pykit/lib/python3.7/importlib/_bootstrap.py:219: RuntimeWarning: numpy.ufunc size changed, may indicate binary incompatibility. Expected 192 from C header, got 216 from PyObject\n",
      "  return f(*args, **kwds)\n",
      "/usr/local/Caskroom/miniconda/base/envs/pykit/lib/python3.7/importlib/_bootstrap.py:219: RuntimeWarning: numpy.ufunc size changed, may indicate binary incompatibility. Expected 192 from C header, got 216 from PyObject\n",
      "  return f(*args, **kwds)\n"
     ]
    },
    {
     "data": {
      "text/plain": [
       "<AxesSubplot:>"
      ]
     },
     "execution_count": 70,
     "metadata": {},
     "output_type": "execute_result"
    },
    {
     "data": {
      "image/png": "[encoded data removed]",
      "text/plain": [
       "<Figure size 432x288 with 2 Axes>"
      ]
     },
     "metadata": {
      "needs_background": "light"
     },
     "output_type": "display_data"
    }
   ],
   "source": [
    "import seaborn as sns\n",
    "sns.heatmap(cm, annot=True)"
   ]
  },
  {
   "cell_type": "code",
   "execution_count": null,
   "metadata": {},
   "outputs": [],
   "source": []
  }
 ],
 "metadata": {
  "kernelspec": {
   "display_name": "pykit",
   "language": "python",
   "name": "pykit"
  },
  "language_info": {
   "codemirror_mode": {
    "name": "ipython",
    "version": 3
   },
   "file_extension": ".py",
   "mimetype": "text/x-python",
   "name": "python",
   "nbconvert_exporter": "python",
   "pygments_lexer": "ipython3",
   "version": "3.7.9"
  }
 },
 "nbformat": 4,
 "nbformat_minor": 4
}
