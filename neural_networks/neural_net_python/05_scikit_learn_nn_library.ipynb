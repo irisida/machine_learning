{
 "cells": [
  {
   "cell_type": "markdown",
   "metadata": {},
   "source": [
    "# Using SciKit-Learn for classification and regression"
   ]
  },
  {
   "cell_type": "code",
   "execution_count": 1,
   "metadata": {},
   "outputs": [],
   "source": [
    "from sklearn import datasets\n",
    "from sklearn.neural_network import MLPClassifier"
   ]
  },
  {
   "cell_type": "code",
   "execution_count": 2,
   "metadata": {},
   "outputs": [],
   "source": [
    "iris = datasets.load_iris()"
   ]
  },
  {
   "cell_type": "code",
   "execution_count": 3,
   "metadata": {},
   "outputs": [],
   "source": [
    "inputs = iris.data"
   ]
  },
  {
   "cell_type": "markdown",
   "metadata": {},
   "source": [
    "#### 1.1 - Iris data - Checking volumes and shapes"
   ]
  },
  {
   "cell_type": "code",
   "execution_count": 4,
   "metadata": {},
   "outputs": [
    {
     "data": {
      "text/plain": [
       "array([[5.1, 3.5, 1.4, 0.2],\n",
       "       [4.9, 3. , 1.4, 0.2],\n",
       "       [4.7, 3.2, 1.3, 0.2],\n",
       "       [4.6, 3.1, 1.5, 0.2],\n",
       "       [5. , 3.6, 1.4, 0.2],\n",
       "       [5.4, 3.9, 1.7, 0.4],\n",
       "       [4.6, 3.4, 1.4, 0.3],\n",
       "       [5. , 3.4, 1.5, 0.2],\n",
       "       [4.4, 2.9, 1.4, 0.2],\n",
       "       [4.9, 3.1, 1.5, 0.1],\n",
       "       [5.4, 3.7, 1.5, 0.2],\n",
       "       [4.8, 3.4, 1.6, 0.2],\n",
       "       [4.8, 3. , 1.4, 0.1],\n",
       "       [4.3, 3. , 1.1, 0.1],\n",
       "       [5.8, 4. , 1.2, 0.2],\n",
       "       [5.7, 4.4, 1.5, 0.4],\n",
       "       [5.4, 3.9, 1.3, 0.4],\n",
       "       [5.1, 3.5, 1.4, 0.3],\n",
       "       [5.7, 3.8, 1.7, 0.3],\n",
       "       [5.1, 3.8, 1.5, 0.3]])"
      ]
     },
     "execution_count": 4,
     "metadata": {},
     "output_type": "execute_result"
    }
   ],
   "source": [
    "inputs[:20]"
   ]
  },
  {
   "cell_type": "code",
   "execution_count": 19,
   "metadata": {},
   "outputs": [
    {
     "data": {
      "text/plain": [
       "['sepal length (cm)',\n",
       " 'sepal width (cm)',\n",
       " 'petal length (cm)',\n",
       " 'petal width (cm)']"
      ]
     },
     "execution_count": 19,
     "metadata": {},
     "output_type": "execute_result"
    }
   ],
   "source": [
    "iris.feature_names"
   ]
  },
  {
   "cell_type": "code",
   "execution_count": 20,
   "metadata": {},
   "outputs": [],
   "source": [
    "outputs = iris.target"
   ]
  },
  {
   "cell_type": "code",
   "execution_count": 21,
   "metadata": {},
   "outputs": [
    {
     "data": {
      "text/plain": [
       "((150, 4), (150,))"
      ]
     },
     "execution_count": 21,
     "metadata": {},
     "output_type": "execute_result"
    }
   ],
   "source": [
    "inputs.shape, iris.target.shape"
   ]
  },
  {
   "cell_type": "markdown",
   "metadata": {},
   "source": [
    "#### 1.2 - Train & Test - dataset splitting\n",
    "\n",
    "It is entirely common practice to split an entire dataset into subsets for the purposes of training data and test data. The \n",
    "concept is that we test the model on data it has never seen before to determine a truer outcome than reprocessing data that was used to build the model with. \n",
    "\n",
    "We can define the split ratios but the idea is to create a good (_or best_) balance, where good is considered to be the most training data we can afford while keeping a reasonable test set. In reality this changes from project to project typically hovering in the 80/20 ratio for train/test and some in the 70/30 train/test regions.\n",
    "\n",
    "**note:** It is also common practice to refer to `x` as the inputs and `y` as the expected results. \n"
   ]
  },
  {
   "cell_type": "code",
   "execution_count": 22,
   "metadata": {},
   "outputs": [],
   "source": [
    "from sklearn.model_selection import train_test_split"
   ]
  },
  {
   "cell_type": "code",
   "execution_count": 32,
   "metadata": {},
   "outputs": [],
   "source": [
    "# we consider the whole dataset as 1, therefore defining the test_size\n",
    "# split at 0.2 equates to 20% or as noted above adhereing to the 80/20\n",
    "# split mechanism that is fairly ubiquitous. \n",
    "x_train, x_test, y_train, y_test = train_test_split(inputs, outputs, test_size = 0.2)"
   ]
  },
  {
   "cell_type": "code",
   "execution_count": 33,
   "metadata": {},
   "outputs": [
    {
     "name": "stdout",
     "output_type": "stream",
     "text": [
      "              x_train         x_test        y_train         x_test\n",
      "--------------------------------------------------------------------------------\n",
      "Shape:       (120, 4)        (30, 4)         (120,)        (30, 4)\n"
     ]
    }
   ],
   "source": [
    "print(f\"{'x_train':>21}{'x_test':>15}{'y_train':>15}{'x_test':>15}\")\n",
    "print(\"-\" * 80)\n",
    "print(f\"Shape:{str(x_train.shape):>15}{str(x_test.shape):>15}{str(y_train.shape):>15}{str(x_test.shape):>15}\")\n"
   ]
  },
  {
   "cell_type": "markdown",
   "metadata": {},
   "source": [
    "#### 1.3 Network training\n",
    "\n"
   ]
  },
  {
   "cell_type": "code",
   "execution_count": 52,
   "metadata": {},
   "outputs": [
    {
     "data": {
      "text/plain": [
       "MLPClassifier(activation='logistic', batch_size=32, hidden_layer_sizes=(4, 4),\n",
       "              max_iter=2000)"
      ]
     },
     "execution_count": 52,
     "metadata": {},
     "output_type": "execute_result"
    }
   ],
   "source": [
    "network = MLPClassifier(max_iter=2000, \n",
    "                        #verbose=True,\n",
    "                        tol=0.000100, \n",
    "                        activation='logistic', \n",
    "                        solver='adam', \n",
    "                        learning_rate='constant', \n",
    "                        learning_rate_init=0.001, \n",
    "                        batch_size=32, \n",
    "                        hidden_layer_sizes=(4, 4),\n",
    "                        #early_stopping=True,\n",
    "                        #n_iter_no_change=50,\n",
    "                        )\n",
    "\n",
    "network.fit(x_train, y_train)"
   ]
  },
  {
   "cell_type": "code",
   "execution_count": 35,
   "metadata": {},
   "outputs": [
    {
     "data": {
      "text/plain": [
       "array([0, 1, 2])"
      ]
     },
     "execution_count": 35,
     "metadata": {},
     "output_type": "execute_result"
    }
   ],
   "source": [
    "# Class labels for each output. \n",
    "network.classes_"
   ]
  },
  {
   "cell_type": "code",
   "execution_count": 36,
   "metadata": {},
   "outputs": [
    {
     "data": {
      "text/plain": [
       "[array([[-0.54742631, -0.53826953,  0.65217864, -0.54088623],\n",
       "        [-1.17034985, -1.18919731,  1.02592261, -1.46788412],\n",
       "        [ 1.14336886,  1.1348185 , -1.0473566 ,  2.46787547],\n",
       "        [ 1.84647677,  1.81287871, -2.23448736,  2.81865779]]),\n",
       " array([[-2.43290349,  2.46931542, -2.31651291,  2.31300391],\n",
       "        [-3.14140872,  2.2688746 , -2.23952984,  2.89941279],\n",
       "        [ 2.62290807, -3.98551419,  4.42275164, -2.05257184],\n",
       "        [-3.70395087,  0.40421615, -0.41358356,  3.95871996]]),\n",
       " array([[ 3.341905  , -2.50117654, -0.88420648],\n",
       "        [-2.20478623, -1.92768522,  3.07098022],\n",
       "        [ 2.0015921 ,  2.38281398, -3.84324078],\n",
       "        [-3.4204975 ,  1.70198297,  1.60741286]])]"
      ]
     },
     "execution_count": 36,
     "metadata": {},
     "output_type": "execute_result"
    }
   ],
   "source": [
    "network.coefs_"
   ]
  },
  {
   "cell_type": "code",
   "execution_count": 37,
   "metadata": {},
   "outputs": [
    {
     "data": {
      "text/plain": [
       "4"
      ]
     },
     "execution_count": 37,
     "metadata": {},
     "output_type": "execute_result"
    }
   ],
   "source": [
    "network.n_layers_"
   ]
  },
  {
   "cell_type": "code",
   "execution_count": 38,
   "metadata": {},
   "outputs": [
    {
     "data": {
      "text/plain": [
       "[array([-1.50938394, -1.27793852,  1.58655431, -1.09746461]),\n",
       " array([ 0.19590934, -1.56620906,  1.31852993, -0.86375339]),\n",
       " array([0.06353798, 0.02452383, 0.35111406])]"
      ]
     },
     "execution_count": 38,
     "metadata": {},
     "output_type": "execute_result"
    }
   ],
   "source": [
    "# comment note. remember the layers\n",
    "# have been defined as (4,4)\n",
    "# biases connect to each hidden layer\n",
    "# culminating with the output layer.\n",
    "network.intercepts_"
   ]
  },
  {
   "cell_type": "markdown",
   "metadata": {},
   "source": [
    "#### 1.4 Network evaluation"
   ]
  },
  {
   "cell_type": "code",
   "execution_count": 39,
   "metadata": {},
   "outputs": [
    {
     "data": {
      "text/plain": [
       "array([1, 1, 1, 0, 2, 2, 2, 0, 2, 2, 0, 0, 0, 1, 0, 0, 0, 2, 1, 1, 2, 0,\n",
       "       2, 2, 1, 0, 1, 0, 0, 0])"
      ]
     },
     "execution_count": 39,
     "metadata": {},
     "output_type": "execute_result"
    }
   ],
   "source": [
    "predictions = network.predict(x_test)\n",
    "predictions"
   ]
  },
  {
   "cell_type": "code",
   "execution_count": 40,
   "metadata": {},
   "outputs": [
    {
     "data": {
      "text/plain": [
       "array([1, 1, 1, 0, 2, 2, 2, 0, 2, 2, 0, 0, 0, 2, 0, 0, 0, 2, 1, 1, 2, 0,\n",
       "       2, 2, 1, 0, 1, 0, 0, 0])"
      ]
     },
     "execution_count": 40,
     "metadata": {},
     "output_type": "execute_result"
    }
   ],
   "source": [
    "y_test"
   ]
  },
  {
   "cell_type": "code",
   "execution_count": 42,
   "metadata": {},
   "outputs": [],
   "source": [
    "from sklearn.metrics import accuracy_score, confusion_matrix"
   ]
  },
  {
   "cell_type": "code",
   "execution_count": 43,
   "metadata": {},
   "outputs": [
    {
     "data": {
      "text/plain": [
       "0.9666666666666667"
      ]
     },
     "execution_count": 43,
     "metadata": {},
     "output_type": "execute_result"
    }
   ],
   "source": [
    "accuracy_score(y_test, predictions)"
   ]
  },
  {
   "cell_type": "code",
   "execution_count": 45,
   "metadata": {},
   "outputs": [
    {
     "name": "stderr",
     "output_type": "stream",
     "text": [
      "/usr/local/Caskroom/miniconda/base/envs/pykit/lib/python3.7/site-packages/sklearn/base.py:213: FutureWarning: From version 0.24, get_params will raise an AttributeError if a parameter cannot be retrieved as an instance attribute. Previously it would return None.\n",
      "  FutureWarning)\n"
     ]
    },
    {
     "data": {
      "image/png": "[encoded data removed]",
      "text/plain": [
       "<Figure size 576x396 with 1 Axes>"
      ]
     },
     "metadata": {},
     "output_type": "display_data"
    },
    {
     "data": {
      "text/plain": [
       "<AxesSubplot:title={'center':'MLPClassifier Confusion Matrix'}, xlabel='Predicted Class', ylabel='True Class'>"
      ]
     },
     "execution_count": 45,
     "metadata": {},
     "output_type": "execute_result"
    }
   ],
   "source": [
    "from yellowbrick.classifier import ConfusionMatrix\n",
    "confusion_matrix = ConfusionMatrix(network, classes=iris.target_names)\n",
    "confusion_matrix.fit(x_train, y_train)\n",
    "confusion_matrix.score(x_test, y_test)\n",
    "confusion_matrix.show()"
   ]
  },
  {
   "cell_type": "markdown",
   "metadata": {},
   "source": [
    "#### 1.5 Network classification"
   ]
  },
  {
   "cell_type": "code",
   "execution_count": 48,
   "metadata": {},
   "outputs": [
    {
     "data": {
      "text/plain": [
       "(array([6.1, 2.9, 4.7, 1.4]), 1)"
      ]
     },
     "execution_count": 48,
     "metadata": {},
     "output_type": "execute_result"
    }
   ],
   "source": [
    "x_test[0], y_test[0]"
   ]
  },
  {
   "cell_type": "code",
   "execution_count": 49,
   "metadata": {},
   "outputs": [
    {
     "data": {
      "text/plain": [
       "(4,)"
      ]
     },
     "execution_count": 49,
     "metadata": {},
     "output_type": "execute_result"
    }
   ],
   "source": [
    "x_test[0].shape"
   ]
  },
  {
   "cell_type": "code",
   "execution_count": 50,
   "metadata": {},
   "outputs": [
    {
     "data": {
      "text/plain": [
       "(1, 4)"
      ]
     },
     "execution_count": 50,
     "metadata": {},
     "output_type": "execute_result"
    }
   ],
   "source": [
    "nx = x_test[0].reshape(1, -1)\n",
    "nx.shape"
   ]
  },
  {
   "cell_type": "code",
   "execution_count": 51,
   "metadata": {},
   "outputs": [
    {
     "data": {
      "text/plain": [
       "array([1])"
      ]
     },
     "execution_count": 51,
     "metadata": {},
     "output_type": "execute_result"
    }
   ],
   "source": [
    "network.predict(nx)"
   ]
  },
  {
   "cell_type": "markdown",
   "metadata": {},
   "source": [
    "# Using sklearn for regression"
   ]
  },
  {
   "cell_type": "code",
   "execution_count": 83,
   "metadata": {},
   "outputs": [],
   "source": [
    "# utility functions\n",
    "def show_datasplit(x_train, x_test, y_train, y_test):\n",
    "    print(f\"{'x_train':>21}{'x_test':>15}{'y_train':>15}{'x_test':>15}\")\n",
    "    print(\"-\" * 80)\n",
    "    print(f\"Shape:{str(x_train.shape):>15}{str(x_test.shape):>15}{str(y_train.shape):>15}{str(x_test.shape):>15}\")"
   ]
  },
  {
   "cell_type": "code",
   "execution_count": 99,
   "metadata": {},
   "outputs": [],
   "source": [
    "from sklearn.neural_network import MLPRegressor\n",
    "from sklearn import datasets"
   ]
  },
  {
   "cell_type": "code",
   "execution_count": 100,
   "metadata": {},
   "outputs": [],
   "source": [
    "boston = datasets.load_boston()"
   ]
  },
  {
   "cell_type": "code",
   "execution_count": 101,
   "metadata": {},
   "outputs": [],
   "source": [
    "inputs = boston.data"
   ]
  },
  {
   "cell_type": "code",
   "execution_count": 102,
   "metadata": {},
   "outputs": [],
   "source": [
    "outputs = boston.target"
   ]
  },
  {
   "cell_type": "code",
   "execution_count": 103,
   "metadata": {},
   "outputs": [],
   "source": [
    "from sklearn.model_selection import train_test_split\n",
    "x_train, x_test, y_train, y_test = train_test_split(inputs, outputs, test_size = 0.2)"
   ]
  },
  {
   "cell_type": "code",
   "execution_count": 104,
   "metadata": {},
   "outputs": [
    {
     "name": "stdout",
     "output_type": "stream",
     "text": [
      "              x_train         x_test        y_train         x_test\n",
      "--------------------------------------------------------------------------------\n",
      "Shape:      (404, 13)      (102, 13)         (404,)      (102, 13)\n"
     ]
    }
   ],
   "source": [
    "show_datasplit(x_train, x_test, y_train, y_test)"
   ]
  },
  {
   "cell_type": "markdown",
   "metadata": {},
   "source": [
    "Neural nets perform a huge volume of calculations and matrix multiplication exercises so on large numbers that becomes time and memory inefficient. This is why we use the technique of converting to values between zero and one because that allows for a faster and more efficient way of performing the necessary calculations and matrix multiplications."
   ]
  },
  {
   "cell_type": "code",
   "execution_count": 105,
   "metadata": {},
   "outputs": [],
   "source": [
    "from sklearn.preprocessing import MinMaxScaler\n",
    "\n",
    "scaler1 = MinMaxScaler()\n",
    "x_train = scaler1.fit_transform(x_train)\n",
    "x_test = scaler1.fit_transform(x_test)"
   ]
  },
  {
   "cell_type": "code",
   "execution_count": 106,
   "metadata": {},
   "outputs": [],
   "source": [
    "y_train = y_train.reshape(-1, 1)\n",
    "y_test = y_test.reshape(-1, 1)\n",
    "\n",
    "scaler2 = MinMaxScaler()\n",
    "y_train = scaler2.fit_transform(y_train)\n",
    "y_test = scaler2.fit_transform(y_test)"
   ]
  },
  {
   "cell_type": "code",
   "execution_count": 107,
   "metadata": {},
   "outputs": [
    {
     "name": "stdout",
     "output_type": "stream",
     "text": [
      "              x_train         x_test        y_train         x_test\n",
      "--------------------------------------------------------------------------------\n",
      "Shape:      (404, 13)      (102, 13)       (404, 1)      (102, 13)\n"
     ]
    }
   ],
   "source": [
    "show_datasplit(x_train, x_test, y_train, y_test)"
   ]
  },
  {
   "cell_type": "code",
   "execution_count": 108,
   "metadata": {},
   "outputs": [
    {
     "name": "stdout",
     "output_type": "stream",
     "text": [
      "Iteration 1, loss = 0.09192955\n",
      "Iteration 2, loss = 0.08700165\n",
      "Iteration 3, loss = 0.08244789\n",
      "Iteration 4, loss = 0.07822999\n",
      "Iteration 5, loss = 0.07419428\n",
      "Iteration 6, loss = 0.07039278\n",
      "Iteration 7, loss = 0.06660110\n",
      "Iteration 8, loss = 0.06292670\n",
      "Iteration 9, loss = 0.05941664\n",
      "Iteration 10, loss = 0.05590630\n",
      "Iteration 11, loss = 0.05246159\n",
      "Iteration 12, loss = 0.04898194\n",
      "Iteration 13, loss = 0.04556624\n",
      "Iteration 14, loss = 0.04245919\n",
      "Iteration 15, loss = 0.03974521\n",
      "Iteration 16, loss = 0.03746315\n",
      "Iteration 17, loss = 0.03544355\n",
      "Iteration 18, loss = 0.03373550\n",
      "Iteration 19, loss = 0.03213836\n",
      "Iteration 20, loss = 0.03081891\n",
      "Iteration 21, loss = 0.02959085\n",
      "Iteration 22, loss = 0.02857582\n",
      "Iteration 23, loss = 0.02765176\n",
      "Iteration 24, loss = 0.02680831\n",
      "Iteration 25, loss = 0.02610251\n",
      "Iteration 26, loss = 0.02551610\n",
      "Iteration 27, loss = 0.02492291\n",
      "Iteration 28, loss = 0.02437932\n",
      "Iteration 29, loss = 0.02390053\n",
      "Iteration 30, loss = 0.02349451\n",
      "Iteration 31, loss = 0.02312508\n",
      "Iteration 32, loss = 0.02278788\n",
      "Iteration 33, loss = 0.02248309\n",
      "Iteration 34, loss = 0.02219465\n",
      "Iteration 35, loss = 0.02191591\n",
      "Iteration 36, loss = 0.02166902\n",
      "Iteration 37, loss = 0.02143002\n",
      "Iteration 38, loss = 0.02117894\n",
      "Iteration 39, loss = 0.02093795\n",
      "Iteration 40, loss = 0.02067523\n",
      "Iteration 41, loss = 0.02044111\n",
      "Iteration 42, loss = 0.02023655\n",
      "Iteration 43, loss = 0.02002578\n",
      "Iteration 44, loss = 0.01983305\n",
      "Iteration 45, loss = 0.01964702\n",
      "Iteration 46, loss = 0.01946367\n",
      "Iteration 47, loss = 0.01926830\n",
      "Iteration 48, loss = 0.01908744\n",
      "Iteration 49, loss = 0.01890757\n",
      "Iteration 50, loss = 0.01872834\n",
      "Iteration 51, loss = 0.01856905\n",
      "Iteration 52, loss = 0.01840501\n",
      "Iteration 53, loss = 0.01824434\n",
      "Iteration 54, loss = 0.01807474\n",
      "Iteration 55, loss = 0.01787529\n",
      "Iteration 56, loss = 0.01771117\n",
      "Iteration 57, loss = 0.01752874\n",
      "Iteration 58, loss = 0.01735117\n",
      "Iteration 59, loss = 0.01715818\n",
      "Iteration 60, loss = 0.01700377\n",
      "Iteration 61, loss = 0.01677379\n",
      "Iteration 62, loss = 0.01665550\n",
      "Iteration 63, loss = 0.01654132\n",
      "Iteration 64, loss = 0.01651015\n",
      "Iteration 65, loss = 0.01640514\n",
      "Iteration 66, loss = 0.01626463\n",
      "Iteration 67, loss = 0.01611877\n",
      "Iteration 68, loss = 0.01595422\n",
      "Iteration 69, loss = 0.01576971\n",
      "Iteration 70, loss = 0.01560620\n",
      "Iteration 71, loss = 0.01545049\n",
      "Iteration 72, loss = 0.01529744\n",
      "Iteration 73, loss = 0.01516486\n",
      "Iteration 74, loss = 0.01504826\n",
      "Iteration 75, loss = 0.01492896\n",
      "Iteration 76, loss = 0.01482676\n",
      "Iteration 77, loss = 0.01472163\n",
      "Iteration 78, loss = 0.01461385\n",
      "Iteration 79, loss = 0.01449317\n",
      "Iteration 80, loss = 0.01432543\n",
      "Iteration 81, loss = 0.01421409\n",
      "Iteration 82, loss = 0.01410798\n",
      "Iteration 83, loss = 0.01397968\n",
      "Iteration 84, loss = 0.01381376\n",
      "Iteration 85, loss = 0.01364084\n",
      "Iteration 86, loss = 0.01349796\n",
      "Iteration 87, loss = 0.01333930\n",
      "Iteration 88, loss = 0.01320505\n",
      "Iteration 89, loss = 0.01312435\n",
      "Iteration 90, loss = 0.01302164\n",
      "Iteration 91, loss = 0.01284088\n",
      "Iteration 92, loss = 0.01270309\n",
      "Iteration 93, loss = 0.01266047\n",
      "Iteration 94, loss = 0.01259119\n",
      "Iteration 95, loss = 0.01254117\n",
      "Iteration 96, loss = 0.01247637\n",
      "Iteration 97, loss = 0.01236815\n",
      "Iteration 98, loss = 0.01221025\n",
      "Iteration 99, loss = 0.01206640\n",
      "Iteration 100, loss = 0.01191771\n",
      "Iteration 101, loss = 0.01181817\n",
      "Iteration 102, loss = 0.01171611\n",
      "Iteration 103, loss = 0.01162918\n",
      "Iteration 104, loss = 0.01157017\n",
      "Iteration 105, loss = 0.01150014\n",
      "Iteration 106, loss = 0.01139883\n",
      "Iteration 107, loss = 0.01132459\n",
      "Iteration 108, loss = 0.01125921\n",
      "Iteration 109, loss = 0.01119640\n",
      "Iteration 110, loss = 0.01115054\n",
      "Iteration 111, loss = 0.01112675\n",
      "Iteration 112, loss = 0.01113137\n",
      "Iteration 113, loss = 0.01113605\n",
      "Iteration 114, loss = 0.01105167\n",
      "Iteration 115, loss = 0.01094444\n",
      "Iteration 116, loss = 0.01088018\n",
      "Iteration 117, loss = 0.01086892\n",
      "Iteration 118, loss = 0.01081782\n",
      "Iteration 119, loss = 0.01073944\n",
      "Iteration 120, loss = 0.01066958\n",
      "Iteration 121, loss = 0.01061679\n",
      "Iteration 122, loss = 0.01057426\n",
      "Iteration 123, loss = 0.01052602\n",
      "Iteration 124, loss = 0.01047970\n",
      "Iteration 125, loss = 0.01043206\n",
      "Iteration 126, loss = 0.01040094\n",
      "Training loss did not improve more than tol=0.000100 for 10 consecutive epochs. Stopping.\n"
     ]
    },
    {
     "name": "stderr",
     "output_type": "stream",
     "text": [
      "/usr/local/Caskroom/miniconda/base/envs/pykit/lib/python3.7/site-packages/sklearn/utils/validation.py:72: DataConversionWarning: A column-vector y was passed when a 1d array was expected. Please change the shape of y to (n_samples, ), for example using ravel().\n",
      "  return f(**kwargs)\n"
     ]
    },
    {
     "data": {
      "text/plain": [
       "MLPRegressor(hidden_layer_sizes=7, max_iter=2000, verbose=True)"
      ]
     },
     "execution_count": 108,
     "metadata": {},
     "output_type": "execute_result"
    }
   ],
   "source": [
    "network = MLPRegressor(max_iter=2000, verbose=True, hidden_layer_sizes=(7))\n",
    "network.fit(x_train, y_train)"
   ]
  },
  {
   "cell_type": "code",
   "execution_count": 109,
   "metadata": {},
   "outputs": [
    {
     "data": {
      "text/plain": [
       "array([ 0.28684902,  0.32470412,  0.38470039,  0.42157021,  0.25821679,\n",
       "        0.25336635,  0.36407432,  0.63250113,  0.54668223,  0.58416923,\n",
       "        0.41654707,  0.36163937,  0.60305846,  0.47358847,  0.51902446,\n",
       "        0.47217376,  0.07056741,  0.50224688,  0.19912201,  0.47032422,\n",
       "        0.56096347,  0.46736462,  0.30269859,  0.5733417 ,  0.40732821,\n",
       "        0.29128029,  0.5138013 ,  0.59660579,  0.56959245,  0.15053837,\n",
       "        0.11742744,  0.48172414,  0.43432799,  0.49396761,  0.453297  ,\n",
       "        0.01444656,  0.38039585,  0.45310294,  0.36141838,  0.39624899,\n",
       "        0.4820202 ,  0.33372771,  0.63190132,  0.35354956,  0.34982157,\n",
       "        0.32258132,  0.65320611,  0.40224057,  0.43548471,  0.3303906 ,\n",
       "        0.48421106,  0.46432581,  0.34775849,  0.36854249,  0.56749191,\n",
       "        0.12124766,  0.0188742 ,  0.28235569,  0.57332169,  0.29316955,\n",
       "        0.34534949,  0.269223  , -0.06547961,  0.11294081,  0.67645448,\n",
       "        0.38807491,  0.29149284,  0.56904024,  0.5958184 ,  0.26982766,\n",
       "        0.4113868 ,  0.5224722 ,  0.60320658,  0.47609256,  0.59674322,\n",
       "        0.17789453,  0.38223504,  0.2082581 ,  0.38500596,  0.21108726,\n",
       "        0.18327704,  0.3030064 ,  0.20453649,  0.41510633,  0.32521248,\n",
       "        0.29111823,  0.29542966,  0.42370414,  0.32598478,  0.23048664,\n",
       "        0.47578758,  0.3220795 ,  0.4846569 ,  0.34685345,  0.31552568,\n",
       "        0.27101433,  0.6492213 ,  0.29617137,  0.40098267, -0.00786897,\n",
       "        0.44605236,  0.53721499])"
      ]
     },
     "execution_count": 109,
     "metadata": {},
     "output_type": "execute_result"
    }
   ],
   "source": [
    "predictions = network.predict(x_test)\n",
    "predictions"
   ]
  },
  {
   "cell_type": "code",
   "execution_count": 110,
   "metadata": {},
   "outputs": [
    {
     "data": {
      "text/plain": [
       "array([[0.22666667],\n",
       "       [0.35555556],\n",
       "       [0.31111111],\n",
       "       [0.29333333],\n",
       "       [0.20444444],\n",
       "       [0.40222222],\n",
       "       [0.40222222],\n",
       "       [0.37555556],\n",
       "       [0.77333333],\n",
       "       [0.66444444],\n",
       "       [0.34222222],\n",
       "       [0.50888889],\n",
       "       [0.84      ],\n",
       "       [0.32888889],\n",
       "       [0.69111111],\n",
       "       [0.55333333],\n",
       "       [0.18666667],\n",
       "       [0.61111111],\n",
       "       [0.07777778],\n",
       "       [0.43111111],\n",
       "       [0.63111111],\n",
       "       [0.32      ],\n",
       "       [0.34666667],\n",
       "       [0.38888889],\n",
       "       [0.36444444],\n",
       "       [0.29777778],\n",
       "       [1.        ],\n",
       "       [0.72444444],\n",
       "       [0.56666667],\n",
       "       [0.27111111],\n",
       "       [0.41555556],\n",
       "       [0.37777778],\n",
       "       [0.41333333],\n",
       "       [0.85555556],\n",
       "       [0.66888889],\n",
       "       [0.19555556],\n",
       "       [0.45111111],\n",
       "       [0.55777778],\n",
       "       [0.19111111],\n",
       "       [0.34222222],\n",
       "       [0.84666667],\n",
       "       [0.31777778],\n",
       "       [0.60444444],\n",
       "       [0.30444444],\n",
       "       [0.35777778],\n",
       "       [0.34666667],\n",
       "       [0.96666667],\n",
       "       [0.35777778],\n",
       "       [0.54222222],\n",
       "       [0.51333333],\n",
       "       [0.39111111],\n",
       "       [0.43333333],\n",
       "       [0.34      ],\n",
       "       [0.38      ],\n",
       "       [0.62666667],\n",
       "       [0.23555556],\n",
       "       [0.08222222],\n",
       "       [0.32666667],\n",
       "       [0.50888889],\n",
       "       [0.28444444],\n",
       "       [0.29555556],\n",
       "       [0.38888889],\n",
       "       [0.28666667],\n",
       "       [0.06888889],\n",
       "       [1.        ],\n",
       "       [0.15333333],\n",
       "       [0.33333333],\n",
       "       [0.71111111],\n",
       "       [0.42444444],\n",
       "       [0.37333333],\n",
       "       [0.        ],\n",
       "       [0.54666667],\n",
       "       [0.81555556],\n",
       "       [0.67555556],\n",
       "       [0.48222222],\n",
       "       [0.14      ],\n",
       "       [0.22666667],\n",
       "       [0.14444444],\n",
       "       [0.23555556],\n",
       "       [0.34      ],\n",
       "       [0.32      ],\n",
       "       [0.52666667],\n",
       "       [0.27111111],\n",
       "       [0.24444444],\n",
       "       [0.22222222],\n",
       "       [0.40666667],\n",
       "       [0.25111111],\n",
       "       [0.41777778],\n",
       "       [0.25777778],\n",
       "       [0.14888889],\n",
       "       [0.62444444],\n",
       "       [0.28444444],\n",
       "       [0.47111111],\n",
       "       [0.28888889],\n",
       "       [0.38444444],\n",
       "       [0.26666667],\n",
       "       [0.65777778],\n",
       "       [0.32888889],\n",
       "       [0.41777778],\n",
       "       [0.08444444],\n",
       "       [0.43111111],\n",
       "       [0.52666667]])"
      ]
     },
     "execution_count": 110,
     "metadata": {},
     "output_type": "execute_result"
    }
   ],
   "source": [
    "y_test"
   ]
  },
  {
   "cell_type": "code",
   "execution_count": 111,
   "metadata": {},
   "outputs": [],
   "source": [
    "from sklearn.metrics import mean_absolute_error, mean_squared_error"
   ]
  },
  {
   "cell_type": "code",
   "execution_count": 112,
   "metadata": {},
   "outputs": [
    {
     "data": {
      "text/plain": [
       "0.11167915051085124"
      ]
     },
     "execution_count": 112,
     "metadata": {},
     "output_type": "execute_result"
    }
   ],
   "source": [
    "mean_absolute_error(y_test, predictions)"
   ]
  },
  {
   "cell_type": "code",
   "execution_count": 113,
   "metadata": {},
   "outputs": [
    {
     "data": {
      "text/plain": [
       "0.02205920272071322"
      ]
     },
     "execution_count": 113,
     "metadata": {},
     "output_type": "execute_result"
    }
   ],
   "source": [
    "mean_squared_error(y_test, predictions)"
   ]
  },
  {
   "cell_type": "code",
   "execution_count": 114,
   "metadata": {},
   "outputs": [
    {
     "data": {
      "text/plain": [
       "(array([0.07998735, 0.        , 0.63234172, 0.        , 0.66454352,\n",
       "        0.51835902, 0.98072805, 0.14039231, 1.        , 0.91312741,\n",
       "        0.88372093, 0.89264152, 0.47836991]),\n",
       " array([0.22666667]))"
      ]
     },
     "execution_count": 114,
     "metadata": {},
     "output_type": "execute_result"
    }
   ],
   "source": [
    "x_test[0], y_test[0]"
   ]
  },
  {
   "cell_type": "code",
   "execution_count": 116,
   "metadata": {},
   "outputs": [
    {
     "data": {
      "text/plain": [
       "(1, 13)"
      ]
     },
     "execution_count": 116,
     "metadata": {},
     "output_type": "execute_result"
    }
   ],
   "source": [
    "nx = x_test[0].reshape(1, -1)\n",
    "nx.shape"
   ]
  },
  {
   "cell_type": "code",
   "execution_count": 117,
   "metadata": {},
   "outputs": [
    {
     "data": {
      "text/plain": [
       "array([0.28684902])"
      ]
     },
     "execution_count": 117,
     "metadata": {},
     "output_type": "execute_result"
    }
   ],
   "source": [
    "network.predict(nx)"
   ]
  },
  {
   "cell_type": "code",
   "execution_count": 121,
   "metadata": {},
   "outputs": [
    {
     "data": {
      "text/plain": [
       "array([[17.90820571]])"
      ]
     },
     "execution_count": 121,
     "metadata": {},
     "output_type": "execute_result"
    }
   ],
   "source": [
    "scaler2.inverse_transform(network.predict(nx).reshape(-1,1))"
   ]
  },
  {
   "cell_type": "code",
   "execution_count": 122,
   "metadata": {},
   "outputs": [
    {
     "data": {
      "text/plain": [
       "array([[15.2]])"
      ]
     },
     "execution_count": 122,
     "metadata": {},
     "output_type": "execute_result"
    }
   ],
   "source": [
    "scaler2.inverse_transform(y_test[0].reshape(-1, 1))"
   ]
  },
  {
   "cell_type": "code",
   "execution_count": null,
   "metadata": {},
   "outputs": [],
   "source": []
  }
 ],
 "metadata": {
  "kernelspec": {
   "display_name": "pykit",
   "language": "python",
   "name": "pykit"
  },
  "language_info": {
   "codemirror_mode": {
    "name": "ipython",
    "version": 3
   },
   "file_extension": ".py",
   "mimetype": "text/x-python",
   "name": "python",
   "nbconvert_exporter": "python",
   "pygments_lexer": "ipython3",
   "version": "3.7.6"
  }
 },
 "nbformat": 4,
 "nbformat_minor": 4
}
