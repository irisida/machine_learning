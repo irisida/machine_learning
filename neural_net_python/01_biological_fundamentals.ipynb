{
 "cells": [
  {
   "cell_type": "markdown",
   "metadata": {},
   "source": [
    "# Artificial Neural Networks\n",
    "\n",
    "\n",
    "\n",
    "# Biological Fundamentals\n",
    "\n",
    "#### Leading points\n",
    "- Scientific study estimates the amount of neurons in an adult brain to be more than 100 billion. \n",
    "- All these neurons are connected and interconnected. \n",
    "- Information flows between the neurons via these information-link connections which go to explaining human capabilities such as walking, reading, typing, understanding, questioning and so on. \n",
    "- These connections control communications, emotions, creativity etc.. \n",
    "\n",
    "This leads to defining a neural network as `a network of neurons that exchange information`. "
   ]
  },
  {
   "cell_type": "markdown",
   "metadata": {},
   "source": [
    "# Basic components of a Neuron\n",
    "\n",
    "![neuron](https://www.simplilearn.com/ice9/free_resources_article_thumb/diagram-of-a-biological-neuron.jpg)\n",
    "\n",
    "- Dendrites\n",
    "    - receive data from other neurons.\n",
    "- Cell body \n",
    "    - processes the data received in an information transfer. The information is the flow of electrical signals and its transfer is called `synapse`. The `synapse` is the journey from the Dendrites to the point of continued transfer from the Axon via the terminals. After the process of `synapse` biological chemicals enter the Dendrites for the purpose of increasing/decreasing the electrical potential of the cell body.\n",
    "    - The electrical flow in a biological neuron is what gives the potential of the cell which will lead to decision making. \n",
    "    - Therefore, we can say that new connections (and new learning) is formed from these potentials.  \n",
    "- Axon\n",
    "    - transmits signals to other neurons using the Axon terminals.\n",
    "- Axon terminals"
   ]
  },
  {
   "cell_type": "markdown",
   "metadata": {},
   "source": [
    "# The Artificial Neuron\n",
    "\n",
    "The artificial neuron mimics the biological structure. We have the equivalence of `Dendrites`, `Cell bodies` & `Axom terminals` in the artificial setting. \n",
    "\n",
    "- It is entirely possible for an an indefinite amount of inputs and outputs to an artificial neuron. \n",
    "- The inputs are information, data or datums from environment.\n",
    "- The outputs are the final response of the perceptron such as a decision or prediction.\n",
    "\n",
    "#### Example consideration\n",
    "\n",
    "In order to predict a persons salary we might reasonably expect that to be based on two key attributes:\n",
    "- age\n",
    "- Educational Background\n",
    "\n",
    "The perceptron receives the age as an input to the equivalent of the Dendrites, this will typically be represented by a figure, followed by another number for years of study or numerical indicator of depth of education. This is processed and the output will also be a number that indicates/predicts the salary of the profile based on the inputs.\n",
    "\n",
    "There is a `black box` around the `Cell body` of a neuron because it is not that easy to interpret what happens during this process. "
   ]
  },
  {
   "cell_type": "markdown",
   "metadata": {},
   "source": [
    "**Important disclaimers**\n",
    "- it is not known truly how the human brain works but there are significant insights which form the opinions on which the work of all artificial neural technology is based. \n",
    "- Artificial neural networks are merely an abstraction of what is known/accepted in this field of study. \n",
    "- They are nothing more than a simulation of a brain, or thought process.\n",
    "- We can depict the artificial neuron as follows: \n",
    "![neuron](https://www.researchgate.net/profile/Mike_Riley/publication/299490278/figure/fig1/AS:626481235517442@1526376174991/Artificial-Neuron-Structure.png)\n",
    "\n",
    "#### key takeaways:\n",
    "- Inputs are of an indeterminate number\n",
    "- each input is weighted, weighting dictates importance/credence factors.\n",
    "- We then have the `sum function` and the `activation function` which equates to the `black box` of above. \n",
    "- It works on the basis of $sum = \\sum\\limits_{i=1}^n xi \\cdot wi$\n",
    "- In an example with 4 inputs this means that what is passed to the sum function would be: $x1 \\cdot w1 + x2 \\cdot w2 + x3 \\cdot w3 + x4 \\cdot w4$"
   ]
  },
  {
   "cell_type": "markdown",
   "metadata": {},
   "source": [
    "# The Perceptron\n",
    "\n",
    "The Perceptron is the combination of the inputs & weights passed to the sum function and the activation function. Above we seen that the sum function has the job of taking each input & multiplying it by the associated weight for that input, adding to the results of other $input \\cdot weight$ calculations. "
   ]
  },
  {
   "cell_type": "markdown",
   "metadata": {},
   "source": [
    "In the next section we will implement single layered perceptrons...  "
   ]
  },
  {
   "cell_type": "code",
   "execution_count": null,
   "metadata": {},
   "outputs": [],
   "source": []
  }
 ],
 "metadata": {
  "kernelspec": {
   "display_name": "pykit",
   "language": "python",
   "name": "pykit"
  },
  "language_info": {
   "codemirror_mode": {
    "name": "ipython",
    "version": 3
   },
   "file_extension": ".py",
   "mimetype": "text/x-python",
   "name": "python",
   "nbconvert_exporter": "python",
   "pygments_lexer": "ipython3",
   "version": "3.7.6"
  }
 },
 "nbformat": 4,
 "nbformat_minor": 4
}
