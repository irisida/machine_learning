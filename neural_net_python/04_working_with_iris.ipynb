{
 "cells": [
  {
   "cell_type": "markdown",
   "metadata": {},
   "source": [
    "# The Iris Dataset \n",
    "\n",
    "The iris dataset is one of the most used for grasping ML concepts. The aim is to classify flowers. Based on `sepal` and `petal` values we will determine the type of flower it is and provide a classification output from our neural network"
   ]
  },
  {
   "cell_type": "markdown",
   "metadata": {},
   "source": [
    "### Load the dataset"
   ]
  },
  {
   "cell_type": "code",
   "execution_count": 50,
   "metadata": {},
   "outputs": [],
   "source": [
    "from sklearn import datasets"
   ]
  },
  {
   "cell_type": "code",
   "execution_count": 51,
   "metadata": {},
   "outputs": [],
   "source": [
    "# load the from the scikit-learn datasets module \n",
    "iris = datasets.load_iris()"
   ]
  },
  {
   "cell_type": "code",
   "execution_count": 52,
   "metadata": {},
   "outputs": [
    {
     "data": {
      "text/plain": [
       "array([[5.1, 3.5, 1.4, 0.2],\n",
       "       [4.9, 3. , 1.4, 0.2],\n",
       "       [4.7, 3.2, 1.3, 0.2],\n",
       "       [4.6, 3.1, 1.5, 0.2],\n",
       "       [5. , 3.6, 1.4, 0.2],\n",
       "       [5.4, 3.9, 1.7, 0.4],\n",
       "       [4.6, 3.4, 1.4, 0.3],\n",
       "       [5. , 3.4, 1.5, 0.2],\n",
       "       [4.4, 2.9, 1.4, 0.2],\n",
       "       [4.9, 3.1, 1.5, 0.1],\n",
       "       [5.4, 3.7, 1.5, 0.2],\n",
       "       [4.8, 3.4, 1.6, 0.2],\n",
       "       [4.8, 3. , 1.4, 0.1],\n",
       "       [4.3, 3. , 1.1, 0.1],\n",
       "       [5.8, 4. , 1.2, 0.2],\n",
       "       [5.7, 4.4, 1.5, 0.4],\n",
       "       [5.4, 3.9, 1.3, 0.4],\n",
       "       [5.1, 3.5, 1.4, 0.3],\n",
       "       [5.7, 3.8, 1.7, 0.3],\n",
       "       [5.1, 3.8, 1.5, 0.3]])"
      ]
     },
     "execution_count": 52,
     "metadata": {},
     "output_type": "execute_result"
    }
   ],
   "source": [
    "# grab forst 20 rows to get a feel for the data shape visually. \n",
    "iris.data[:20]"
   ]
  },
  {
   "cell_type": "code",
   "execution_count": 54,
   "metadata": {},
   "outputs": [
    {
     "data": {
      "text/plain": [
       "['sepal length (cm)',\n",
       " 'sepal width (cm)',\n",
       " 'petal length (cm)',\n",
       " 'petal width (cm)']"
      ]
     },
     "execution_count": 54,
     "metadata": {},
     "output_type": "execute_result"
    }
   ],
   "source": [
    "# see featre name details available \n",
    "iris.feature_names"
   ]
  },
  {
   "cell_type": "code",
   "execution_count": 55,
   "metadata": {},
   "outputs": [
    {
     "data": {
      "text/plain": [
       "array([0, 0, 0, 0, 0, 0, 0, 0, 0, 0, 0, 0, 0, 0, 0, 0, 0, 0, 0, 0, 0, 0,\n",
       "       0, 0, 0, 0, 0, 0, 0, 0, 0, 0, 0, 0, 0, 0, 0, 0, 0, 0, 0, 0, 0, 0,\n",
       "       0, 0, 0, 0, 0, 0, 1, 1, 1, 1, 1, 1, 1, 1, 1, 1, 1, 1, 1, 1, 1, 1,\n",
       "       1, 1, 1, 1, 1, 1, 1, 1, 1, 1, 1, 1, 1, 1, 1, 1, 1, 1, 1, 1, 1, 1,\n",
       "       1, 1, 1, 1, 1, 1, 1, 1, 1, 1, 1, 1, 2, 2, 2, 2, 2, 2, 2, 2, 2, 2,\n",
       "       2, 2, 2, 2, 2, 2, 2, 2, 2, 2, 2, 2, 2, 2, 2, 2, 2, 2, 2, 2, 2, 2,\n",
       "       2, 2, 2, 2, 2, 2, 2, 2, 2, 2, 2, 2, 2, 2, 2, 2, 2, 2])"
      ]
     },
     "execution_count": 55,
     "metadata": {},
     "output_type": "execute_result"
    }
   ],
   "source": [
    "# the known results or output_layer\n",
    "iris.target"
   ]
  },
  {
   "cell_type": "code",
   "execution_count": 56,
   "metadata": {},
   "outputs": [
    {
     "data": {
      "text/plain": [
       "array(['setosa', 'versicolor', 'virginica'], dtype='<U10')"
      ]
     },
     "execution_count": 56,
     "metadata": {},
     "output_type": "execute_result"
    }
   ],
   "source": [
    "# classification names\n",
    "iris.target_names"
   ]
  },
  {
   "cell_type": "markdown",
   "metadata": {},
   "source": [
    "#### Problem identification with our current setup\n",
    "\n",
    "The immediate issue we face is that our `nn` is defined for handling only two classifications at this time and the Iris dataset has three. So, we will perform a sub-select from the data to take only two of the three available classes. We can see the data is currently sorted by types and currently has 50 rows for each of the three classifications. Therefore, we will take 100 (50 for two classifications) or the first hundred to be more precise and this will mean we are sure to have taken the data for two classifications. "
   ]
  },
  {
   "cell_type": "code",
   "execution_count": 30,
   "metadata": {},
   "outputs": [
    {
     "data": {
      "text/plain": [
       "(100, 4)"
      ]
     },
     "execution_count": 30,
     "metadata": {},
     "output_type": "execute_result"
    }
   ],
   "source": [
    "input_layer = iris.data[:100]\n",
    "input_layer.shape"
   ]
  },
  {
   "cell_type": "code",
   "execution_count": 57,
   "metadata": {},
   "outputs": [
    {
     "data": {
      "text/plain": [
       "(100, 1)"
      ]
     },
     "execution_count": 57,
     "metadata": {},
     "output_type": "execute_result"
    }
   ],
   "source": [
    "output_layer = iris.target[:100]\n",
    "\n",
    "# reshape from a vector to a matrix.\n",
    "output_layer = output_layer.reshape(-1, 1)\n",
    "output_layer.shape"
   ]
  },
  {
   "cell_type": "markdown",
   "metadata": {},
   "source": [
    "## The Neural network implementation"
   ]
  },
  {
   "cell_type": "code",
   "execution_count": 58,
   "metadata": {},
   "outputs": [],
   "source": [
    "import numpy as np"
   ]
  },
  {
   "cell_type": "code",
   "execution_count": 81,
   "metadata": {},
   "outputs": [],
   "source": [
    "# define the utility functions \n",
    "\n",
    "def sigmoid(sum):\n",
    "    return 1 / (1 + np.exp(-sum))\n",
    "\n",
    "def sigmoid_derivative(sigmoid):\n",
    "    return sigmoid * (1 - sigmoid)"
   ]
  },
  {
   "cell_type": "code",
   "execution_count": 82,
   "metadata": {},
   "outputs": [],
   "source": [
    "# define the weights initialisations \n",
    "\n",
    "weights0 = 2 * np.random.random((4,100)) -1\n",
    "weights1 = 2 * np.random.random((100,1)) -1"
   ]
  },
  {
   "cell_type": "code",
   "execution_count": 86,
   "metadata": {},
   "outputs": [],
   "source": [
    "epochs = 2000\n",
    "learning_rate = 0.001\n",
    "errs = []"
   ]
  },
  {
   "cell_type": "code",
   "execution_count": 87,
   "metadata": {},
   "outputs": [
    {
     "name": "stdout",
     "output_type": "stream",
     "text": [
      "Epoch: 0 Error: 0.03311445230117358\n",
      "Epoch: 10 Error: 0.03301545415512801\n",
      "Epoch: 20 Error: 0.03291723936037354\n",
      "Epoch: 30 Error: 0.03281979785694079\n",
      "Epoch: 40 Error: 0.03272311976304577\n",
      "Epoch: 50 Error: 0.03262719537108344\n",
      "Epoch: 60 Error: 0.032532015143730185\n",
      "Epoch: 70 Error: 0.0324375697101517\n",
      "Epoch: 80 Error: 0.03234384986231302\n",
      "Epoch: 90 Error: 0.03225084655138749\n",
      "Epoch: 100 Error: 0.03215855088426143\n",
      "Epoch: 110 Error: 0.03206695412013168\n",
      "Epoch: 120 Error: 0.03197604766719288\n",
      "Epoch: 130 Error: 0.031885823079412165\n",
      "Epoch: 140 Error: 0.03179627205338802\n",
      "Epoch: 150 Error: 0.031707386425291154\n",
      "Epoch: 160 Error: 0.0316191581678847\n",
      "Epoch: 170 Error: 0.031531579387621245\n",
      "Epoch: 180 Error: 0.03144464232181462\n",
      "Epoch: 190 Error: 0.03135833933588405\n",
      "Epoch: 200 Error: 0.031272662920668305\n",
      "Epoch: 210 Error: 0.031187605689808277\n",
      "Epoch: 220 Error: 0.031103160377195377\n",
      "Epoch: 230 Error: 0.031019319834484093\n",
      "Epoch: 240 Error: 0.030936077028667006\n",
      "Epoch: 250 Error: 0.03085342503970985\n",
      "Epoch: 260 Error: 0.030771357058245564\n",
      "Epoch: 270 Error: 0.030689866383325156\n",
      "Epoch: 280 Error: 0.030608946420223757\n",
      "Epoch: 290 Error: 0.030528590678300622\n",
      "Epoch: 300 Error: 0.030448792768911086\n",
      "Epoch: 310 Error: 0.03036954640336926\n",
      "Epoch: 320 Error: 0.030290845390960067\n",
      "Epoch: 330 Error: 0.030212683636998906\n",
      "Epoch: 340 Error: 0.030135055140938026\n",
      "Epoch: 350 Error: 0.030057953994518008\n",
      "Epoch: 360 Error: 0.02998137437996302\n",
      "Epoch: 370 Error: 0.029905310568219066\n",
      "Epoch: 380 Error: 0.02982975691723352\n",
      "Epoch: 390 Error: 0.02975470787027507\n",
      "Epoch: 400 Error: 0.029680157954292997\n",
      "Epoch: 410 Error: 0.029606101778314634\n",
      "Epoch: 420 Error: 0.029532534031879876\n",
      "Epoch: 430 Error: 0.029459449483511885\n",
      "Epoch: 440 Error: 0.029386842979222987\n",
      "Epoch: 450 Error: 0.02931470944105471\n",
      "Epoch: 460 Error: 0.02924304386565115\n",
      "Epoch: 470 Error: 0.029171841322864756\n",
      "Epoch: 480 Error: 0.029101096954393616\n",
      "Epoch: 490 Error: 0.029030805972449465\n",
      "Epoch: 500 Error: 0.028960963658455602\n",
      "Epoch: 510 Error: 0.02889156536177393\n",
      "Epoch: 520 Error: 0.028822606498460218\n",
      "Epoch: 530 Error: 0.028754082550047147\n",
      "Epoch: 540 Error: 0.028685989062354107\n",
      "Epoch: 550 Error: 0.028618321644323288\n",
      "Epoch: 560 Error: 0.028551075966881213\n",
      "Epoch: 570 Error: 0.028484247761825055\n",
      "Epoch: 580 Error: 0.028417832820733437\n",
      "Epoch: 590 Error: 0.02835182699390057\n",
      "Epoch: 600 Error: 0.028286226189293516\n",
      "Epoch: 610 Error: 0.02822102637153189\n",
      "Epoch: 620 Error: 0.028156223560889336\n",
      "Epoch: 630 Error: 0.028091813832316466\n",
      "Epoch: 640 Error: 0.02802779331448436\n",
      "Epoch: 650 Error: 0.02796415818884858\n",
      "Epoch: 660 Error: 0.027900904688732603\n",
      "Epoch: 670 Error: 0.027838029098430958\n",
      "Epoch: 680 Error: 0.027775527752330782\n",
      "Epoch: 690 Error: 0.02771339703405183\n",
      "Epoch: 700 Error: 0.027651633375604483\n",
      "Epoch: 710 Error: 0.027590233256564973\n",
      "Epoch: 720 Error: 0.027529193203267868\n",
      "Epoch: 730 Error: 0.027468509788015003\n",
      "Epoch: 740 Error: 0.027408179628300687\n",
      "Epoch: 750 Error: 0.027348199386052735\n",
      "Epoch: 760 Error: 0.02728856576688886\n",
      "Epoch: 770 Error: 0.027229275519388335\n",
      "Epoch: 780 Error: 0.02717032543437808\n",
      "Epoch: 790 Error: 0.02711171234423342\n",
      "Epoch: 800 Error: 0.02705343312219264\n",
      "Epoch: 810 Error: 0.026995484681685333\n",
      "Epoch: 820 Error: 0.02693786397567413\n",
      "Epoch: 830 Error: 0.026880567996009533\n",
      "Epoch: 840 Error: 0.02682359377279731\n",
      "Epoch: 850 Error: 0.02676693837377869\n",
      "Epoch: 860 Error: 0.026710598903722377\n",
      "Epoch: 870 Error: 0.0266545725038287\n",
      "Epoch: 880 Error: 0.026598856351145322\n",
      "Epoch: 890 Error: 0.026543447657994323\n",
      "Epoch: 900 Error: 0.026488343671410258\n",
      "Epoch: 910 Error: 0.02643354167258919\n",
      "Epoch: 920 Error: 0.026379038976348385\n",
      "Epoch: 930 Error: 0.026324832930596186\n",
      "Epoch: 940 Error: 0.026270920915812068\n",
      "Epoch: 950 Error: 0.02621730034453671\n",
      "Epoch: 960 Error: 0.02616396866087169\n",
      "Epoch: 970 Error: 0.026110923339988486\n",
      "Epoch: 980 Error: 0.026058161887647042\n",
      "Epoch: 990 Error: 0.026005681839723037\n",
      "Epoch: 1000 Error: 0.025953480761744273\n",
      "Epoch: 1010 Error: 0.025901556248435646\n",
      "Epoch: 1020 Error: 0.02584990592327248\n",
      "Epoch: 1030 Error: 0.025798527438042323\n",
      "Epoch: 1040 Error: 0.025747418472414615\n",
      "Epoch: 1050 Error: 0.025696576733518547\n",
      "Epoch: 1060 Error: 0.02564599995552839\n",
      "Epoch: 1070 Error: 0.02559568589925673\n",
      "Epoch: 1080 Error: 0.025545632351754822\n",
      "Epoch: 1090 Error: 0.025495837125920424\n",
      "Epoch: 1100 Error: 0.02544629806011261\n",
      "Epoch: 1110 Error: 0.02539701301777366\n",
      "Epoch: 1120 Error: 0.025347979887057618\n",
      "Epoch: 1130 Error: 0.025299196580465647\n",
      "Epoch: 1140 Error: 0.0252506610344879\n",
      "Epoch: 1150 Error: 0.02520237120925163\n",
      "Epoch: 1160 Error: 0.025154325088175798\n",
      "Epoch: 1170 Error: 0.025106520677631586\n",
      "Epoch: 1180 Error: 0.02505895600660906\n",
      "Epoch: 1190 Error: 0.025011629126389597\n",
      "Epoch: 1200 Error: 0.024964538110224203\n",
      "Epoch: 1210 Error: 0.02491768105301727\n",
      "Epoch: 1220 Error: 0.024871056071016032\n",
      "Epoch: 1230 Error: 0.02482466130150532\n",
      "Epoch: 1240 Error: 0.024778494902507706\n",
      "Epoch: 1250 Error: 0.02473255505248872\n",
      "Epoch: 1260 Error: 0.0246868399500672\n",
      "Epoch: 1270 Error: 0.02464134781373067\n",
      "Epoch: 1280 Error: 0.0245960768815555\n",
      "Epoch: 1290 Error: 0.02455102541093197\n",
      "Epoch: 1300 Error: 0.02450619167829389\n",
      "Epoch: 1310 Error: 0.024461573978852826\n",
      "Epoch: 1320 Error: 0.024417170626337022\n",
      "Epoch: 1330 Error: 0.024372979952734405\n",
      "Epoch: 1340 Error: 0.024329000308040215\n",
      "Epoch: 1350 Error: 0.02428523006000863\n",
      "Epoch: 1360 Error: 0.024241667593908826\n",
      "Epoch: 1370 Error: 0.0241983113122847\n",
      "Epoch: 1380 Error: 0.024155159634719068\n",
      "Epoch: 1390 Error: 0.024112210997601403\n",
      "Epoch: 1400 Error: 0.02406946385389953\n",
      "Epoch: 1410 Error: 0.024026916672935213\n",
      "Epoch: 1420 Error: 0.023984567940163192\n",
      "Epoch: 1430 Error: 0.023942416156954086\n",
      "Epoch: 1440 Error: 0.023900459840380597\n",
      "Epoch: 1450 Error: 0.023858697523007465\n",
      "Epoch: 1460 Error: 0.02381712775268456\n",
      "Epoch: 1470 Error: 0.02377574909234365\n",
      "Epoch: 1480 Error: 0.02373456011979804\n",
      "Epoch: 1490 Error: 0.023693559427545852\n",
      "Epoch: 1500 Error: 0.023652745622576216\n",
      "Epoch: 1510 Error: 0.023612117326178593\n",
      "Epoch: 1520 Error: 0.023571673173755282\n",
      "Epoch: 1530 Error: 0.02353141181463664\n",
      "Epoch: 1540 Error: 0.02349133191189962\n",
      "Epoch: 1550 Error: 0.023451432142188828\n",
      "Epoch: 1560 Error: 0.02341171119554061\n",
      "Epoch: 1570 Error: 0.023372167775209795\n",
      "Epoch: 1580 Error: 0.0233328005974993\n",
      "Epoch: 1590 Error: 0.023293608391592266\n",
      "Epoch: 1600 Error: 0.023254589899386825\n",
      "Epoch: 1610 Error: 0.023215743875333598\n",
      "Epoch: 1620 Error: 0.023177069086275516\n",
      "Epoch: 1630 Error: 0.023138564311290216\n",
      "Epoch: 1640 Error: 0.023100228341534957\n",
      "Epoch: 1650 Error: 0.023062059980093655\n",
      "Epoch: 1660 Error: 0.02302405804182666\n",
      "Epoch: 1670 Error: 0.02298622135322241\n",
      "Epoch: 1680 Error: 0.022948548752251767\n",
      "Epoch: 1690 Error: 0.02291103908822421\n",
      "Epoch: 1700 Error: 0.02287369122164645\n",
      "Epoch: 1710 Error: 0.0228365040240831\n",
      "Epoch: 1720 Error: 0.02279947637801946\n",
      "Epoch: 1730 Error: 0.02276260717672634\n",
      "Epoch: 1740 Error: 0.022725895324127006\n",
      "Epoch: 1750 Error: 0.022689339734666046\n",
      "Epoch: 1760 Error: 0.022652939333180168\n",
      "Epoch: 1770 Error: 0.02261669305477103\n",
      "Epoch: 1780 Error: 0.022580599844679847\n",
      "Epoch: 1790 Error: 0.022544658658164005\n",
      "Epoch: 1800 Error: 0.022508868460375305\n",
      "Epoch: 1810 Error: 0.022473228226240163\n",
      "Epoch: 1820 Error: 0.022437736940341537\n",
      "Epoch: 1830 Error: 0.022402393596802534\n",
      "Epoch: 1840 Error: 0.022367197199171764\n",
      "Epoch: 1850 Error: 0.0223321467603104\n",
      "Epoch: 1860 Error: 0.02229724130228079\n",
      "Epoch: 1870 Error: 0.022262479856236795\n",
      "Epoch: 1880 Error: 0.022227861462315618\n",
      "Epoch: 1890 Error: 0.022193385169531277\n",
      "Epoch: 1900 Error: 0.022159050035669595\n",
      "Epoch: 1910 Error: 0.022124855127184623\n",
      "Epoch: 1920 Error: 0.022090799519096677\n",
      "Epoch: 1930 Error: 0.022056882294891746\n",
      "Epoch: 1940 Error: 0.022023102546422303\n",
      "Epoch: 1950 Error: 0.021989459373809726\n",
      "Epoch: 1960 Error: 0.021955951885347793\n",
      "Epoch: 1970 Error: 0.02192257919740782\n",
      "Epoch: 1980 Error: 0.021889340434345046\n",
      "Epoch: 1990 Error: 0.021856234728406188\n"
     ]
    }
   ],
   "source": [
    "for epoch in range(epochs):\n",
    "    sum_synapse0 = np.dot(input_layer, weights0)\n",
    "    hidden_layer = sigmoid(sum_synapse0)\n",
    "    \n",
    "    sum_synapse1 = np.dot(hidden_layer, weights1)\n",
    "    network_output_layer = sigmoid(sum_synapse1)\n",
    "    \n",
    "    error_output_layer = output_layer - network_output_layer\n",
    "    average = np.mean(abs(error_output_layer))\n",
    "    if epoch % 10 == 0:\n",
    "        print(f\"Epoch: {str(epoch)} Error: {str(average)}\")\n",
    "        errs.append(average)\n",
    "    \n",
    "    derivative_output_layer = sigmoid_derivative(network_output_layer)\n",
    "    delta_output_layer = error_output_layer * derivative_output_layer\n",
    "    \n",
    "    weights1T = weights1.T\n",
    "    delta_output_weights1_multiplier = delta_output_layer.dot(weights1T)\n",
    "    delta_hidden_layer = delta_output_weights1_multiplier * sigmoid_derivative(hidden_layer)\n",
    "    \n",
    "    hidden_layerT = hidden_layer.T\n",
    "    input_delta1_multiplier = hidden_layerT.dot(delta_output_layer)\n",
    "    weights1 = weights1 + (input_delta1_multiplier * learning_rate)\n",
    "    \n",
    "    input_layerT = input_layer.T\n",
    "    input_delta0_multiplier = input_layerT.dot(delta_hidden_layer)\n",
    "    weights0 = weights0 + (input_delta0_multiplier * learning_rate)\n",
    "    "
   ]
  },
  {
   "cell_type": "code",
   "execution_count": 88,
   "metadata": {},
   "outputs": [
    {
     "data": {
      "text/plain": [
       "[<matplotlib.lines.Line2D at 0x7f8bfc6652d0>]"
      ]
     },
     "execution_count": 88,
     "metadata": {},
     "output_type": "execute_result"
    },
    {
     "data": {
      "image/png": "[encoded data removed]",
      "text/plain": [
       "<Figure size 432x288 with 1 Axes>"
      ]
     },
     "metadata": {
      "needs_background": "light"
     },
     "output_type": "display_data"
    }
   ],
   "source": [
    "import matplotlib.pyplot as plt\n",
    "plt.xlabel('Epochs')\n",
    "plt.ylabel('Error')\n",
    "plt.plot(errs)"
   ]
  },
  {
   "cell_type": "code",
   "execution_count": 89,
   "metadata": {},
   "outputs": [],
   "source": [
    "def calculate_output(instance):\n",
    "    hidden_layer = sigmoid(np.dot(instance, weights0))\n",
    "    output_layer = sigmoid(np.dot(hidden_layer, weights1))\n",
    "    return output_layer[0]"
   ]
  },
  {
   "cell_type": "code",
   "execution_count": 90,
   "metadata": {},
   "outputs": [
    {
     "data": {
      "text/plain": [
       "0.015183235653226348"
      ]
     },
     "execution_count": 90,
     "metadata": {},
     "output_type": "execute_result"
    }
   ],
   "source": [
    "calculate_output(input_layer[0])"
   ]
  },
  {
   "cell_type": "code",
   "execution_count": 91,
   "metadata": {},
   "outputs": [
    {
     "data": {
      "text/plain": [
       "0.9807735533990718"
      ]
     },
     "execution_count": 91,
     "metadata": {},
     "output_type": "execute_result"
    }
   ],
   "source": [
    "calculate_output(input_layer[99])"
   ]
  },
  {
   "cell_type": "code",
   "execution_count": null,
   "metadata": {},
   "outputs": [],
   "source": []
  }
 ],
 "metadata": {
  "kernelspec": {
   "display_name": "pykit",
   "language": "python",
   "name": "pykit"
  },
  "language_info": {
   "codemirror_mode": {
    "name": "ipython",
    "version": 3
   },
   "file_extension": ".py",
   "mimetype": "text/x-python",
   "name": "python",
   "nbconvert_exporter": "python",
   "pygments_lexer": "ipython3",
   "version": "3.7.6"
  }
 },
 "nbformat": 4,
 "nbformat_minor": 4
}
