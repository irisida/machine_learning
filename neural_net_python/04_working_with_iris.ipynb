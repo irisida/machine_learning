{
 "cells": [
  {
   "cell_type": "markdown",
   "metadata": {},
   "source": [
    "# The Iris Dataset \n",
    "\n",
    "The iris dataset is one of the most used for grasping ML concepts. The aim is to classify flowers. Based on `sepal` and `petal` values we will determine the type of flower it is and provide a classification output from our neural network"
   ]
  },
  {
   "cell_type": "markdown",
   "metadata": {},
   "source": [
    "### Load the dataset"
   ]
  },
  {
   "cell_type": "code",
   "execution_count": 50,
   "metadata": {},
   "outputs": [],
   "source": [
    "from sklearn import datasets"
   ]
  },
  {
   "cell_type": "code",
   "execution_count": 51,
   "metadata": {},
   "outputs": [],
   "source": [
    "# load the from the scikit-learn datasets module \n",
    "iris = datasets.load_iris()"
   ]
  },
  {
   "cell_type": "code",
   "execution_count": 52,
   "metadata": {},
   "outputs": [
    {
     "data": {
      "text/plain": [
       "array([[5.1, 3.5, 1.4, 0.2],\n",
       "       [4.9, 3. , 1.4, 0.2],\n",
       "       [4.7, 3.2, 1.3, 0.2],\n",
       "       [4.6, 3.1, 1.5, 0.2],\n",
       "       [5. , 3.6, 1.4, 0.2],\n",
       "       [5.4, 3.9, 1.7, 0.4],\n",
       "       [4.6, 3.4, 1.4, 0.3],\n",
       "       [5. , 3.4, 1.5, 0.2],\n",
       "       [4.4, 2.9, 1.4, 0.2],\n",
       "       [4.9, 3.1, 1.5, 0.1],\n",
       "       [5.4, 3.7, 1.5, 0.2],\n",
       "       [4.8, 3.4, 1.6, 0.2],\n",
       "       [4.8, 3. , 1.4, 0.1],\n",
       "       [4.3, 3. , 1.1, 0.1],\n",
       "       [5.8, 4. , 1.2, 0.2],\n",
       "       [5.7, 4.4, 1.5, 0.4],\n",
       "       [5.4, 3.9, 1.3, 0.4],\n",
       "       [5.1, 3.5, 1.4, 0.3],\n",
       "       [5.7, 3.8, 1.7, 0.3],\n",
       "       [5.1, 3.8, 1.5, 0.3]])"
      ]
     },
     "execution_count": 52,
     "metadata": {},
     "output_type": "execute_result"
    }
   ],
   "source": [
    "# grab forst 20 rows to get a feel for the data shape visually. \n",
    "iris.data[:20]"
   ]
  },
  {
   "cell_type": "code",
   "execution_count": 54,
   "metadata": {},
   "outputs": [
    {
     "data": {
      "text/plain": [
       "['sepal length (cm)',\n",
       " 'sepal width (cm)',\n",
       " 'petal length (cm)',\n",
       " 'petal width (cm)']"
      ]
     },
     "execution_count": 54,
     "metadata": {},
     "output_type": "execute_result"
    }
   ],
   "source": [
    "# see featre name details available \n",
    "iris.feature_names"
   ]
  },
  {
   "cell_type": "code",
   "execution_count": 55,
   "metadata": {},
   "outputs": [
    {
     "data": {
      "text/plain": [
       "array([0, 0, 0, 0, 0, 0, 0, 0, 0, 0, 0, 0, 0, 0, 0, 0, 0, 0, 0, 0, 0, 0,\n",
       "       0, 0, 0, 0, 0, 0, 0, 0, 0, 0, 0, 0, 0, 0, 0, 0, 0, 0, 0, 0, 0, 0,\n",
       "       0, 0, 0, 0, 0, 0, 1, 1, 1, 1, 1, 1, 1, 1, 1, 1, 1, 1, 1, 1, 1, 1,\n",
       "       1, 1, 1, 1, 1, 1, 1, 1, 1, 1, 1, 1, 1, 1, 1, 1, 1, 1, 1, 1, 1, 1,\n",
       "       1, 1, 1, 1, 1, 1, 1, 1, 1, 1, 1, 1, 2, 2, 2, 2, 2, 2, 2, 2, 2, 2,\n",
       "       2, 2, 2, 2, 2, 2, 2, 2, 2, 2, 2, 2, 2, 2, 2, 2, 2, 2, 2, 2, 2, 2,\n",
       "       2, 2, 2, 2, 2, 2, 2, 2, 2, 2, 2, 2, 2, 2, 2, 2, 2, 2])"
      ]
     },
     "execution_count": 55,
     "metadata": {},
     "output_type": "execute_result"
    }
   ],
   "source": [
    "# the known results or output_layer\n",
    "iris.target"
   ]
  },
  {
   "cell_type": "code",
   "execution_count": 56,
   "metadata": {},
   "outputs": [
    {
     "data": {
      "text/plain": [
       "array(['setosa', 'versicolor', 'virginica'], dtype='<U10')"
      ]
     },
     "execution_count": 56,
     "metadata": {},
     "output_type": "execute_result"
    }
   ],
   "source": [
    "# classification names\n",
    "iris.target_names"
   ]
  },
  {
   "cell_type": "markdown",
   "metadata": {},
   "source": [
    "#### Problem identification with our current setup\n",
    "\n",
    "The immediate issue we face is that our `nn` is defined for handling only two classifications at this time and the Iris dataset has three. So, we will perform a sub-select from the data to take only two of the three available classes. We can see the data is currently sorted by types and currently has 50 rows for each of the three classifications. Therefore, we will take 100 (50 for two classifications) or the first hundred to be more precise and this will mean we are sure to have taken the data for two classifications. "
   ]
  },
  {
   "cell_type": "code",
   "execution_count": 30,
   "metadata": {},
   "outputs": [
    {
     "data": {
      "text/plain": [
       "(100, 4)"
      ]
     },
     "execution_count": 30,
     "metadata": {},
     "output_type": "execute_result"
    }
   ],
   "source": [
    "input_layer = iris.data[:100]\n",
    "input_layer.shape"
   ]
  },
  {
   "cell_type": "code",
   "execution_count": 57,
   "metadata": {},
   "outputs": [
    {
     "data": {
      "text/plain": [
       "(100, 1)"
      ]
     },
     "execution_count": 57,
     "metadata": {},
     "output_type": "execute_result"
    }
   ],
   "source": [
    "output_layer = iris.target[:100]\n",
    "\n",
    "# reshape from a vector to a matrix.\n",
    "output_layer = output_layer.reshape(-1, 1)\n",
    "output_layer.shape"
   ]
  },
  {
   "cell_type": "markdown",
   "metadata": {},
   "source": [
    "## The Neural network implementation"
   ]
  },
  {
   "cell_type": "code",
   "execution_count": 58,
   "metadata": {},
   "outputs": [],
   "source": [
    "import numpy as np"
   ]
  },
  {
   "cell_type": "code",
   "execution_count": 81,
   "metadata": {},
   "outputs": [],
   "source": [
    "# define the utility functions \n",
    "\n",
    "def sigmoid(sum):\n",
    "    return 1 / (1 + np.exp(-sum))\n",
    "\n",
    "def sigmoid_derivative(sigmoid):\n",
    "    return sigmoid * (1 - sigmoid)"
   ]
  },
  {
   "cell_type": "code",
   "execution_count": 92,
   "metadata": {},
   "outputs": [],
   "source": [
    "# define the weights initialisations \n",
    "\n",
    "weights0 = 2 * np.random.random((4,100)) -1\n",
    "weights1 = 2 * np.random.random((100,1)) -1"
   ]
  },
  {
   "cell_type": "code",
   "execution_count": 93,
   "metadata": {},
   "outputs": [],
   "source": [
    "epochs = 2000\n",
    "learning_rate = 0.001\n",
    "errs = []"
   ]
  },
  {
   "cell_type": "code",
   "execution_count": 94,
   "metadata": {},
   "outputs": [
    {
     "name": "stdout",
     "output_type": "stream",
     "text": [
      "Epoch: 0 Error: 0.49313633186141786\n",
      "Epoch: 100 Error: 0.15920371490956742\n",
      "Epoch: 200 Error: 0.10831876095506661\n",
      "Epoch: 300 Error: 0.08488626271204885\n",
      "Epoch: 400 Error: 0.07088031383499198\n",
      "Epoch: 500 Error: 0.0614688748111704\n",
      "Epoch: 600 Error: 0.054686572659509006\n",
      "Epoch: 700 Error: 0.04955421967706689\n",
      "Epoch: 800 Error: 0.04552461865348637\n",
      "Epoch: 900 Error: 0.04226815894991464\n",
      "Epoch: 1000 Error: 0.039574951211596716\n",
      "Epoch: 1100 Error: 0.03730525669788515\n",
      "Epoch: 1200 Error: 0.03536251795539103\n",
      "Epoch: 1300 Error: 0.0336778687527742\n",
      "Epoch: 1400 Error: 0.032200835205445616\n",
      "Epoch: 1500 Error: 0.030893539273389607\n",
      "Epoch: 1600 Error: 0.02972696458790142\n",
      "Epoch: 1700 Error: 0.028678479667984983\n",
      "Epoch: 1800 Error: 0.02773015176403594\n",
      "Epoch: 1900 Error: 0.026867571768762345\n"
     ]
    }
   ],
   "source": [
    "for epoch in range(epochs):\n",
    "    sum_synapse0 = np.dot(input_layer, weights0)\n",
    "    hidden_layer = sigmoid(sum_synapse0)\n",
    "    \n",
    "    sum_synapse1 = np.dot(hidden_layer, weights1)\n",
    "    network_output_layer = sigmoid(sum_synapse1)\n",
    "    \n",
    "    error_output_layer = output_layer - network_output_layer\n",
    "    average = np.mean(abs(error_output_layer))\n",
    "    if epoch % 100 == 0:\n",
    "        print(f\"Epoch: {str(epoch)} Error: {str(average)}\")\n",
    "        errs.append(average)\n",
    "    \n",
    "    derivative_output_layer = sigmoid_derivative(network_output_layer)\n",
    "    delta_output_layer = error_output_layer * derivative_output_layer\n",
    "    \n",
    "    weights1T = weights1.T\n",
    "    delta_output_weights1_multiplier = delta_output_layer.dot(weights1T)\n",
    "    delta_hidden_layer = delta_output_weights1_multiplier * sigmoid_derivative(hidden_layer)\n",
    "    \n",
    "    hidden_layerT = hidden_layer.T\n",
    "    input_delta1_multiplier = hidden_layerT.dot(delta_output_layer)\n",
    "    weights1 = weights1 + (input_delta1_multiplier * learning_rate)\n",
    "    \n",
    "    input_layerT = input_layer.T\n",
    "    input_delta0_multiplier = input_layerT.dot(delta_hidden_layer)\n",
    "    weights0 = weights0 + (input_delta0_multiplier * learning_rate)\n",
    "    "
   ]
  },
  {
   "cell_type": "code",
   "execution_count": 95,
   "metadata": {},
   "outputs": [
    {
     "data": {
      "text/plain": [
       "[<matplotlib.lines.Line2D at 0x7f8bfc536390>]"
      ]
     },
     "execution_count": 95,
     "metadata": {},
     "output_type": "execute_result"
    },
    {
     "data": {
      "image/png": "[encoded data removed]",
      "text/plain": [
       "<Figure size 432x288 with 1 Axes>"
      ]
     },
     "metadata": {
      "needs_background": "light"
     },
     "output_type": "display_data"
    }
   ],
   "source": [
    "import matplotlib.pyplot as plt\n",
    "plt.xlabel('Epochs')\n",
    "plt.ylabel('Error')\n",
    "plt.plot(errs)"
   ]
  },
  {
   "cell_type": "code",
   "execution_count": 89,
   "metadata": {},
   "outputs": [],
   "source": [
    "def calculate_output(instance):\n",
    "    hidden_layer = sigmoid(np.dot(instance, weights0))\n",
    "    output_layer = sigmoid(np.dot(hidden_layer, weights1))\n",
    "    return output_layer[0]"
   ]
  },
  {
   "cell_type": "code",
   "execution_count": 90,
   "metadata": {},
   "outputs": [
    {
     "data": {
      "text/plain": [
       "0.015183235653226348"
      ]
     },
     "execution_count": 90,
     "metadata": {},
     "output_type": "execute_result"
    }
   ],
   "source": [
    "calculate_output(input_layer[0])"
   ]
  },
  {
   "cell_type": "code",
   "execution_count": 91,
   "metadata": {},
   "outputs": [
    {
     "data": {
      "text/plain": [
       "0.9807735533990718"
      ]
     },
     "execution_count": 91,
     "metadata": {},
     "output_type": "execute_result"
    }
   ],
   "source": [
    "calculate_output(input_layer[99])"
   ]
  },
  {
   "cell_type": "markdown",
   "metadata": {},
   "source": [
    "## Error Calculation Types\n",
    "\n",
    "A point worth noting is that our implementation relies on a trivial error calculation and the `MSE` & `RMSE` are more commonly implemented for the purposes of amplifying error s and penalising the higher errors. "
   ]
  },
  {
   "cell_type": "markdown",
   "metadata": {},
   "source": [
    "#### Mean Squared Error\n",
    "\n",
    "$MSE = \\frac{1}{N} \\sum\\limits_{i=1}^{n} (f_i - y_i)^2$"
   ]
  },
  {
   "cell_type": "markdown",
   "metadata": {},
   "source": [
    "#### Root Mean Squared Error\n",
    "\n",
    "\n",
    "$RMSE = \\sqrt{\\frac{1}{N} \\sum\\limits_{i=1}^{n} (f_i - o_i)^2}$"
   ]
  },
  {
   "cell_type": "code",
   "execution_count": null,
   "metadata": {},
   "outputs": [],
   "source": []
  },
  {
   "cell_type": "code",
   "execution_count": null,
   "metadata": {},
   "outputs": [],
   "source": []
  },
  {
   "cell_type": "code",
   "execution_count": null,
   "metadata": {},
   "outputs": [],
   "source": []
  },
  {
   "cell_type": "code",
   "execution_count": null,
   "metadata": {},
   "outputs": [],
   "source": []
  }
 ],
 "metadata": {
  "kernelspec": {
   "display_name": "pykit",
   "language": "python",
   "name": "pykit"
  },
  "language_info": {
   "codemirror_mode": {
    "name": "ipython",
    "version": 3
   },
   "file_extension": ".py",
   "mimetype": "text/x-python",
   "name": "python",
   "nbconvert_exporter": "python",
   "pygments_lexer": "ipython3",
   "version": "3.7.6"
  }
 },
 "nbformat": 4,
 "nbformat_minor": 4
}
