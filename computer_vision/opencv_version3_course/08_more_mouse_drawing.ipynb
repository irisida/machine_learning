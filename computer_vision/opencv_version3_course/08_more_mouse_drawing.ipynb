{
 "cells": [
  {
   "cell_type": "code",
   "execution_count": null,
   "metadata": {},
   "outputs": [],
   "source": [
    "import cv2\n",
    "import numpy as np\n",
    "\n",
    "# vars \n",
    "drawing = False\n",
    "ix, iy = -1,-1\n",
    "\n",
    "# func\n",
    "def draw_rect(event, x,y, flags, params):\n",
    "    global, ix,iy,drawing\n",
    "    \n",
    "    if event == cv2.EVENT_LBUTTONDOWN:\n",
    "        drawing = True\n",
    "        ix,ix = x,y\n",
    "    \n",
    "    elif event == cv2.EVENT_MOUSEMOVE:\n",
    "        if drawing:\n",
    "            cv2.rectangle(img, (ix,iy), (x,y), color=(0,0,255),thickness=2)\n",
    "    \n",
    "    elif event == cv2.EVENT_LBUTTONUP:\n",
    "        drawing = False\n",
    "        cv2.rectangle(img, (ix,iy), (x,y), color=(0,0,255),thickness=2)\n",
    "\n",
    "# img\n",
    "img = np.zeros((800,800,3))\n",
    "\n",
    "cv2.namedWindow(winname=\"my_art\")\n",
    "cv2.setMouseCallback('my_art', draw_rect)\n",
    "\n",
    "while True:\n",
    "    cv2.imshow(\"my_art\", img)\n",
    "    # await esc key\n",
    "    if cv2.waitKey(1) & 0xFF == 27:\n",
    "        break\n",
    "        \n",
    "cv2.destroyAllWindows()"
   ]
  },
  {
   "cell_type": "markdown",
   "metadata": {},
   "source": [
    "# * Kernel issues between openCV and jupyter on OSX\n",
    "\n",
    "best run as a python script in terminal"
   ]
  },
  {
   "cell_type": "code",
   "execution_count": null,
   "metadata": {},
   "outputs": [],
   "source": []
  }
 ],
 "metadata": {
  "kernelspec": {
   "display_name": "cvkit",
   "language": "python",
   "name": "cvkit"
  },
  "language_info": {
   "codemirror_mode": {
    "name": "ipython",
    "version": 3
   },
   "file_extension": ".py",
   "mimetype": "text/x-python",
   "name": "python",
   "nbconvert_exporter": "python",
   "pygments_lexer": "ipython3",
   "version": "3.6.6"
  }
 },
 "nbformat": 4,
 "nbformat_minor": 4
}
