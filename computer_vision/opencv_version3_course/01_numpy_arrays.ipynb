{
 "cells": [
  {
   "cell_type": "markdown",
   "metadata": {},
   "source": [
    "# Numpy basics\n",
    "\n",
    "Q: What is Numpy? \n",
    "\n",
    "A: Numpy is a OSS library for numeric computing. A huge part of the python ecosystem for data science & machine learning. NumPy’s main object is the homogeneous multidimensional array. It is a table of elements (usually numbers), all of the same type, indexed by a tuple of non-negative integers. In NumPy dimensions are called axes."
   ]
  },
  {
   "cell_type": "markdown",
   "metadata": {},
   "source": [
    "# Importing numpy to your notebook or python script\n",
    "\n",
    "It is a common convertion to import the library with an alias. We typically use `as np`. "
   ]
  },
  {
   "cell_type": "code",
   "execution_count": 2,
   "metadata": {},
   "outputs": [],
   "source": [
    "# convention to import it as np\n",
    "import numpy as np"
   ]
  },
  {
   "cell_type": "markdown",
   "metadata": {},
   "source": [
    "To create a numpy array from a standard python list we do:\n",
    "    \n",
    "- Delcare the python list\n",
    "- assign the value of a numpy conversion by passing the python list through `np.array(list-name)`"
   ]
  },
  {
   "cell_type": "code",
   "execution_count": 3,
   "metadata": {},
   "outputs": [
    {
     "name": "stdout",
     "output_type": "stream",
     "text": [
      "<class 'list'>\n",
      "<class 'numpy.ndarray'>\n"
     ]
    }
   ],
   "source": [
    "# convert a normal python list to a numpy array\n",
    "mylist = [1,2,3,4,5]\n",
    "myarr = np.array(mylist)\n",
    "\n",
    "# type checks output\n",
    "print(type(mylist))\n",
    "print(type(myarr))"
   ]
  },
  {
   "cell_type": "markdown",
   "metadata": {},
   "source": [
    "# Array generation helper methods\n",
    "\n",
    "numpy has some array generation helper methods. \n",
    "\n",
    "One such methos is `arange`. This might be understood as _a range_ like the python `range` function. This `arange` can be used to generate arays quickly and in a concise code format, rather than having to use python loops or the more pythonic comprehensions to get to the same result."
   ]
  },
  {
   "cell_type": "code",
   "execution_count": 16,
   "metadata": {},
   "outputs": [
    {
     "name": "stdout",
     "output_type": "stream",
     "text": [
      "[0, 2, 4, 6, 8]\n"
     ]
    }
   ],
   "source": [
    "# generate a list with a loop\n",
    "looplist = []\n",
    "for i in range(10):\n",
    "    if i % 2 == 0:\n",
    "        looplist.append(i)\n",
    "        \n",
    "print(looplist)\n",
    "\n",
    "# You can see that that this takes several lines of code to \n",
    "# create a simple list of values. While functional this is\n",
    "# noisy to digest. "
   ]
  },
  {
   "cell_type": "code",
   "execution_count": 10,
   "metadata": {},
   "outputs": [
    {
     "name": "stdout",
     "output_type": "stream",
     "text": [
      "[0, 2, 4, 6, 8] has a type of <class 'list'>\n",
      "Apply conversion\n",
      "[0 2 4 6 8] has a type of <class 'numpy.ndarray'>\n",
      "[0 2 4 6 8] has a type of <class 'numpy.ndarray'>\n"
     ]
    }
   ],
   "source": [
    "# generate an array of numbers between 1-10 that are divisible by 2\n",
    "# using a python list comprehension. \n",
    "numslist = [x for x in range(10) if x % 2 == 0]\n",
    "print(\"{} has a type of {}\".format(numslist, type(numslist)))\n",
    "\n",
    "# The above can generate the value but we will still have to\n",
    "# convert it to an np.array\n",
    "numslist = np.array(numslist)\n",
    "print(\"Apply conversion\")\n",
    "print(\"{} has a type of {}\".format(numslist, type(numslist)))\n",
    "\n",
    "\n",
    "# the numpy version. One line of code and simple to understand. Start value (inclusive), stop value (exclusive), step value\n",
    "nplist = np.arange(0,10,2)\n",
    "print(\"{} has a type of {}\".format(nplist, type(nplist)))\n",
    "\n",
    "# some additional examples to aide understanding\n",
    "# np.arange(0,22, 3) - 0,3,6,9,12,1,5,18,21\n",
    "# np.arange(0,30,5) - 0,5,10,15,20,25\n",
    "# np.arange(0,100,10) - 0, 10,20,30,40,50,60,70,80,90"
   ]
  },
  {
   "cell_type": "markdown",
   "metadata": {},
   "source": [
    "# Data array shapes \n",
    "\n",
    "Two common uses in numpy are generation of multidimensional arrays of zeros and of values numpy provides two useful functions here: \n",
    "- np.zeros  \n",
    "- np.ones"
   ]
  },
  {
   "cell_type": "code",
   "execution_count": 4,
   "metadata": {},
   "outputs": [
    {
     "data": {
      "text/plain": [
       "array([[0., 0., 0., 0., 0.],\n",
       "       [0., 0., 0., 0., 0.],\n",
       "       [0., 0., 0., 0., 0.],\n",
       "       [0., 0., 0., 0., 0.],\n",
       "       [0., 0., 0., 0., 0.]])"
      ]
     },
     "execution_count": 4,
     "metadata": {},
     "output_type": "execute_result"
    }
   ],
   "source": [
    "# rows and columns is the layout or order \n",
    "# of the shape function call. \n",
    "np.zeros(shape=(5,5))"
   ]
  },
  {
   "cell_type": "code",
   "execution_count": 12,
   "metadata": {},
   "outputs": [
    {
     "data": {
      "text/plain": [
       "array([[1., 1., 1., 1., 1.],\n",
       "       [1., 1., 1., 1., 1.],\n",
       "       [1., 1., 1., 1., 1.],\n",
       "       [1., 1., 1., 1., 1.],\n",
       "       [1., 1., 1., 1., 1.]])"
      ]
     },
     "execution_count": 12,
     "metadata": {},
     "output_type": "execute_result"
    }
   ],
   "source": [
    "# building on the cell above we can generate an array of specifi values\n",
    "# using the ones. \n",
    "\n",
    "vals = np.ones(shape=(5,5))\n",
    "vals.shape\n",
    "vals"
   ]
  },
  {
   "cell_type": "code",
   "execution_count": 14,
   "metadata": {},
   "outputs": [
    {
     "data": {
      "text/plain": [
       "array([[42., 42., 42., 42., 42.],\n",
       "       [42., 42., 42., 42., 42.],\n",
       "       [42., 42., 42., 42., 42.],\n",
       "       [42., 42., 42., 42., 42.],\n",
       "       [42., 42., 42., 42., 42.]])"
      ]
     },
     "execution_count": 14,
     "metadata": {},
     "output_type": "execute_result"
    }
   ],
   "source": [
    "# now lets use the example that we want that % by 5 two\n",
    "# dimensional array to be filled by the number 42\n",
    "# we can say \n",
    "vals = vals*42\n",
    "\n",
    "vals"
   ]
  },
  {
   "cell_type": "code",
   "execution_count": 5,
   "metadata": {},
   "outputs": [
    {
     "data": {
      "text/plain": [
       "array([95, 11, 81, 70, 63, 87, 75,  9, 77, 40])"
      ]
     },
     "execution_count": 5,
     "metadata": {},
     "output_type": "execute_result"
    }
   ],
   "source": [
    "# control random numbers by using a seed\n",
    "np.random.seed(101)\n",
    "arr = np.random.randint(0,100,10)\n",
    "arr"
   ]
  },
  {
   "cell_type": "code",
   "execution_count": 6,
   "metadata": {},
   "outputs": [
    {
     "data": {
      "text/plain": [
       "array([ 4, 63, 40, 60, 92, 64,  5, 12, 93, 40])"
      ]
     },
     "execution_count": 6,
     "metadata": {},
     "output_type": "execute_result"
    }
   ],
   "source": [
    "arr2 = np.random.randint(0,100, 10)\n",
    "arr2 "
   ]
  },
  {
   "cell_type": "code",
   "execution_count": 7,
   "metadata": {},
   "outputs": [
    {
     "name": "stdout",
     "output_type": "stream",
     "text": [
      "min is 9: at index 7 - max is 95: at index 0\n"
     ]
    }
   ],
   "source": [
    "minval = arr.min()\n",
    "minindex = arr.argmin()\n",
    "maxval = arr.max()\n",
    "maxindex = arr.argmax()\n",
    "\n",
    "print(\"min is {}: at index {} - max is {}: at index {}\".format(minval, minindex, maxval, maxindex))"
   ]
  },
  {
   "cell_type": "code",
   "execution_count": 8,
   "metadata": {},
   "outputs": [
    {
     "data": {
      "text/plain": [
       "array([[95, 11, 81, 70, 63],\n",
       "       [87, 75,  9, 77, 40]])"
      ]
     },
     "execution_count": 8,
     "metadata": {},
     "output_type": "execute_result"
    }
   ],
   "source": [
    "arr.reshape((2,5))"
   ]
  },
  {
   "cell_type": "markdown",
   "metadata": {},
   "source": [
    "# Slicing data arrays\n",
    "\n",
    "Slicing in python means taking elements from one given index to another given index. We pass slice instead of index like this: [start:end]. We can also define the step, like this: [start:end:step].\n",
    "\n",
    "Some rules around slicing: \n",
    "- If we don't pass start its considered 0\n",
    "- If we don't pass end its considered length of array in that dimension\n",
    "- If we don't pass step its considered 1"
   ]
  },
  {
   "cell_type": "code",
   "execution_count": 9,
   "metadata": {},
   "outputs": [],
   "source": [
    "mat = np.arange(0,100).reshape(10,10)"
   ]
  },
  {
   "cell_type": "code",
   "execution_count": 10,
   "metadata": {},
   "outputs": [
    {
     "data": {
      "text/plain": [
       "array([[ 0,  1,  2,  3,  4,  5,  6,  7,  8,  9],\n",
       "       [10, 11, 12, 13, 14, 15, 16, 17, 18, 19],\n",
       "       [20, 21, 22, 23, 24, 25, 26, 27, 28, 29],\n",
       "       [30, 31, 32, 33, 34, 35, 36, 37, 38, 39],\n",
       "       [40, 41, 42, 43, 44, 45, 46, 47, 48, 49],\n",
       "       [50, 51, 52, 53, 54, 55, 56, 57, 58, 59],\n",
       "       [60, 61, 62, 63, 64, 65, 66, 67, 68, 69],\n",
       "       [70, 71, 72, 73, 74, 75, 76, 77, 78, 79],\n",
       "       [80, 81, 82, 83, 84, 85, 86, 87, 88, 89],\n",
       "       [90, 91, 92, 93, 94, 95, 96, 97, 98, 99]])"
      ]
     },
     "execution_count": 10,
     "metadata": {},
     "output_type": "execute_result"
    }
   ],
   "source": [
    "mat"
   ]
  },
  {
   "cell_type": "code",
   "execution_count": 11,
   "metadata": {},
   "outputs": [
    {
     "data": {
      "text/plain": [
       "45"
      ]
     },
     "execution_count": 11,
     "metadata": {},
     "output_type": "execute_result"
    }
   ],
   "source": [
    "# using the 10x10 grid is an easy way to understand how the \n",
    "# 2d indexing works. \n",
    "mat[4,5]"
   ]
  },
  {
   "cell_type": "code",
   "execution_count": 12,
   "metadata": {},
   "outputs": [
    {
     "data": {
      "text/plain": [
       "array([[ 2],\n",
       "       [12],\n",
       "       [22],\n",
       "       [32],\n",
       "       [42],\n",
       "       [52],\n",
       "       [62],\n",
       "       [72],\n",
       "       [82],\n",
       "       [92]])"
      ]
     },
     "execution_count": 12,
     "metadata": {},
     "output_type": "execute_result"
    }
   ],
   "source": [
    "# or all rows select the value at \n",
    "# position 2 of each row in the \n",
    "# array and present them as a column\n",
    "mat[:, 2].reshape(10,1)"
   ]
  },
  {
   "cell_type": "code",
   "execution_count": 13,
   "metadata": {},
   "outputs": [
    {
     "data": {
      "text/plain": [
       "array([65, 66, 67, 68, 69])"
      ]
     },
     "execution_count": 13,
     "metadata": {},
     "output_type": "execute_result"
    }
   ],
   "source": [
    "# get the cells 65-69 inclusive\n",
    "mat[6, 5:]"
   ]
  },
  {
   "cell_type": "code",
   "execution_count": 14,
   "metadata": {},
   "outputs": [
    {
     "data": {
      "text/plain": [
       "array([38, 48, 58, 68])"
      ]
     },
     "execution_count": 14,
     "metadata": {},
     "output_type": "execute_result"
    }
   ],
   "source": [
    "# get the cells for 38, 48, 58, 68\n",
    "mat[3:7, 8]"
   ]
  }
 ],
 "metadata": {
  "kernelspec": {
   "display_name": "cvkit",
   "language": "python",
   "name": "cvkit"
  },
  "language_info": {
   "codemirror_mode": {
    "name": "ipython",
    "version": 3
   },
   "file_extension": ".py",
   "mimetype": "text/x-python",
   "name": "python",
   "nbconvert_exporter": "python",
   "pygments_lexer": "ipython3",
   "version": "3.6.6"
  }
 },
 "nbformat": 4,
 "nbformat_minor": 4
}
